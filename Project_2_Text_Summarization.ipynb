{
 "cells": [
  {
   "cell_type": "markdown",
   "id": "ec08a4b1",
   "metadata": {},
   "source": [
    "## Setup Environment"
   ]
  },
  {
   "cell_type": "code",
   "execution_count": 1,
   "id": "8bd5d268",
   "metadata": {
    "scrolled": true
   },
   "outputs": [
    {
     "name": "stdout",
     "output_type": "stream",
     "text": [
      "Looking in indexes: https://pypi.org/simple, https://download.pytorch.org/whl/nightly/cpu\n",
      "Requirement already satisfied: torch in /Users/tatauntoro/anaconda3/lib/python3.11/site-packages (2.2.0.dev20231204)\n",
      "Requirement already satisfied: torchvision in /Users/tatauntoro/anaconda3/lib/python3.11/site-packages (0.17.0.dev20231204)\n",
      "Requirement already satisfied: torchaudio in /Users/tatauntoro/anaconda3/lib/python3.11/site-packages (2.2.0.dev20231204)\n",
      "Requirement already satisfied: filelock in /Users/tatauntoro/anaconda3/lib/python3.11/site-packages (from torch) (3.9.0)\n",
      "Requirement already satisfied: typing-extensions>=4.8.0 in /Users/tatauntoro/anaconda3/lib/python3.11/site-packages (from torch) (4.9.0rc1)\n",
      "Requirement already satisfied: sympy in /Users/tatauntoro/anaconda3/lib/python3.11/site-packages (from torch) (1.11.1)\n",
      "Requirement already satisfied: networkx in /Users/tatauntoro/anaconda3/lib/python3.11/site-packages (from torch) (3.1)\n",
      "Requirement already satisfied: jinja2 in /Users/tatauntoro/anaconda3/lib/python3.11/site-packages (from torch) (3.1.2)\n",
      "Requirement already satisfied: fsspec in /Users/tatauntoro/anaconda3/lib/python3.11/site-packages (from torch) (2023.9.2)\n",
      "Requirement already satisfied: numpy in /Users/tatauntoro/anaconda3/lib/python3.11/site-packages (from torchvision) (1.24.3)\n",
      "Requirement already satisfied: requests in /Users/tatauntoro/anaconda3/lib/python3.11/site-packages (from torchvision) (2.22.0)\n",
      "Requirement already satisfied: pillow!=8.3.*,>=5.3.0 in /Users/tatauntoro/anaconda3/lib/python3.11/site-packages (from torchvision) (9.4.0)\n",
      "Requirement already satisfied: MarkupSafe>=2.0 in /Users/tatauntoro/anaconda3/lib/python3.11/site-packages (from jinja2->torch) (2.1.1)\n",
      "Requirement already satisfied: chardet<3.1.0,>=3.0.2 in /Users/tatauntoro/anaconda3/lib/python3.11/site-packages (from requests->torchvision) (3.0.4)\n",
      "Requirement already satisfied: idna<2.9,>=2.5 in /Users/tatauntoro/anaconda3/lib/python3.11/site-packages (from requests->torchvision) (2.8)\n",
      "Requirement already satisfied: urllib3!=1.25.0,!=1.25.1,<1.26,>=1.21.1 in /Users/tatauntoro/anaconda3/lib/python3.11/site-packages (from requests->torchvision) (1.25.11)\n",
      "Requirement already satisfied: certifi>=2017.4.17 in /Users/tatauntoro/anaconda3/lib/python3.11/site-packages (from requests->torchvision) (2023.7.22)\n",
      "Requirement already satisfied: mpmath>=0.19 in /Users/tatauntoro/anaconda3/lib/python3.11/site-packages (from sympy->torch) (1.3.0)\n"
     ]
    }
   ],
   "source": [
    "!pip3 install --pre torch torchvision torchaudio --extra-index-url https://download.pytorch.org/whl/nightly/cpu"
   ]
  },
  {
   "cell_type": "code",
   "execution_count": 2,
   "id": "766b1db3",
   "metadata": {},
   "outputs": [
    {
     "name": "stdout",
     "output_type": "stream",
     "text": [
      "tensor([1.], device='mps:0')\n"
     ]
    }
   ],
   "source": [
    "import torch\n",
    "if torch.backends.mps.is_available():\n",
    "    mps_device = torch.device(\"mps\")\n",
    "    x = torch.ones(1, device=mps_device)\n",
    "    print (x)\n",
    "else:\n",
    "    print (\"MPS device not found.\")"
   ]
  },
  {
   "cell_type": "code",
   "execution_count": 3,
   "id": "158660f5",
   "metadata": {},
   "outputs": [],
   "source": [
    "device = torch.device('mps')"
   ]
  },
  {
   "cell_type": "code",
   "execution_count": 4,
   "id": "6c7891a8",
   "metadata": {},
   "outputs": [
    {
     "data": {
      "text/plain": [
       "device(type='mps')"
      ]
     },
     "execution_count": 4,
     "metadata": {},
     "output_type": "execute_result"
    }
   ],
   "source": [
    "device"
   ]
  },
  {
   "cell_type": "code",
   "execution_count": 5,
   "id": "3aff1221",
   "metadata": {
    "scrolled": true
   },
   "outputs": [
    {
     "name": "stdout",
     "output_type": "stream",
     "text": [
      "Requirement already satisfied: pip in /Users/tatauntoro/anaconda3/lib/python3.11/site-packages (23.3.1)\n",
      "zsh:1: no matches found: transformers[torch]\n",
      "Requirement already satisfied: tokenizers in /Users/tatauntoro/anaconda3/lib/python3.11/site-packages (0.15.0)\n",
      "Requirement already satisfied: huggingface_hub<1.0,>=0.16.4 in /Users/tatauntoro/anaconda3/lib/python3.11/site-packages (from tokenizers) (0.19.4)\n",
      "Requirement already satisfied: filelock in /Users/tatauntoro/anaconda3/lib/python3.11/site-packages (from huggingface_hub<1.0,>=0.16.4->tokenizers) (3.9.0)\n",
      "Requirement already satisfied: fsspec>=2023.5.0 in /Users/tatauntoro/anaconda3/lib/python3.11/site-packages (from huggingface_hub<1.0,>=0.16.4->tokenizers) (2023.9.2)\n",
      "Requirement already satisfied: requests in /Users/tatauntoro/anaconda3/lib/python3.11/site-packages (from huggingface_hub<1.0,>=0.16.4->tokenizers) (2.22.0)\n",
      "Requirement already satisfied: tqdm>=4.42.1 in /Users/tatauntoro/anaconda3/lib/python3.11/site-packages (from huggingface_hub<1.0,>=0.16.4->tokenizers) (4.65.0)\n",
      "Requirement already satisfied: pyyaml>=5.1 in /Users/tatauntoro/anaconda3/lib/python3.11/site-packages (from huggingface_hub<1.0,>=0.16.4->tokenizers) (6.0)\n",
      "Requirement already satisfied: typing-extensions>=3.7.4.3 in /Users/tatauntoro/anaconda3/lib/python3.11/site-packages (from huggingface_hub<1.0,>=0.16.4->tokenizers) (4.9.0rc1)\n",
      "Requirement already satisfied: packaging>=20.9 in /Users/tatauntoro/anaconda3/lib/python3.11/site-packages (from huggingface_hub<1.0,>=0.16.4->tokenizers) (23.0)\n",
      "Requirement already satisfied: chardet<3.1.0,>=3.0.2 in /Users/tatauntoro/anaconda3/lib/python3.11/site-packages (from requests->huggingface_hub<1.0,>=0.16.4->tokenizers) (3.0.4)\n",
      "Requirement already satisfied: idna<2.9,>=2.5 in /Users/tatauntoro/anaconda3/lib/python3.11/site-packages (from requests->huggingface_hub<1.0,>=0.16.4->tokenizers) (2.8)\n",
      "Requirement already satisfied: urllib3!=1.25.0,!=1.25.1,<1.26,>=1.21.1 in /Users/tatauntoro/anaconda3/lib/python3.11/site-packages (from requests->huggingface_hub<1.0,>=0.16.4->tokenizers) (1.25.11)\n",
      "Requirement already satisfied: certifi>=2017.4.17 in /Users/tatauntoro/anaconda3/lib/python3.11/site-packages (from requests->huggingface_hub<1.0,>=0.16.4->tokenizers) (2023.7.22)\n",
      "Requirement already satisfied: transformers in /Users/tatauntoro/anaconda3/lib/python3.11/site-packages (4.35.2)\n",
      "Requirement already satisfied: filelock in /Users/tatauntoro/anaconda3/lib/python3.11/site-packages (from transformers) (3.9.0)\n",
      "Requirement already satisfied: huggingface-hub<1.0,>=0.16.4 in /Users/tatauntoro/anaconda3/lib/python3.11/site-packages (from transformers) (0.19.4)\n",
      "Requirement already satisfied: numpy>=1.17 in /Users/tatauntoro/anaconda3/lib/python3.11/site-packages (from transformers) (1.24.3)\n",
      "Requirement already satisfied: packaging>=20.0 in /Users/tatauntoro/anaconda3/lib/python3.11/site-packages (from transformers) (23.0)\n",
      "Requirement already satisfied: pyyaml>=5.1 in /Users/tatauntoro/anaconda3/lib/python3.11/site-packages (from transformers) (6.0)\n",
      "Requirement already satisfied: regex!=2019.12.17 in /Users/tatauntoro/anaconda3/lib/python3.11/site-packages (from transformers) (2020.4.4)\n",
      "Requirement already satisfied: requests in /Users/tatauntoro/anaconda3/lib/python3.11/site-packages (from transformers) (2.22.0)\n",
      "Requirement already satisfied: tokenizers<0.19,>=0.14 in /Users/tatauntoro/anaconda3/lib/python3.11/site-packages (from transformers) (0.15.0)\n",
      "Requirement already satisfied: safetensors>=0.3.1 in /Users/tatauntoro/anaconda3/lib/python3.11/site-packages (from transformers) (0.4.0)\n",
      "Requirement already satisfied: tqdm>=4.27 in /Users/tatauntoro/anaconda3/lib/python3.11/site-packages (from transformers) (4.65.0)\n",
      "Requirement already satisfied: fsspec>=2023.5.0 in /Users/tatauntoro/anaconda3/lib/python3.11/site-packages (from huggingface-hub<1.0,>=0.16.4->transformers) (2023.9.2)\n",
      "Requirement already satisfied: typing-extensions>=3.7.4.3 in /Users/tatauntoro/anaconda3/lib/python3.11/site-packages (from huggingface-hub<1.0,>=0.16.4->transformers) (4.9.0rc1)\n",
      "Requirement already satisfied: chardet<3.1.0,>=3.0.2 in /Users/tatauntoro/anaconda3/lib/python3.11/site-packages (from requests->transformers) (3.0.4)\n",
      "Requirement already satisfied: idna<2.9,>=2.5 in /Users/tatauntoro/anaconda3/lib/python3.11/site-packages (from requests->transformers) (2.8)\n",
      "Requirement already satisfied: urllib3!=1.25.0,!=1.25.1,<1.26,>=1.21.1 in /Users/tatauntoro/anaconda3/lib/python3.11/site-packages (from requests->transformers) (1.25.11)\n",
      "Requirement already satisfied: certifi>=2017.4.17 in /Users/tatauntoro/anaconda3/lib/python3.11/site-packages (from requests->transformers) (2023.7.22)\n",
      "Requirement already satisfied: datasets in /Users/tatauntoro/anaconda3/lib/python3.11/site-packages (2.15.0)\n",
      "Requirement already satisfied: numpy>=1.17 in /Users/tatauntoro/anaconda3/lib/python3.11/site-packages (from datasets) (1.24.3)\n",
      "Requirement already satisfied: pyarrow>=8.0.0 in /Users/tatauntoro/anaconda3/lib/python3.11/site-packages (from datasets) (11.0.0)\n",
      "Requirement already satisfied: pyarrow-hotfix in /Users/tatauntoro/anaconda3/lib/python3.11/site-packages (from datasets) (0.6)\n",
      "Requirement already satisfied: dill<0.3.8,>=0.3.0 in /Users/tatauntoro/anaconda3/lib/python3.11/site-packages (from datasets) (0.3.6)\n",
      "Requirement already satisfied: pandas in /Users/tatauntoro/anaconda3/lib/python3.11/site-packages (from datasets) (1.5.3)\n",
      "Requirement already satisfied: requests>=2.19.0 in /Users/tatauntoro/anaconda3/lib/python3.11/site-packages (from datasets) (2.22.0)\n",
      "Requirement already satisfied: tqdm>=4.62.1 in /Users/tatauntoro/anaconda3/lib/python3.11/site-packages (from datasets) (4.65.0)\n",
      "Requirement already satisfied: xxhash in /Users/tatauntoro/anaconda3/lib/python3.11/site-packages (from datasets) (2.0.2)\n",
      "Requirement already satisfied: multiprocess in /Users/tatauntoro/anaconda3/lib/python3.11/site-packages (from datasets) (0.70.14)\n",
      "Requirement already satisfied: fsspec<=2023.10.0,>=2023.1.0 in /Users/tatauntoro/anaconda3/lib/python3.11/site-packages (from fsspec[http]<=2023.10.0,>=2023.1.0->datasets) (2023.9.2)\n",
      "Requirement already satisfied: aiohttp in /Users/tatauntoro/anaconda3/lib/python3.11/site-packages (from datasets) (3.8.3)\n",
      "Requirement already satisfied: huggingface-hub>=0.18.0 in /Users/tatauntoro/anaconda3/lib/python3.11/site-packages (from datasets) (0.19.4)\n",
      "Requirement already satisfied: packaging in /Users/tatauntoro/anaconda3/lib/python3.11/site-packages (from datasets) (23.0)\n",
      "Requirement already satisfied: pyyaml>=5.1 in /Users/tatauntoro/anaconda3/lib/python3.11/site-packages (from datasets) (6.0)\n",
      "Requirement already satisfied: attrs>=17.3.0 in /Users/tatauntoro/anaconda3/lib/python3.11/site-packages (from aiohttp->datasets) (22.1.0)\n",
      "Requirement already satisfied: charset-normalizer<3.0,>=2.0 in /Users/tatauntoro/anaconda3/lib/python3.11/site-packages (from aiohttp->datasets) (2.0.4)\n",
      "Requirement already satisfied: multidict<7.0,>=4.5 in /Users/tatauntoro/anaconda3/lib/python3.11/site-packages (from aiohttp->datasets) (6.0.2)\n",
      "Requirement already satisfied: async-timeout<5.0,>=4.0.0a3 in /Users/tatauntoro/anaconda3/lib/python3.11/site-packages (from aiohttp->datasets) (4.0.2)\n",
      "Requirement already satisfied: yarl<2.0,>=1.0 in /Users/tatauntoro/anaconda3/lib/python3.11/site-packages (from aiohttp->datasets) (1.8.1)\n",
      "Requirement already satisfied: frozenlist>=1.1.1 in /Users/tatauntoro/anaconda3/lib/python3.11/site-packages (from aiohttp->datasets) (1.3.3)\n",
      "Requirement already satisfied: aiosignal>=1.1.2 in /Users/tatauntoro/anaconda3/lib/python3.11/site-packages (from aiohttp->datasets) (1.2.0)\n",
      "Requirement already satisfied: filelock in /Users/tatauntoro/anaconda3/lib/python3.11/site-packages (from huggingface-hub>=0.18.0->datasets) (3.9.0)\n",
      "Requirement already satisfied: typing-extensions>=3.7.4.3 in /Users/tatauntoro/anaconda3/lib/python3.11/site-packages (from huggingface-hub>=0.18.0->datasets) (4.9.0rc1)\n",
      "Requirement already satisfied: chardet<3.1.0,>=3.0.2 in /Users/tatauntoro/anaconda3/lib/python3.11/site-packages (from requests>=2.19.0->datasets) (3.0.4)\n",
      "Requirement already satisfied: idna<2.9,>=2.5 in /Users/tatauntoro/anaconda3/lib/python3.11/site-packages (from requests>=2.19.0->datasets) (2.8)\n",
      "Requirement already satisfied: urllib3!=1.25.0,!=1.25.1,<1.26,>=1.21.1 in /Users/tatauntoro/anaconda3/lib/python3.11/site-packages (from requests>=2.19.0->datasets) (1.25.11)\n",
      "Requirement already satisfied: certifi>=2017.4.17 in /Users/tatauntoro/anaconda3/lib/python3.11/site-packages (from requests>=2.19.0->datasets) (2023.7.22)\n",
      "Requirement already satisfied: python-dateutil>=2.8.1 in /Users/tatauntoro/anaconda3/lib/python3.11/site-packages (from pandas->datasets) (2.8.2)\n",
      "Requirement already satisfied: pytz>=2020.1 in /Users/tatauntoro/anaconda3/lib/python3.11/site-packages (from pandas->datasets) (2022.7)\n",
      "Requirement already satisfied: six>=1.5 in /Users/tatauntoro/anaconda3/lib/python3.11/site-packages (from python-dateutil>=2.8.1->pandas->datasets) (1.16.0)\n"
     ]
    },
    {
     "name": "stdout",
     "output_type": "stream",
     "text": [
      "Requirement already satisfied: rouge in /Users/tatauntoro/anaconda3/lib/python3.11/site-packages (1.0.1)\n",
      "Requirement already satisfied: six in /Users/tatauntoro/anaconda3/lib/python3.11/site-packages (from rouge) (1.16.0)\n",
      "Requirement already satisfied: datasets in /Users/tatauntoro/anaconda3/lib/python3.11/site-packages (2.15.0)\n",
      "Requirement already satisfied: numpy>=1.17 in /Users/tatauntoro/anaconda3/lib/python3.11/site-packages (from datasets) (1.24.3)\n",
      "Requirement already satisfied: pyarrow>=8.0.0 in /Users/tatauntoro/anaconda3/lib/python3.11/site-packages (from datasets) (11.0.0)\n",
      "Requirement already satisfied: pyarrow-hotfix in /Users/tatauntoro/anaconda3/lib/python3.11/site-packages (from datasets) (0.6)\n",
      "Requirement already satisfied: dill<0.3.8,>=0.3.0 in /Users/tatauntoro/anaconda3/lib/python3.11/site-packages (from datasets) (0.3.6)\n",
      "Requirement already satisfied: pandas in /Users/tatauntoro/anaconda3/lib/python3.11/site-packages (from datasets) (1.5.3)\n",
      "Requirement already satisfied: requests>=2.19.0 in /Users/tatauntoro/anaconda3/lib/python3.11/site-packages (from datasets) (2.22.0)\n",
      "Requirement already satisfied: tqdm>=4.62.1 in /Users/tatauntoro/anaconda3/lib/python3.11/site-packages (from datasets) (4.65.0)\n",
      "Requirement already satisfied: xxhash in /Users/tatauntoro/anaconda3/lib/python3.11/site-packages (from datasets) (2.0.2)\n",
      "Requirement already satisfied: multiprocess in /Users/tatauntoro/anaconda3/lib/python3.11/site-packages (from datasets) (0.70.14)\n",
      "Requirement already satisfied: fsspec<=2023.10.0,>=2023.1.0 in /Users/tatauntoro/anaconda3/lib/python3.11/site-packages (from fsspec[http]<=2023.10.0,>=2023.1.0->datasets) (2023.9.2)\n",
      "Requirement already satisfied: aiohttp in /Users/tatauntoro/anaconda3/lib/python3.11/site-packages (from datasets) (3.8.3)\n",
      "Requirement already satisfied: huggingface-hub>=0.18.0 in /Users/tatauntoro/anaconda3/lib/python3.11/site-packages (from datasets) (0.19.4)\n",
      "Requirement already satisfied: packaging in /Users/tatauntoro/anaconda3/lib/python3.11/site-packages (from datasets) (23.0)\n",
      "Requirement already satisfied: pyyaml>=5.1 in /Users/tatauntoro/anaconda3/lib/python3.11/site-packages (from datasets) (6.0)\n",
      "Requirement already satisfied: attrs>=17.3.0 in /Users/tatauntoro/anaconda3/lib/python3.11/site-packages (from aiohttp->datasets) (22.1.0)\n",
      "Requirement already satisfied: charset-normalizer<3.0,>=2.0 in /Users/tatauntoro/anaconda3/lib/python3.11/site-packages (from aiohttp->datasets) (2.0.4)\n",
      "Requirement already satisfied: multidict<7.0,>=4.5 in /Users/tatauntoro/anaconda3/lib/python3.11/site-packages (from aiohttp->datasets) (6.0.2)\n",
      "Requirement already satisfied: async-timeout<5.0,>=4.0.0a3 in /Users/tatauntoro/anaconda3/lib/python3.11/site-packages (from aiohttp->datasets) (4.0.2)\n",
      "Requirement already satisfied: yarl<2.0,>=1.0 in /Users/tatauntoro/anaconda3/lib/python3.11/site-packages (from aiohttp->datasets) (1.8.1)\n",
      "Requirement already satisfied: frozenlist>=1.1.1 in /Users/tatauntoro/anaconda3/lib/python3.11/site-packages (from aiohttp->datasets) (1.3.3)\n",
      "Requirement already satisfied: aiosignal>=1.1.2 in /Users/tatauntoro/anaconda3/lib/python3.11/site-packages (from aiohttp->datasets) (1.2.0)\n",
      "Requirement already satisfied: filelock in /Users/tatauntoro/anaconda3/lib/python3.11/site-packages (from huggingface-hub>=0.18.0->datasets) (3.9.0)\n",
      "Requirement already satisfied: typing-extensions>=3.7.4.3 in /Users/tatauntoro/anaconda3/lib/python3.11/site-packages (from huggingface-hub>=0.18.0->datasets) (4.9.0rc1)\n",
      "Requirement already satisfied: chardet<3.1.0,>=3.0.2 in /Users/tatauntoro/anaconda3/lib/python3.11/site-packages (from requests>=2.19.0->datasets) (3.0.4)\n",
      "Requirement already satisfied: idna<2.9,>=2.5 in /Users/tatauntoro/anaconda3/lib/python3.11/site-packages (from requests>=2.19.0->datasets) (2.8)\n",
      "Requirement already satisfied: urllib3!=1.25.0,!=1.25.1,<1.26,>=1.21.1 in /Users/tatauntoro/anaconda3/lib/python3.11/site-packages (from requests>=2.19.0->datasets) (1.25.11)\n",
      "Requirement already satisfied: certifi>=2017.4.17 in /Users/tatauntoro/anaconda3/lib/python3.11/site-packages (from requests>=2.19.0->datasets) (2023.7.22)\n",
      "Requirement already satisfied: python-dateutil>=2.8.1 in /Users/tatauntoro/anaconda3/lib/python3.11/site-packages (from pandas->datasets) (2.8.2)\n",
      "Requirement already satisfied: pytz>=2020.1 in /Users/tatauntoro/anaconda3/lib/python3.11/site-packages (from pandas->datasets) (2022.7)\n",
      "Requirement already satisfied: six>=1.5 in /Users/tatauntoro/anaconda3/lib/python3.11/site-packages (from python-dateutil>=2.8.1->pandas->datasets) (1.16.0)\n"
     ]
    }
   ],
   "source": [
    "! pip install --upgrade pip\n",
    "! pip install transformers[torch]\n",
    "! pip install tokenizers\n",
    "! pip install --upgrade transformers\n",
    "! pip install datasets\n",
    "! pip install rouge\n",
    "! pip install --upgrade datasets"
   ]
  },
  {
   "cell_type": "code",
   "execution_count": 9,
   "id": "4c25407c",
   "metadata": {},
   "outputs": [],
   "source": [
    "import pandas as pd\n",
    "import torch\n",
    "from torch.utils.data import DataLoader, TensorDataset\n",
    "from datasets import load_dataset, Dataset\n",
    "from transformers import BertTokenizer, BertForSequenceClassification\n",
    "from transformers import pipeline\n",
    "from transformers import AutoTokenizer, AutoModelForSeq2SeqLM\n",
    "from transformers import EncoderDecoderModel, BertTokenizer\n",
    "from transformers import BertConfig, EncoderDecoderConfig, EncoderDecoderModel\n",
    "from transformers import DataCollatorForSeq2Seq, AutoModelForSeq2SeqLM, Seq2SeqTrainingArguments, Seq2SeqTrainer\n",
    "from rouge import Rouge\n",
    "from tqdm import tqdm\n",
    "import os\n",
    "import json"
   ]
  },
  {
   "cell_type": "markdown",
   "id": "13032f87",
   "metadata": {},
   "source": [
    "## Load Data"
   ]
  },
  {
   "cell_type": "markdown",
   "id": "d3c6c4b3",
   "metadata": {},
   "source": [
    "- Canonical Data"
   ]
  },
  {
   "cell_type": "code",
   "execution_count": 10,
   "id": "6a1c5d18",
   "metadata": {},
   "outputs": [],
   "source": [
    "def load_json_files(directory):\n",
    "    data = {}\n",
    "    for root, dirs, files in os.walk(directory):\n",
    "        for file in files:\n",
    "            if file.endswith(\".json\"):\n",
    "                file_path = os.path.join(root, file)\n",
    "                with open(file_path, \"r\", encoding=\"utf-8\") as json_file:\n",
    "                    data[file] = json.load(json_file)\n",
    "    return data\n",
    "\n",
    "dev_path = \"./liputan6_data/canonical/dev/\"\n",
    "test_path = \"./liputan6_data/canonical/test/\"\n",
    "train_path = \"./liputan6_data/canonical/train/\"\n",
    "\n",
    "data_canonical_dev = load_json_files(dev_path)\n",
    "data_canonical_test = load_json_files(test_path)\n",
    "data_canonical_train = load_json_files(train_path)"
   ]
  },
  {
   "cell_type": "markdown",
   "id": "029207c4",
   "metadata": {},
   "source": [
    "## Change Canonical Data to DataFrame"
   ]
  },
  {
   "cell_type": "code",
   "execution_count": 11,
   "id": "f7e9c4a0",
   "metadata": {},
   "outputs": [],
   "source": [
    "pd.set_option('display.max_colwidth', None)"
   ]
  },
  {
   "cell_type": "markdown",
   "id": "31cb5c9a",
   "metadata": {},
   "source": [
    "- Canonical Dev Dataframe"
   ]
  },
  {
   "cell_type": "code",
   "execution_count": 12,
   "id": "f8dea413",
   "metadata": {
    "scrolled": true
   },
   "outputs": [
    {
     "data": {
      "text/html": [
       "<div>\n",
       "<style scoped>\n",
       "    .dataframe tbody tr th:only-of-type {\n",
       "        vertical-align: middle;\n",
       "    }\n",
       "\n",
       "    .dataframe tbody tr th {\n",
       "        vertical-align: top;\n",
       "    }\n",
       "\n",
       "    .dataframe thead th {\n",
       "        text-align: right;\n",
       "    }\n",
       "</style>\n",
       "<table border=\"1\" class=\"dataframe\">\n",
       "  <thead>\n",
       "    <tr style=\"text-align: right;\">\n",
       "      <th></th>\n",
       "      <th>clean_article</th>\n",
       "      <th>clean_summary</th>\n",
       "      <th>extractive_summary</th>\n",
       "    </tr>\n",
       "  </thead>\n",
       "  <tbody>\n",
       "    <tr>\n",
       "      <th>3721.json</th>\n",
       "      <td>[[Liputan6, ., com, ,, Jakarta, :, Keinginan, untuk, menindaklanjuti, hasil, curah, pendapat, yang, diprakarsai, Kwik, Kian, Gie, ,, semakin, mengental, .], [Buktinya, ,, beberapa, anggota, DPR, ngebet, membentuk, Forum, Lobi, .], [Ketua, DPR, Akbar, Tandjung, baru-baru, ini, ,, mempersilakan, para, wakil, rakyat, yang, ingin, membentuk, forum, tersebut, .], [Namun, ,, Akbar, menegaskan, ,, pembentukan, forum, tersebut, bukan, bagian, dari, mekanisme, DPR, .], [Menurut, Akbar, ,, hasil, curah, pendapat, 11, November, silam, ,, bisa, saja, dimasukkan, dalam, agenda, dewan, .], [Asalkan, ,, kata, Ketua, Umum, Golkar, ini, ,, semua, proses, harus, berjalan, sesuai, prosedur, yang, ada, .], [Artinya, ,, itu, harus, disepakati, melalui, rapat, fraksi, dan, dibawa, ke, Badan, Musyawarah, .], [\", Bila, Bamus, telah, merumuskannya, menjadi, sebuah, usulan, agenda, ,, maka, dapat, dibawa, ke, rapat, paripurna, yang, nantinya, akan, menjadi, agenda, DPR, ,, \", kata, Akbar, ., (, YYT/Diah, Kusuma, dan, Prihandoyo, ), .]]</td>\n",
       "      <td>[[Sebagian, anggota, DPR, berniat, besar, menindaklanjuti, hasil, curah, pendapat, menjadi, agenda, dewan, .], [Akbar, Tandjung, setuju, membentuk, Forum, Lobi, ,, asal, ,, sesuai, prosedur, yang, ada, di, DPR, .]]</td>\n",
       "      <td>[1, 4]</td>\n",
       "    </tr>\n",
       "    <tr>\n",
       "      <th>2833.json</th>\n",
       "      <td>[[Liputan6, ., com, ,, Jakarta, :, Gubernur, DKI, Jakarta, Sutiyoso, mengakui, ,, pendapatan, pajak, dari, kendaraan, bermotor, khususnya, mobil, mewah, tidak, didapat, dengan, optimal, .], [Guna, meningkatkan, Pendapatan, Asli, Daerah, DKI, Jakarta, ,, sutiyoso, meminta, Kepala, Dinas, Pendapatan, Daerah, menertibkan, penerimaan, pajak, mobil, mewah, yang, selama, ini, dinilai, tak, transparan, .], [Penegasan, ini, disampaikannya, seusai, meresmikan, Gedung, Kantor, Bersama, Samsat, Unit, Pelayanan, Pajak, Kendaraan, Bermotor, dan, Bea, Balik, Nama, Kendaraan, Bermotor, di, Jakarta, Barat, ,, Jumat, (, 27/10, ), .], [Pajak, mobil, mewah, ,, kata, Sutiyoso, ,, seharusnya, dapat, dioptimalkan, seiring, dengan, banyaknya, mobil, mewah, yang, masuk, ke, Indonesia, .], [Selama, ini, pemilik, mobil, mewah, membayar, pajaknya, melalui, oknum, dengan, biaya, lebih, murah, .], [Karena, itu, ,, Pemerintah, Daerah, Jakarta, akan, bekerja, sama, dengan, Kepolisian, Daerah, Metro, Jaya, untuk, menangani, sejumlah, oknum, yang, membiarkan, pemilik, mobil, mewah, tidak, membayar, pajak, .], [Menurut, Sutiyoso, ,, pajak, kendaraan, bermotor, adalah, andalan, utama, PAD, DKI, Jakarta, .], [Pemilik, mobil, mewah, sudah, sepantasnya, dikenakan, pajak, lebih, mahal, karena, mereka, tergolong, orang, kaya, ., (, ULF/Insan, Kamil, dan, Satya, Pandia, ), .]]</td>\n",
       "      <td>[[Pendapatan, Asli, Daerah, Jakarta, kerap, terkumpul, secara, tak, optimal, .], [Penyebabnya, ,, banyak, pemilik, mobil, mewah, yang, membayar, pajak, lewat, calo, .]]</td>\n",
       "      <td>[1, 4]</td>\n",
       "    </tr>\n",
       "    <tr>\n",
       "      <th>729.json</th>\n",
       "      <td>[[Liputan6, ., com, ,, Jakarta, :, Sejumlah, mobil, yang, terjebak, di, ruang, basement, Gedung, Bursa, Efek, Jakarta, akibat, ledakan, bom, di, lantai, parkir, ,, Jumat, (, 15/9, ), pagi, ,, mulai, diambil, pemiliknya, .], [Sebagian, mobil, lainnya, belum, bisa, dikeluarkan, karena, masih, harus, diperiksa, tim, dari, Pusat, Laboratorium, Forensik, Kepolisian, Republik, Indonesia, .], [Dari, pantauan, SCTV, ,, sekitar, pukul, 10, ., 00, WIB, ,, jumlah, mobil, yang, sudah, dikeluarkan, mencapai, 45, unit, .], [Untuk, mengambil, mobil, tersebut, ,, para, pemilik, harus, menunjukkan, bukti, kepemilikan, ,, seperti, Surat, Tanda, Nomor, Kendaraan, Bermotor, ,, Buku, Pemilik, Kendaraan, Bermotor, ,, dan, karcis, parkir, .], [Mobil, yang, boleh, diambil, adalah, mobil, yang, berada, di, luar, garis, polisi, .], [Sedangkan, mobil, yang, berada, di, dalam, garis, polisi, belum, bisa, diambil, seraya, menunggu, izin, dari, Tim, Puslabfor, Polri, .], [Hal, itu, dilakukan, agar, penyelidikan, polisi, tak, mengalami, gangguan, .], [Menurut, petugas, parkir, ,, jumlah, total, mobil, di, lantai, P2, saat, terjadi, ledakan, mencapai, 246, unit, .], [Dari, jumlah, itu, hanya, 73, unit, mobil, yang, dalam, kondisi, baik, .], [Sementara, itu, ,, empat, anggota, Dewan, Perwakilan, Rakyat, RI, dari, Fraksi, Partai, Demokrasi, Indonesia-Perjuangan, mengunjungi, BEJ, .], [Menurut, Sukowaluyo, Mintoraharjo, ,, kasus, peledakan, ini, harus, secepatnya, dituntaskan, .], [Ini, dikarenakan, bursa, efek, merupakan, institusi, penting, ,, yaitu, sebagai, salah, satu, simbol, stabilitas, perekonomian, nasional, .], [Hingga, sekitar, pukul, 11, ., 00, WIB, puluhan, karyawan, yang, berkantor, di, Gedung, BEJ, terlihat, duduk-duduk, di, lobi, .], [Mereka, tampak, membicarakan, insiden, yang, telah, menelan, korban, jiwa, itu, ., (, ULF/Roy, Akhmad, dan, Dwi, Guntoro, Wicaksono, ), .]]</td>\n",
       "      <td>[[Sejumlah, mobil, yang, terjebak, di, BEJ, sudah, mulai, dikeluarkan, .], [Dari, 246, mobil, hanya, 73, unit, yang, kondisinya, baik, .]]</td>\n",
       "      <td>[4, 8]</td>\n",
       "    </tr>\n",
       "    <tr>\n",
       "      <th>6523.json</th>\n",
       "      <td>[[Liputan6, ., com, ,, Medan, :, Kepolisian, Daerah, Sumatera, Utara, meringkus, tiga, tersangka, kasus, peledakan, bom, pada, 15, lokasi, gereja, di, Medan, .], [Dari, tangan, tersangka, polisi, menyita, barang, bukti, berupa, peralatan, perakit, bom, dan, sejumlah, uang, kontan, .], [Demikian, dijelaskan, Kepala, Polda, Sumut, Inspektur, Jenderal, Polisi, Hotman, Siagian, ,, Selasa, (, 16/1, ), .], [Menurut, Kapolda, ,, ketiga, tersangka, ditahan, sejak, hari, Kamis, silam, .], [Mereka, adalah, Edi, Sugiarto, warga, kawasan, Jalan, Pimpinan, ,, Hakim, alias, Fadli, warga, Jalan, Kolam, ,, dan, Insinyur, Azis, alias, Lingga, penduduk, Aceh, Tengah, .], [Sejauh, ini, ,, meski, diketahui, Azis, adalah, tahanan, politik, kasus, GAM, yang, dilepas, beberapa, tahun, silam, ,, Polda, Sumut, belum, menemukan, bukti, keterkaitan, para, pelaku, dengan, Kelompok, Gerakan, Aceh, Merdeka, .], [Ketiganya, ditangkap, di, rumah, kontrakan, mereka, masing-masing, .], [Dari, hasil, pemeriksaan, ,, Kata, Hotman, ,, tersangka, Edi, bekerja, sebagai, perakit, elektrik, 15, bom, dengan, upah, Rp, 500, ribu, per, bom, .], [Sedangkan, Ir, .], [Azis, dan, Hakim, adalah, pembuat, komposisi, bom, .], [Sementara, Edi, adalah, perancang, rangkaian, elektrik, alat, peledak, itu, .], [Hotman, menambahkan, ,, polisi, juga, menyita, alat, perakit, bom, seperti, solder, ,, multi, tester, ,, rangkaian, bom, ,, weaker, ,, batu, baterai, ,, isian, bom, ,, kontainer, ,, dan, uang, kontan, Rp, 159, juta, yang, akan, digunakan, kawanan, untuk, mencari, senjata, .], [Polisi, juga, masih, mengeja, 11, tersangka, yang, menjadi, pengantar, bom, .], [Tiga, orang, telah, diketahui, identitasnya, ,, yaitu, Polim, alias, Kiswan, ,, Zulkarnaen, ,, dan, Ayamuda, ., (, PIN/Panogari, Panggabean, dan, Amal, Rambe, ), .]]</td>\n",
       "      <td>[[Polda, Sumatra, Utara, menahan, tiga, tersangka, perakit, bom, yang, meledakkan, sejumlah, gereja, di, Medan, ,, malam, Natal, silam, .], [Polda, juga, menyita, sejumlah, peralatan, dan, uang, kontan, .]]</td>\n",
       "      <td>[0, 1]</td>\n",
       "    </tr>\n",
       "    <tr>\n",
       "      <th>6489.json</th>\n",
       "      <td>[[Liputan6, ., com, ,, Jakarta, :, Ratusan, mobil, selundupan, yang, berhasil, disita, Bea, dan, Cukai, ,, sejak, enam, bulan, terakhir, ,, akan, dilelang, pada, pekan, ini, .], [Menurut, rencana, ,, hasil, lelang, akan, digunakan, untuk, menalangi, impor, bea, masuk, barang, yang, tak, dibayarkan, oleh, para, importir, nakal, tersebut, .], [Sebagian, besar, mobil, mewah, bekas, yang, akan, dilelang, Kantor, Wilayah, IV, Tanjungpriok, ,, Jakarta, Utara, itu, ,, berasal, dari, Singapura, dan, Jepang, .], [Biasanya, ,, modus, operandi, yang, dilakukan, untuk, menyelundupkan, mobil, impor, bekas, itu, adalah, dengan, penyalahgunaan, dokumen, impor, .], [Mobil, bekas, itu, dikirim, dengan, menggunakan, kontainer, yang, berbeda, .], [Padahal, ,, berdasarkan, prosedur, ,, impor, mobil, bekas, tak, boleh, dilakukan, dengan, menggunakan, peti, kemas, .], [Merujuk, data, Kanwil, IV, Tanjungpriok, ,, sejak, enam, bulan, terakhir, ,, mobil, mewah, bekas, yang, berhasil, disita, sekitar, 130, unit, .], [Diperkirakan, ,, total, kerugian, negara, akibat, kegiatan, tersebut, sekitar, Rp, 56, miliar, .], [Selain, itu, ,, pada, kurun, waktu, yang, sama, ,, Kanwil, Bea, Cukai, Tanjungpriok, juga, berhasil, menyita, sekitar, 200, mobil, mewah, baru, yang, diimpor, dengan, cara, ilegal, .], [Dari, jumlah, tersebut, ,, diperkirakan, negara, mengalami, kerugian, sekitar, Rp, 1, triliun, .], [Bea, dan, Cukai, juga, akan, melelang, sekitar, 15, ribu, tas, olah, raga, ilegal, dari, berbagai, merek, terkenal, ., (, ICH/Arfan, Yap, Bano, ), .]]</td>\n",
       "      <td>[[Bea, dan, Cukai, Jakarta, akan, melelang, ratusan, mobil, mewah, impor, ilegal, .], [Selain, itu, ,, puluhan, ribu, tas, impor, ilegal, juga, akan, dilelang, .]]</td>\n",
       "      <td>[2, 10]</td>\n",
       "    </tr>\n",
       "  </tbody>\n",
       "</table>\n",
       "</div>"
      ],
      "text/plain": [
       "                                                                                                                                                                                                                                                                                                                                                                                                                                                                                                                                                                                                                                                                                                                                                                                                                                                                                                                                                                                                                                                                                                                                                                                                                                                                                                                                                                                                                                                                                                                                                                                                                                                                                                                                                                                                                                                                                                                                                           clean_article  \\\n",
       "3721.json                                                                                                                                                                                                                                                                                                                                                                                                                                                                                                                                                                                                                                                                                                                                                                                                                                                                                              [[Liputan6, ., com, ,, Jakarta, :, Keinginan, untuk, menindaklanjuti, hasil, curah, pendapat, yang, diprakarsai, Kwik, Kian, Gie, ,, semakin, mengental, .], [Buktinya, ,, beberapa, anggota, DPR, ngebet, membentuk, Forum, Lobi, .], [Ketua, DPR, Akbar, Tandjung, baru-baru, ini, ,, mempersilakan, para, wakil, rakyat, yang, ingin, membentuk, forum, tersebut, .], [Namun, ,, Akbar, menegaskan, ,, pembentukan, forum, tersebut, bukan, bagian, dari, mekanisme, DPR, .], [Menurut, Akbar, ,, hasil, curah, pendapat, 11, November, silam, ,, bisa, saja, dimasukkan, dalam, agenda, dewan, .], [Asalkan, ,, kata, Ketua, Umum, Golkar, ini, ,, semua, proses, harus, berjalan, sesuai, prosedur, yang, ada, .], [Artinya, ,, itu, harus, disepakati, melalui, rapat, fraksi, dan, dibawa, ke, Badan, Musyawarah, .], [\", Bila, Bamus, telah, merumuskannya, menjadi, sebuah, usulan, agenda, ,, maka, dapat, dibawa, ke, rapat, paripurna, yang, nantinya, akan, menjadi, agenda, DPR, ,, \", kata, Akbar, ., (, YYT/Diah, Kusuma, dan, Prihandoyo, ), .]]   \n",
       "2833.json                                                                                                                                                                                                                                                                                                                                                                                                                                                                                                                                                 [[Liputan6, ., com, ,, Jakarta, :, Gubernur, DKI, Jakarta, Sutiyoso, mengakui, ,, pendapatan, pajak, dari, kendaraan, bermotor, khususnya, mobil, mewah, tidak, didapat, dengan, optimal, .], [Guna, meningkatkan, Pendapatan, Asli, Daerah, DKI, Jakarta, ,, sutiyoso, meminta, Kepala, Dinas, Pendapatan, Daerah, menertibkan, penerimaan, pajak, mobil, mewah, yang, selama, ini, dinilai, tak, transparan, .], [Penegasan, ini, disampaikannya, seusai, meresmikan, Gedung, Kantor, Bersama, Samsat, Unit, Pelayanan, Pajak, Kendaraan, Bermotor, dan, Bea, Balik, Nama, Kendaraan, Bermotor, di, Jakarta, Barat, ,, Jumat, (, 27/10, ), .], [Pajak, mobil, mewah, ,, kata, Sutiyoso, ,, seharusnya, dapat, dioptimalkan, seiring, dengan, banyaknya, mobil, mewah, yang, masuk, ke, Indonesia, .], [Selama, ini, pemilik, mobil, mewah, membayar, pajaknya, melalui, oknum, dengan, biaya, lebih, murah, .], [Karena, itu, ,, Pemerintah, Daerah, Jakarta, akan, bekerja, sama, dengan, Kepolisian, Daerah, Metro, Jaya, untuk, menangani, sejumlah, oknum, yang, membiarkan, pemilik, mobil, mewah, tidak, membayar, pajak, .], [Menurut, Sutiyoso, ,, pajak, kendaraan, bermotor, adalah, andalan, utama, PAD, DKI, Jakarta, .], [Pemilik, mobil, mewah, sudah, sepantasnya, dikenakan, pajak, lebih, mahal, karena, mereka, tergolong, orang, kaya, ., (, ULF/Insan, Kamil, dan, Satya, Pandia, ), .]]   \n",
       "729.json   [[Liputan6, ., com, ,, Jakarta, :, Sejumlah, mobil, yang, terjebak, di, ruang, basement, Gedung, Bursa, Efek, Jakarta, akibat, ledakan, bom, di, lantai, parkir, ,, Jumat, (, 15/9, ), pagi, ,, mulai, diambil, pemiliknya, .], [Sebagian, mobil, lainnya, belum, bisa, dikeluarkan, karena, masih, harus, diperiksa, tim, dari, Pusat, Laboratorium, Forensik, Kepolisian, Republik, Indonesia, .], [Dari, pantauan, SCTV, ,, sekitar, pukul, 10, ., 00, WIB, ,, jumlah, mobil, yang, sudah, dikeluarkan, mencapai, 45, unit, .], [Untuk, mengambil, mobil, tersebut, ,, para, pemilik, harus, menunjukkan, bukti, kepemilikan, ,, seperti, Surat, Tanda, Nomor, Kendaraan, Bermotor, ,, Buku, Pemilik, Kendaraan, Bermotor, ,, dan, karcis, parkir, .], [Mobil, yang, boleh, diambil, adalah, mobil, yang, berada, di, luar, garis, polisi, .], [Sedangkan, mobil, yang, berada, di, dalam, garis, polisi, belum, bisa, diambil, seraya, menunggu, izin, dari, Tim, Puslabfor, Polri, .], [Hal, itu, dilakukan, agar, penyelidikan, polisi, tak, mengalami, gangguan, .], [Menurut, petugas, parkir, ,, jumlah, total, mobil, di, lantai, P2, saat, terjadi, ledakan, mencapai, 246, unit, .], [Dari, jumlah, itu, hanya, 73, unit, mobil, yang, dalam, kondisi, baik, .], [Sementara, itu, ,, empat, anggota, Dewan, Perwakilan, Rakyat, RI, dari, Fraksi, Partai, Demokrasi, Indonesia-Perjuangan, mengunjungi, BEJ, .], [Menurut, Sukowaluyo, Mintoraharjo, ,, kasus, peledakan, ini, harus, secepatnya, dituntaskan, .], [Ini, dikarenakan, bursa, efek, merupakan, institusi, penting, ,, yaitu, sebagai, salah, satu, simbol, stabilitas, perekonomian, nasional, .], [Hingga, sekitar, pukul, 11, ., 00, WIB, puluhan, karyawan, yang, berkantor, di, Gedung, BEJ, terlihat, duduk-duduk, di, lobi, .], [Mereka, tampak, membicarakan, insiden, yang, telah, menelan, korban, jiwa, itu, ., (, ULF/Roy, Akhmad, dan, Dwi, Guntoro, Wicaksono, ), .]]   \n",
       "6523.json                                                                                      [[Liputan6, ., com, ,, Medan, :, Kepolisian, Daerah, Sumatera, Utara, meringkus, tiga, tersangka, kasus, peledakan, bom, pada, 15, lokasi, gereja, di, Medan, .], [Dari, tangan, tersangka, polisi, menyita, barang, bukti, berupa, peralatan, perakit, bom, dan, sejumlah, uang, kontan, .], [Demikian, dijelaskan, Kepala, Polda, Sumut, Inspektur, Jenderal, Polisi, Hotman, Siagian, ,, Selasa, (, 16/1, ), .], [Menurut, Kapolda, ,, ketiga, tersangka, ditahan, sejak, hari, Kamis, silam, .], [Mereka, adalah, Edi, Sugiarto, warga, kawasan, Jalan, Pimpinan, ,, Hakim, alias, Fadli, warga, Jalan, Kolam, ,, dan, Insinyur, Azis, alias, Lingga, penduduk, Aceh, Tengah, .], [Sejauh, ini, ,, meski, diketahui, Azis, adalah, tahanan, politik, kasus, GAM, yang, dilepas, beberapa, tahun, silam, ,, Polda, Sumut, belum, menemukan, bukti, keterkaitan, para, pelaku, dengan, Kelompok, Gerakan, Aceh, Merdeka, .], [Ketiganya, ditangkap, di, rumah, kontrakan, mereka, masing-masing, .], [Dari, hasil, pemeriksaan, ,, Kata, Hotman, ,, tersangka, Edi, bekerja, sebagai, perakit, elektrik, 15, bom, dengan, upah, Rp, 500, ribu, per, bom, .], [Sedangkan, Ir, .], [Azis, dan, Hakim, adalah, pembuat, komposisi, bom, .], [Sementara, Edi, adalah, perancang, rangkaian, elektrik, alat, peledak, itu, .], [Hotman, menambahkan, ,, polisi, juga, menyita, alat, perakit, bom, seperti, solder, ,, multi, tester, ,, rangkaian, bom, ,, weaker, ,, batu, baterai, ,, isian, bom, ,, kontainer, ,, dan, uang, kontan, Rp, 159, juta, yang, akan, digunakan, kawanan, untuk, mencari, senjata, .], [Polisi, juga, masih, mengeja, 11, tersangka, yang, menjadi, pengantar, bom, .], [Tiga, orang, telah, diketahui, identitasnya, ,, yaitu, Polim, alias, Kiswan, ,, Zulkarnaen, ,, dan, Ayamuda, ., (, PIN/Panogari, Panggabean, dan, Amal, Rambe, ), .]]   \n",
       "6489.json                                                                                                                                                                                                                                                                                                                                                        [[Liputan6, ., com, ,, Jakarta, :, Ratusan, mobil, selundupan, yang, berhasil, disita, Bea, dan, Cukai, ,, sejak, enam, bulan, terakhir, ,, akan, dilelang, pada, pekan, ini, .], [Menurut, rencana, ,, hasil, lelang, akan, digunakan, untuk, menalangi, impor, bea, masuk, barang, yang, tak, dibayarkan, oleh, para, importir, nakal, tersebut, .], [Sebagian, besar, mobil, mewah, bekas, yang, akan, dilelang, Kantor, Wilayah, IV, Tanjungpriok, ,, Jakarta, Utara, itu, ,, berasal, dari, Singapura, dan, Jepang, .], [Biasanya, ,, modus, operandi, yang, dilakukan, untuk, menyelundupkan, mobil, impor, bekas, itu, adalah, dengan, penyalahgunaan, dokumen, impor, .], [Mobil, bekas, itu, dikirim, dengan, menggunakan, kontainer, yang, berbeda, .], [Padahal, ,, berdasarkan, prosedur, ,, impor, mobil, bekas, tak, boleh, dilakukan, dengan, menggunakan, peti, kemas, .], [Merujuk, data, Kanwil, IV, Tanjungpriok, ,, sejak, enam, bulan, terakhir, ,, mobil, mewah, bekas, yang, berhasil, disita, sekitar, 130, unit, .], [Diperkirakan, ,, total, kerugian, negara, akibat, kegiatan, tersebut, sekitar, Rp, 56, miliar, .], [Selain, itu, ,, pada, kurun, waktu, yang, sama, ,, Kanwil, Bea, Cukai, Tanjungpriok, juga, berhasil, menyita, sekitar, 200, mobil, mewah, baru, yang, diimpor, dengan, cara, ilegal, .], [Dari, jumlah, tersebut, ,, diperkirakan, negara, mengalami, kerugian, sekitar, Rp, 1, triliun, .], [Bea, dan, Cukai, juga, akan, melelang, sekitar, 15, ribu, tas, olah, raga, ilegal, dari, berbagai, merek, terkenal, ., (, ICH/Arfan, Yap, Bano, ), .]]   \n",
       "\n",
       "                                                                                                                                                                                                                    clean_summary  \\\n",
       "3721.json  [[Sebagian, anggota, DPR, berniat, besar, menindaklanjuti, hasil, curah, pendapat, menjadi, agenda, dewan, .], [Akbar, Tandjung, setuju, membentuk, Forum, Lobi, ,, asal, ,, sesuai, prosedur, yang, ada, di, DPR, .]]   \n",
       "2833.json                                                [[Pendapatan, Asli, Daerah, Jakarta, kerap, terkumpul, secara, tak, optimal, .], [Penyebabnya, ,, banyak, pemilik, mobil, mewah, yang, membayar, pajak, lewat, calo, .]]   \n",
       "729.json                                                                               [[Sejumlah, mobil, yang, terjebak, di, BEJ, sudah, mulai, dikeluarkan, .], [Dari, 246, mobil, hanya, 73, unit, yang, kondisinya, baik, .]]   \n",
       "6523.json          [[Polda, Sumatra, Utara, menahan, tiga, tersangka, perakit, bom, yang, meledakkan, sejumlah, gereja, di, Medan, ,, malam, Natal, silam, .], [Polda, juga, menyita, sejumlah, peralatan, dan, uang, kontan, .]]   \n",
       "6489.json                                                     [[Bea, dan, Cukai, Jakarta, akan, melelang, ratusan, mobil, mewah, impor, ilegal, .], [Selain, itu, ,, puluhan, ribu, tas, impor, ilegal, juga, akan, dilelang, .]]   \n",
       "\n",
       "          extractive_summary  \n",
       "3721.json             [1, 4]  \n",
       "2833.json             [1, 4]  \n",
       "729.json              [4, 8]  \n",
       "6523.json             [0, 1]  \n",
       "6489.json            [2, 10]  "
      ]
     },
     "execution_count": 12,
     "metadata": {},
     "output_type": "execute_result"
    }
   ],
   "source": [
    "df_canonical_dev = pd.DataFrame.from_dict(data_canonical_dev, orient=\"index\")\n",
    "df_canonical_dev = df_canonical_dev.drop(columns=['url', 'id'])\n",
    "df_canonical_dev.head()"
   ]
  },
  {
   "cell_type": "markdown",
   "id": "2b28db55",
   "metadata": {},
   "source": [
    "- Canonical Test Dataframe"
   ]
  },
  {
   "cell_type": "code",
   "execution_count": 13,
   "id": "ba0919ab",
   "metadata": {
    "scrolled": true
   },
   "outputs": [
    {
     "data": {
      "text/html": [
       "<div>\n",
       "<style scoped>\n",
       "    .dataframe tbody tr th:only-of-type {\n",
       "        vertical-align: middle;\n",
       "    }\n",
       "\n",
       "    .dataframe tbody tr th {\n",
       "        vertical-align: top;\n",
       "    }\n",
       "\n",
       "    .dataframe thead th {\n",
       "        text-align: right;\n",
       "    }\n",
       "</style>\n",
       "<table border=\"1\" class=\"dataframe\">\n",
       "  <thead>\n",
       "    <tr style=\"text-align: right;\">\n",
       "      <th></th>\n",
       "      <th>clean_article</th>\n",
       "      <th>clean_summary</th>\n",
       "      <th>extractive_summary</th>\n",
       "    </tr>\n",
       "  </thead>\n",
       "  <tbody>\n",
       "    <tr>\n",
       "      <th>23684.json</th>\n",
       "      <td>[[Liputan6, ., com, ,, Bangka, :, Kapal, patroli, Angkatan, Laut, Republik, Indonesia, ,, Belinyu, ,, baru-baru, ini, ,, menangkap, tiga, kapal, nelayan, berbendera, Thailand, ,, yakni, KM, Binatama, ,, KM, Sumber, Jaya, II, ,, dan, KM, Mataram, di, Perairan, Belitung, Utara, .], [Ketiga, kapal, itu, ditangkap, karena, melanggar, zona, ekonomi, ekslusif, Indonesia, .], [Saat, ini, ,, kapal-kapal, itu, diamankan, di, Pos, Lanal, Pelabuhan, Pangkalan, Balam, ,, Bangka-Belitung, .], [Menurut, Komandan, Pangkalan, TNI, AL, Bangka, Letnan, Kolonel, Laut, Fredy, Egam, ,, selain, menangkap, tiga, kapal, ,, ALRI, juga, memeriksa, 43, anak, buah, kapal, .], [Mereka, disergap, saat, sedang, mengangkat, jaring, pukat, harimau, di, Perairan, Belitung, Utara, .], [Dari, jumlah, itu, ,, hanya, enam, orang, yang, dijadikan, tersangka, ,, yakni, tiga, nahkoda, dan, tiga, kepala, kamar, mesin, kapal, .], [Sedangkan, ABK, yang, lain, akan, dideportasi, ke, negara, asalnya, .], [Meski, berhasil, menahan, enam, tersangka, ,, TNI, AL, gagal, mengamankan, ikan, tangkapan, nelayan, Thailand, tersebut, .], [Sebab, ,, sebelum, patroli, datang, ,, mereka, telah, memindahkan, puluhan, ton, ikan, hasil, jaringan, ke, kapal, induk, ., (, ULF/Ajmal, Rokian, dan, Yanuar, Ichrom, ), .]]</td>\n",
       "      <td>[[Meski, memiliki, izin, resmi, ,, TNI, AL, tetap, menangkap, tiga, kapan, nelayan, berbendera, Thailand, .], [Pasalnya, ,, ketiga, kapal, itu, melanggar, zona, ekonomi, ekslusif, dan, menjaring, ikan, dengan, pukat, harimau, .]]</td>\n",
       "      <td>[1, 7]</td>\n",
       "    </tr>\n",
       "    <tr>\n",
       "      <th>24141.json</th>\n",
       "      <td>[[Liputan6, ., com, ,, Bandar, Lampung, :, Sebanyak, 51, anak, di, bawah, umur, lima, tahun, terserang, busung, lapar, atau, marasmus, karena, kekurangan, gizi, di, Kota, Madya, Bandar, Lampung, .], [Lima, di, antaranya, tewas, .], [Data, tersebut, diungkapkan, Kepala, Dinas, Kesehatan, Kota, Bandar, Lampung, M, .], [Sudarman, ,, baru-baru, ini, .], [Menurut, Sudarman, ,, Dinas, Kesehatan, Bandar, Lampung, mencatat, sekitar, 51, anak, terserang, busung, lapar, yang, tersebar, di, beberapa, kecamatan, ,, selama, periode, 1999, sampai, 2001, .], [Kebanyakan, anak, penderita, busung, tersebut, berasal, dari, keluarga, yang, hidup, di, bawah, garis, kemiskinan, .], [Selain, kekurangan, gizi, ,, komplikasi, radang, paru-paru, juga, menjadi, satu, faktor, penyebab, kematian, anak, penderita, busung, lapar, tersebut, .], [Data, Dinas, Kesehatan, menunjukkan, pada, 1999, ,, ditemukan, 41, anak, terserang, penyakit, busung, lapar, .], [Sebagian, besar, penderita, berdomisili, di, kampung, miskin, Umbul, Kunci, .], [Jumlah, penderita, busung, lapar, menurun, pada, 2000, ,, yakni, hanya, sembilan, anak, .], [Sedangkan, September, 2001, ,, seorang, anak, meninggal, karena, marasmus, .], [Sudarman, menegaskan, ,, untuk, menekan, jumlah, korban, marasmus, ,, anak-anak, dan, balita, diberi, makanan, tambahan, ke, sentra-sentra, rawan, busung, lapar, seperti, di, Desa, Umbul, Unci, .], [Tetapi, ,, berdasarkan, keterangan, masyarakat, Umbul, Kunci, ,, program, makanan, tambahan, ini, hanya, berjalan, setahun, yakni, pada, 1999, .], [Warga, setempat, mengaku, tak, pernah, lagi, menerima, makanan, tambahan, bagi, anak-anak, kurang, gizi, sejak, dua, tahun, terakhir, ., (, TNA/Bisri, Merduani, ), .]]</td>\n",
       "      <td>[[Sebanyak, 51, anak, di, bawah, usia, lima, tahun, di, Kota, Madya, Bandar, Lampung, ,, menderita, busung, lapar, karena, kekurangan, gizi, .], [Lima, di, antaranya, meninggal, dunia, .]]</td>\n",
       "      <td>[0, 1]</td>\n",
       "    </tr>\n",
       "    <tr>\n",
       "      <th>16030.json</th>\n",
       "      <td>[[Liputan6, ., com, ,, Jakarta, :, Polemik, seputar, pelaksanaan, Sidang, Istimewa, MPR, ,, 1, Agustus, mendatang, ,, terus, bergulir, .], [Setelah, sekian, kali, ,, Presiden, Abdurrahman, Wahid, kembali, mengeluarkan, ancaman, akan, memberlakukan, status, keadaan, bahaya, dan, darurat, sipil, .], [Langkah, itu, bakal, dilakukan, jika, SI, MPR, tetap, meminta, pertanggungjawaban, dirinya, .], [Penegasan, tersebut, diungkapkan, Presiden, Wahid, dalam, dialog, usai, salat, Jumat, di, Mesjid, Al, Munawarah, ,, Ciganjur, ,, Jakarta, Selatan, ,, Jumat, (, 06/7, ), .], [Bagi, Gus, Dur, ,, pada, dasarnya, dia, tidak, mempermasalahkan, pelaksanaan, SI, MPR, .], [Asalkan, ,, agenda, yang, dibahas, tidak, menyangkut, pertanggungjawaban, dan, kinerja, pemerintahannya, .], [\", Sebab, ,, masih, ada, agenda, lain, yang, bisa, dibahas, ,, demi, kemajuan, negara, ini, ,, \", kata, Gus, Dur, ,, serius, .], [Pernyataan, Gus, Dur, kontan, ditanggap, Wakil, Rakyat, .], [Menurut, anggota, Fraksi, Partai, Bulan, Bintang, DPR, Hamdan, Zoelva, ,, pemberlakuan, keadaan, darurat, sipil, justru, akan, mempermudah, aparat, keamanan, untuk, mengantisipasi, .], [Jadi, ,, siapa, pun, yang, berniat, mengganggu, jalannya, SI, MPR, ,, bisa, diantisipasi, sejak, awal, .], [Meski, begitu, ,, bagi, Hamdan, ,, saat, ditemui, usai, dialog, soal, voting, dan, money, politics, Jumat, siang, tadi, ,, keadaan, darurat, sipil, tadi, tak, boleh, salah, arah, .], [Misalnya, ,, bila, diberlakukan, untuk, melarang, anggota, dewan, bersidang, .], [\", Itu, menorehkan, sejarah, hitam, sistem, ketatanegaraan, kita, ,, \", kata, Hamdan, .], [Hamdan, juga, menambahkan, ,, bila, darurat, sipil, hanya, semata-mata, untuk, menghambat, jalannya, SI, MPR, ,, nilai, tambah, buat, Gus, Dur, .], [Bahkan, ,, tidak, menutup, kemungkinan, malah, memicu, kebulatan, tekad, keputusan, sidang, Wakil, Rakyat, untuk, menolak, pertanggungjawaban, Presiden, Wahid, ., (, BMI/Tim, Liputan, 6, SCTV, ), .]]</td>\n",
       "      <td>[[Presiden, Abdurrahman, Wahid, kembali, mengeluarkan, ancaman, akan, memberlakukan, status, keadaan, darurat, sipil, .], [Terutama, ,, jika, Sidang, Istimewa, MPR, 1, Agustus, mendatang, tetap, meminta, pertanggungjawaban, dirinya, .]]</td>\n",
       "      <td>[1, 2]</td>\n",
       "    </tr>\n",
       "    <tr>\n",
       "      <th>21343.json</th>\n",
       "      <td>[[Liputan6, ., com, ,, Ambon, :, Bahan, bakar, minyak, jenis, solar, dan, premium, ,, selama, sepekan, terakhir, ,, mulai, langka, di, Kota, Ambon, .], [Akibatnya, ,, sebagian, besar, kendaraan, umum, di, Ambon, memilih, berhenti, beroperasi, karena, sulit, mendapatkan, bahan, bakar, .], [Selain, itu, ,, kelangkaan, tersebut, juga, memicu, kenaikan, harga, premium, di, tingkat, pengecer, :, mencapai, Rp, 2, ribu, per, liter, .], [Padahal, ,, biasanya, harga, premium, hanya, Rp, 1, ., 700, per, liter, .], [Demikian, hasil, pantauan, SCTV, di, Ambon, ,, baru-baru, ini, .], [Beberapa, pedagang, minyak, eceran, mengaku, ,, kelangkaan, terjadi, karena, pasokan, dari, Depot, Pertamina, Wayame, berkurang, .], [Selain, itu, ,, mereka, juga, menduga, kelangkaan, terjadi, lantaran, adanya, ulah, oknum, yang, menyuplai, minyak, ke, sejumlah, kapal, di, Pelabuhan, Maluku, .], [Menanggapi, itu, ,, Kapala, Cabang, Pertamina, Unit, Pemasaran, dan, Perbekalan, Dalam, Negeri, VIII, Ambon, Subaedi, memastikan, ,, kelangkaan, terjadi, karena, adanya, kebijakan, Pertamina, Pusat, yang, mengurangi, jatah, pasokan, .], [Subaedi, memperkirakan, ,, kelangkaan, BBM, di, Ambon, akan, terus, berlangsung, hingga, bulan, depan, .], [Tapi, ,, ia, menolak, jika, kelangkaan, terjadi, akibat, adanya, kerja, sama, kotor, antara, Pertamina, dan, para, spekulan, ., (, ICH/Sahlan, Heluth, ), .]]</td>\n",
       "      <td>[[Sepekan, terakhir, ,, bahan, bakar, minyak, jenis, solar, dan, premium, di, Kota, Ambon, ,, mulai, langka, .], [Kelangkaan, terjadi, karena, pasokan, BBM, dari, Depot, Pertamina, Wayame, berkurang, .]]</td>\n",
       "      <td>[0, 5]</td>\n",
       "    </tr>\n",
       "    <tr>\n",
       "      <th>13662.json</th>\n",
       "      <td>[[Liputan6, ., com, ,, Jakarta, :, Seluruh, perubahan, pasal, Undang-Undang, Nomor, 23, tahun, 1999, tentang, Bank, Indonesia, telah, disetujui, oleh, pemerintah, dan, DPR, .], [Namun, masih, ada, satu, polemik, soal, pasal, 75, .], [Inti, pasal, itu, adalah, soal, memberhentikan, seluruh, anggota, Dewan, Gubernur, BI, ,, setelah, UU, Amendemen, BI, berlaku, efektif, .], [Bagi, BI, sendiri, ,, posisinya, harus, tetap, independen, .], [Pernyataan, itu, ditegaskan, Gubernur, BI, Sjahril, Sabirin, ,, baru-baru, ini, ,, di, Jakarta, .], [Menurut, Sjahril, ,, persoalan, amendemen, sudah, menjadi, kewenangan, pemerintah, dan, DPR, .], [Sebab, kedua, lembaga, tersebut, telah, mendapat, masukan, dari, tim, panel, Dana, Moneter, Internasional, (, IMF, ), .], [\", IMF, sudah, menganjurkan, pembentukan, tim, panel, ,, \", kata, Sjahril, .], [Lantas, ,, tambah, dia, ,, tim, panel, itu, juga, sudah, mengeluarkan, hasil, keputusan, .], [\", Sekarang, ,, tergantung, pemerintah, dan, DPR, untuk, menerapkannya, ,, \", kata, Sjahril, ,, serius, .], [Pembahasan, pasal, 75, sendiri, masih, berlangsung, di, Panitia, Kerja, DPR, .], [Panja, ini, mengusulkan, pilihan, supaya, pemerintah, mempercepat, pembentukan, Dewan, Supervisi, BI, .], [Lantas, ,, panja, juga, menawarkan, kepada, pemerintah, untuk, membuat, laporan, mengenai, penyimpangan, di, tubuh, BI, .], [Berdasarkan, laporan, ini, ,, DPR, mesti, menggelar, paripurna, untuk, menentukan, perlu, tidaknya, mengganti, Gubernur, BI, ., (, COK/Olivia, Rosalia, dan, Bambang, Triono, ), .]]</td>\n",
       "      <td>[[Bank, Indonesia, menyerahkan, sepenuhnya, amendemen, UU, BI, tentang, pergantian, dewan, gubernur, kepada, pemerintah, dan, DPR, .], [Diperkirakan, ,, polemik, soal, pasal, 75, sulit, untuk, bisa, mencapai, kata, sepakat, .]]</td>\n",
       "      <td>[2, 9]</td>\n",
       "    </tr>\n",
       "  </tbody>\n",
       "</table>\n",
       "</div>"
      ],
      "text/plain": [
       "                                                                                                                                                                                                                                                                                                                                                                                                                                                                                                                                                                                                                                                                                                                                                                                                                                                                                                                                                                                                                                                                                                                                                                                                                                                                                                                                                                                                                                                                                                                                                                                                                                                                                                                                                                                                                                                                                                                                                                                                                                          clean_article  \\\n",
       "23684.json                                                                                                                                                                                                                                                                                                                                                                                                                                                                                                                                                                                                                                                                                                                  [[Liputan6, ., com, ,, Bangka, :, Kapal, patroli, Angkatan, Laut, Republik, Indonesia, ,, Belinyu, ,, baru-baru, ini, ,, menangkap, tiga, kapal, nelayan, berbendera, Thailand, ,, yakni, KM, Binatama, ,, KM, Sumber, Jaya, II, ,, dan, KM, Mataram, di, Perairan, Belitung, Utara, .], [Ketiga, kapal, itu, ditangkap, karena, melanggar, zona, ekonomi, ekslusif, Indonesia, .], [Saat, ini, ,, kapal-kapal, itu, diamankan, di, Pos, Lanal, Pelabuhan, Pangkalan, Balam, ,, Bangka-Belitung, .], [Menurut, Komandan, Pangkalan, TNI, AL, Bangka, Letnan, Kolonel, Laut, Fredy, Egam, ,, selain, menangkap, tiga, kapal, ,, ALRI, juga, memeriksa, 43, anak, buah, kapal, .], [Mereka, disergap, saat, sedang, mengangkat, jaring, pukat, harimau, di, Perairan, Belitung, Utara, .], [Dari, jumlah, itu, ,, hanya, enam, orang, yang, dijadikan, tersangka, ,, yakni, tiga, nahkoda, dan, tiga, kepala, kamar, mesin, kapal, .], [Sedangkan, ABK, yang, lain, akan, dideportasi, ke, negara, asalnya, .], [Meski, berhasil, menahan, enam, tersangka, ,, TNI, AL, gagal, mengamankan, ikan, tangkapan, nelayan, Thailand, tersebut, .], [Sebab, ,, sebelum, patroli, datang, ,, mereka, telah, memindahkan, puluhan, ton, ikan, hasil, jaringan, ke, kapal, induk, ., (, ULF/Ajmal, Rokian, dan, Yanuar, Ichrom, ), .]]   \n",
       "24141.json                                                                                                                                                                                                                                                                [[Liputan6, ., com, ,, Bandar, Lampung, :, Sebanyak, 51, anak, di, bawah, umur, lima, tahun, terserang, busung, lapar, atau, marasmus, karena, kekurangan, gizi, di, Kota, Madya, Bandar, Lampung, .], [Lima, di, antaranya, tewas, .], [Data, tersebut, diungkapkan, Kepala, Dinas, Kesehatan, Kota, Bandar, Lampung, M, .], [Sudarman, ,, baru-baru, ini, .], [Menurut, Sudarman, ,, Dinas, Kesehatan, Bandar, Lampung, mencatat, sekitar, 51, anak, terserang, busung, lapar, yang, tersebar, di, beberapa, kecamatan, ,, selama, periode, 1999, sampai, 2001, .], [Kebanyakan, anak, penderita, busung, tersebut, berasal, dari, keluarga, yang, hidup, di, bawah, garis, kemiskinan, .], [Selain, kekurangan, gizi, ,, komplikasi, radang, paru-paru, juga, menjadi, satu, faktor, penyebab, kematian, anak, penderita, busung, lapar, tersebut, .], [Data, Dinas, Kesehatan, menunjukkan, pada, 1999, ,, ditemukan, 41, anak, terserang, penyakit, busung, lapar, .], [Sebagian, besar, penderita, berdomisili, di, kampung, miskin, Umbul, Kunci, .], [Jumlah, penderita, busung, lapar, menurun, pada, 2000, ,, yakni, hanya, sembilan, anak, .], [Sedangkan, September, 2001, ,, seorang, anak, meninggal, karena, marasmus, .], [Sudarman, menegaskan, ,, untuk, menekan, jumlah, korban, marasmus, ,, anak-anak, dan, balita, diberi, makanan, tambahan, ke, sentra-sentra, rawan, busung, lapar, seperti, di, Desa, Umbul, Unci, .], [Tetapi, ,, berdasarkan, keterangan, masyarakat, Umbul, Kunci, ,, program, makanan, tambahan, ini, hanya, berjalan, setahun, yakni, pada, 1999, .], [Warga, setempat, mengaku, tak, pernah, lagi, menerima, makanan, tambahan, bagi, anak-anak, kurang, gizi, sejak, dua, tahun, terakhir, ., (, TNA/Bisri, Merduani, ), .]]   \n",
       "16030.json  [[Liputan6, ., com, ,, Jakarta, :, Polemik, seputar, pelaksanaan, Sidang, Istimewa, MPR, ,, 1, Agustus, mendatang, ,, terus, bergulir, .], [Setelah, sekian, kali, ,, Presiden, Abdurrahman, Wahid, kembali, mengeluarkan, ancaman, akan, memberlakukan, status, keadaan, bahaya, dan, darurat, sipil, .], [Langkah, itu, bakal, dilakukan, jika, SI, MPR, tetap, meminta, pertanggungjawaban, dirinya, .], [Penegasan, tersebut, diungkapkan, Presiden, Wahid, dalam, dialog, usai, salat, Jumat, di, Mesjid, Al, Munawarah, ,, Ciganjur, ,, Jakarta, Selatan, ,, Jumat, (, 06/7, ), .], [Bagi, Gus, Dur, ,, pada, dasarnya, dia, tidak, mempermasalahkan, pelaksanaan, SI, MPR, .], [Asalkan, ,, agenda, yang, dibahas, tidak, menyangkut, pertanggungjawaban, dan, kinerja, pemerintahannya, .], [\", Sebab, ,, masih, ada, agenda, lain, yang, bisa, dibahas, ,, demi, kemajuan, negara, ini, ,, \", kata, Gus, Dur, ,, serius, .], [Pernyataan, Gus, Dur, kontan, ditanggap, Wakil, Rakyat, .], [Menurut, anggota, Fraksi, Partai, Bulan, Bintang, DPR, Hamdan, Zoelva, ,, pemberlakuan, keadaan, darurat, sipil, justru, akan, mempermudah, aparat, keamanan, untuk, mengantisipasi, .], [Jadi, ,, siapa, pun, yang, berniat, mengganggu, jalannya, SI, MPR, ,, bisa, diantisipasi, sejak, awal, .], [Meski, begitu, ,, bagi, Hamdan, ,, saat, ditemui, usai, dialog, soal, voting, dan, money, politics, Jumat, siang, tadi, ,, keadaan, darurat, sipil, tadi, tak, boleh, salah, arah, .], [Misalnya, ,, bila, diberlakukan, untuk, melarang, anggota, dewan, bersidang, .], [\", Itu, menorehkan, sejarah, hitam, sistem, ketatanegaraan, kita, ,, \", kata, Hamdan, .], [Hamdan, juga, menambahkan, ,, bila, darurat, sipil, hanya, semata-mata, untuk, menghambat, jalannya, SI, MPR, ,, nilai, tambah, buat, Gus, Dur, .], [Bahkan, ,, tidak, menutup, kemungkinan, malah, memicu, kebulatan, tekad, keputusan, sidang, Wakil, Rakyat, untuk, menolak, pertanggungjawaban, Presiden, Wahid, ., (, BMI/Tim, Liputan, 6, SCTV, ), .]]   \n",
       "21343.json                                                                                                                                                                                                                                                                                                                                                                                                                                                                                                                                                                                                        [[Liputan6, ., com, ,, Ambon, :, Bahan, bakar, minyak, jenis, solar, dan, premium, ,, selama, sepekan, terakhir, ,, mulai, langka, di, Kota, Ambon, .], [Akibatnya, ,, sebagian, besar, kendaraan, umum, di, Ambon, memilih, berhenti, beroperasi, karena, sulit, mendapatkan, bahan, bakar, .], [Selain, itu, ,, kelangkaan, tersebut, juga, memicu, kenaikan, harga, premium, di, tingkat, pengecer, :, mencapai, Rp, 2, ribu, per, liter, .], [Padahal, ,, biasanya, harga, premium, hanya, Rp, 1, ., 700, per, liter, .], [Demikian, hasil, pantauan, SCTV, di, Ambon, ,, baru-baru, ini, .], [Beberapa, pedagang, minyak, eceran, mengaku, ,, kelangkaan, terjadi, karena, pasokan, dari, Depot, Pertamina, Wayame, berkurang, .], [Selain, itu, ,, mereka, juga, menduga, kelangkaan, terjadi, lantaran, adanya, ulah, oknum, yang, menyuplai, minyak, ke, sejumlah, kapal, di, Pelabuhan, Maluku, .], [Menanggapi, itu, ,, Kapala, Cabang, Pertamina, Unit, Pemasaran, dan, Perbekalan, Dalam, Negeri, VIII, Ambon, Subaedi, memastikan, ,, kelangkaan, terjadi, karena, adanya, kebijakan, Pertamina, Pusat, yang, mengurangi, jatah, pasokan, .], [Subaedi, memperkirakan, ,, kelangkaan, BBM, di, Ambon, akan, terus, berlangsung, hingga, bulan, depan, .], [Tapi, ,, ia, menolak, jika, kelangkaan, terjadi, akibat, adanya, kerja, sama, kotor, antara, Pertamina, dan, para, spekulan, ., (, ICH/Sahlan, Heluth, ), .]]   \n",
       "13662.json                                                                                                                                                                                                                                                                                                                                                                                                                                           [[Liputan6, ., com, ,, Jakarta, :, Seluruh, perubahan, pasal, Undang-Undang, Nomor, 23, tahun, 1999, tentang, Bank, Indonesia, telah, disetujui, oleh, pemerintah, dan, DPR, .], [Namun, masih, ada, satu, polemik, soal, pasal, 75, .], [Inti, pasal, itu, adalah, soal, memberhentikan, seluruh, anggota, Dewan, Gubernur, BI, ,, setelah, UU, Amendemen, BI, berlaku, efektif, .], [Bagi, BI, sendiri, ,, posisinya, harus, tetap, independen, .], [Pernyataan, itu, ditegaskan, Gubernur, BI, Sjahril, Sabirin, ,, baru-baru, ini, ,, di, Jakarta, .], [Menurut, Sjahril, ,, persoalan, amendemen, sudah, menjadi, kewenangan, pemerintah, dan, DPR, .], [Sebab, kedua, lembaga, tersebut, telah, mendapat, masukan, dari, tim, panel, Dana, Moneter, Internasional, (, IMF, ), .], [\", IMF, sudah, menganjurkan, pembentukan, tim, panel, ,, \", kata, Sjahril, .], [Lantas, ,, tambah, dia, ,, tim, panel, itu, juga, sudah, mengeluarkan, hasil, keputusan, .], [\", Sekarang, ,, tergantung, pemerintah, dan, DPR, untuk, menerapkannya, ,, \", kata, Sjahril, ,, serius, .], [Pembahasan, pasal, 75, sendiri, masih, berlangsung, di, Panitia, Kerja, DPR, .], [Panja, ini, mengusulkan, pilihan, supaya, pemerintah, mempercepat, pembentukan, Dewan, Supervisi, BI, .], [Lantas, ,, panja, juga, menawarkan, kepada, pemerintah, untuk, membuat, laporan, mengenai, penyimpangan, di, tubuh, BI, .], [Berdasarkan, laporan, ini, ,, DPR, mesti, menggelar, paripurna, untuk, menentukan, perlu, tidaknya, mengganti, Gubernur, BI, ., (, COK/Olivia, Rosalia, dan, Bambang, Triono, ), .]]   \n",
       "\n",
       "                                                                                                                                                                                                                                           clean_summary  \\\n",
       "23684.json         [[Meski, memiliki, izin, resmi, ,, TNI, AL, tetap, menangkap, tiga, kapan, nelayan, berbendera, Thailand, .], [Pasalnya, ,, ketiga, kapal, itu, melanggar, zona, ekonomi, ekslusif, dan, menjaring, ikan, dengan, pukat, harimau, .]]   \n",
       "24141.json                                                  [[Sebanyak, 51, anak, di, bawah, usia, lima, tahun, di, Kota, Madya, Bandar, Lampung, ,, menderita, busung, lapar, karena, kekurangan, gizi, .], [Lima, di, antaranya, meninggal, dunia, .]]   \n",
       "16030.json  [[Presiden, Abdurrahman, Wahid, kembali, mengeluarkan, ancaman, akan, memberlakukan, status, keadaan, darurat, sipil, .], [Terutama, ,, jika, Sidang, Istimewa, MPR, 1, Agustus, mendatang, tetap, meminta, pertanggungjawaban, dirinya, .]]   \n",
       "21343.json                                   [[Sepekan, terakhir, ,, bahan, bakar, minyak, jenis, solar, dan, premium, di, Kota, Ambon, ,, mulai, langka, .], [Kelangkaan, terjadi, karena, pasokan, BBM, dari, Depot, Pertamina, Wayame, berkurang, .]]   \n",
       "13662.json           [[Bank, Indonesia, menyerahkan, sepenuhnya, amendemen, UU, BI, tentang, pergantian, dewan, gubernur, kepada, pemerintah, dan, DPR, .], [Diperkirakan, ,, polemik, soal, pasal, 75, sulit, untuk, bisa, mencapai, kata, sepakat, .]]   \n",
       "\n",
       "           extractive_summary  \n",
       "23684.json             [1, 7]  \n",
       "24141.json             [0, 1]  \n",
       "16030.json             [1, 2]  \n",
       "21343.json             [0, 5]  \n",
       "13662.json             [2, 9]  "
      ]
     },
     "execution_count": 13,
     "metadata": {},
     "output_type": "execute_result"
    }
   ],
   "source": [
    "df_canonical_test = pd.DataFrame.from_dict(data_canonical_test, orient=\"index\")\n",
    "df_canonical_test = df_canonical_test.drop(columns=['url', 'id'])\n",
    "df_canonical_test.head()"
   ]
  },
  {
   "cell_type": "markdown",
   "id": "3fe4f03e",
   "metadata": {},
   "source": [
    "- Canonical Train Dataframe"
   ]
  },
  {
   "cell_type": "code",
   "execution_count": 14,
   "id": "10df1a2f",
   "metadata": {
    "scrolled": true
   },
   "outputs": [
    {
     "data": {
      "text/html": [
       "<div>\n",
       "<style scoped>\n",
       "    .dataframe tbody tr th:only-of-type {\n",
       "        vertical-align: middle;\n",
       "    }\n",
       "\n",
       "    .dataframe tbody tr th {\n",
       "        vertical-align: top;\n",
       "    }\n",
       "\n",
       "    .dataframe thead th {\n",
       "        text-align: right;\n",
       "    }\n",
       "</style>\n",
       "<table border=\"1\" class=\"dataframe\">\n",
       "  <thead>\n",
       "    <tr style=\"text-align: right;\">\n",
       "      <th></th>\n",
       "      <th>clean_article</th>\n",
       "      <th>clean_summary</th>\n",
       "      <th>extractive_summary</th>\n",
       "    </tr>\n",
       "  </thead>\n",
       "  <tbody>\n",
       "    <tr>\n",
       "      <th>228132.json</th>\n",
       "      <td>[[TIGA, kali, somasi, dilayangkan, kepada, Nuri, Shaden, .], [Namun, reaksi, yang, diharapkan, agar, meminta, maaf, hasilnya, nihil, .], [Keluarga, Janu, Utomo, melaporkan, kasus, kecelakaan, di, Jalan, Sisingamaraja, ,, Jakarta, Selatan, ,, 1, Juni, silam, itu, ke, Kepolisian, Resor, Metro, Jaksel, .], [\", Kita, melaporkan, atas, dugaan, tindak, pidana, ,, \", tutur, Taufik, Basari, ,, kuasa, hukum, keluarga, Janu, ,, belum, lama, ini, .], [Taufik, menambahkan, ,, pihaknya, ingin, Nuri, mencabut, pernyataan, di, depan, pers, ,, 2, Juni, silam, .], [Ia, juga, ingin, Nuri, meminta, maaf, di, media, atas, kejadian, itu, .], [Dan, juga, menyampaikan, belasungkawa, .], [Taufik, menilai, ,, pernyataan, Nuri, memutarbalikkan, fakta, .], [\", Yang, kita, adukan, soal, pernyataan-pernyataannya, ,, \", ujar, dia, .], [Keluarga, Janu, melaporkan, dengan, dua, tuduhan, .], [Yakni, sikap, yang, tidak, menyenangkan, dan, pencemaran, nama, baik, .], [Kala, itu, Nuri, menuding, mobil, ambulans, yang, menabrak, kendaraannya, .], [\", Intinya, mereka, menabrak, kita, ,, \", ucap, Nuri, saat, jumpa, pers, waktu, itu, .], [Pernyataan, disampaikan, bintang, film, Seventeen, didampingi, Noni, T, ,, pengacaranya, .], [Ia, menyalahkan, Januari, Purwoko, ,, sopir, ambulans, .], [Padahal, Januari, sudah, mengklakson, mobil, Honda, Jazz, yang, ditumpangi, Nuri, .], [Tabrakan, pun, terhindarkan, .], [Ambulans, rusak, di, bagian, kanan, dan, as, roda, belakang, patah, .], [Tabrakan, mobil, ambulans, dan, Honda, Jazz, yang, dikendarai, Nuri, merenggut, nyawa, Janu, Utomo, .], [Sedangkan, Januari, Purwoko, ,, sopir, ambulans, cedera, parah, .], [Tiga, lainnya, di, mobil, ambulans, luka, ringan, .], [Yakni, istri, Janu, ,, Retno, Indarti, ,, Krisanti, Indriani, ,, dan, perawat, Risa, Citra, Dewi, .], [Kala, itu, keluarga, mengantarkan, Janu, hendak, mencuci, darah, .], [Soal, ini, kubu, Nuri, membantah, .], [Noni, mengatakan, Janu, meninggal, karena, penyakit, jantung, yang, dideritanya, ., (, As, ), .]]</td>\n",
       "      <td>[[TIGA, kali, somasi, dilayangkan, kepada, Nuri, Shaden, .], [Namun, reaksi, yang, diharapkan, agar, meminta, maaf, hasilnya, nihil, .], [Keluarga, Janu, Utomo, pun, melaporkan, Nuri, ke, Kepolisian, Resor, Metro, Jakarta, Selatan, .]]</td>\n",
       "      <td>[0, 1, 2]</td>\n",
       "    </tr>\n",
       "    <tr>\n",
       "      <th>116936.json</th>\n",
       "      <td>[[Liputan6, ., com, ,, Jakarta, :, Earth, Wind, and, Fire, Experience, Worldwide, Tour, 2006, Featuring, Al, Mckay, All, Star, sukses, memuaskan, penikmat, jazz, yang, memadati, Grand, Melia, ,, Jakarta, Selatan, ,, Rabu, (, 1/2, ), malam, .], [Pertunjukan, ini, adalah, penampilan, kedua, dari, rangkaian, tur, grup, asal, Chicago, ,, Amerika, Serikat, itu, di, enam, kota, besar, di, Indonesia, .], [Setelah, Jakarta, dan, Bandung, ,, mereka, siap, menggoyang, Semarang, ,, Yogyakarta, ,, Surabaya, ,, dan, Medan, .], [Tembang, Serpentine, Fire, menjadi, lagu, pembuka, Earth, Wind, and, Fire, .], [Dengan, energik, ,, trio, vokal, Tim, Owens, ,, Claude, Woods, ,, dan, Devere, Duckett, berhasil, memukau, penonton, .], [Diiringi, Al, Mckay, All, Star, ,, mereka, terus, mendendangkan, hits, andalan, ,, antara, lain, Pride, dan, Gotta, Get, You, Into, My, Life, .], [Meski, Earth, Wind, and, Fire, terbilang, grup, lawas, ,, tembang, mereka, tetap, digemari, .], [Buktinya, 1, ., 500, tiket, yang, disediakan, untuk, Jakarta, ludes, terjual, ., (, KEN/Teguh, Dwi, Hartono, ), .]]</td>\n",
       "      <td>[[Setelah, di, Bandung, ,, Earth, Wind, and, Fire, giliran, menghibur, penikmat, jazz, di, Jakarta, ,, tadi, malam, .], [Lagu-lagu, andalan, grup, asal, Chicago, itu, mampu, menyihir, penonton, sampai, detik, terakhir, pertunjukan, .]]</td>\n",
       "      <td>[1, 6]</td>\n",
       "    </tr>\n",
       "    <tr>\n",
       "      <th>57896.json</th>\n",
       "      <td>[[Liputan6, ., com, ,, Jakarta, :, Belasan, unit, mobil, pemadam, kebakaran, dikerahkan, untuk, menjinakkan, amukan, si, jago, merah, di, sebuah, rumah, di, kawasan, Perumahan, Patra, Kuningan, ,, Jakarta, Selatan, ,, Ahad, (, 6/7, ), sore, .], [Petugas, pemadam, juga, membuka, paksa, bagian, tengah, rumah, bernomor, sembilan, itu, untuk, menyelamatkan, isi, hunian, di, Kompleks, Perumahan, Pertamina, tersebut, .], [Puluhan, petugas, pemadam, disebar, ke, beberapa, tempat, untuk, mencegah, meluasnya, kobaran, api, yang, mulai, menyala, sekitar, pukul, 17, ., 00, WIB, .], [Beberapa, warga, sekitar, mengatakan, ,, bangunan, yang, selama, ini, berfungsi, sebagai, tempat, istirahat, petugas, kebersihan, itu, ,, pada, malam, hari, biasanya, dijadikan, tempat, mangkal, sejumlah, pemuda, .], [Api, di, lokasi, kebakaran, yang, berjarak, beberapa, puluh, meter, dari, rumah, mantan, Presiden, B, .], [J, .], [Habibie, itu, berhasil, dipadamkan, dalam, tempo, dua, jam, .], [Hingga, kini, ,, belum, diketahui, jumlah, kerugian, .], [Sehari, sebelumnya, ,, si, jago, merah, beraksi, di, Jalan, Tubagus, Angke, ,, Jakarta, Barat, .], [Sebanyak, 240, rumah, hangus, terbakar, [, baca, :, Ratusan, Rumah, di, Tubagus, Angke, Hangus, Terbakar, ], .], [Api, mulai, terlihat, dari, sebuah, rumah, penduduk, di, wilayah, RT7/RW1, sekitar, pukul, 21, ., 15, WIB, .], [Si, jago, merah, cepat, membesar, dan, menyambar, ratusan, rumah, yang, sebagian, besar, terbuat, dari, tripleks, .], [Tak, lebih, dari, dua, jam, ,, api, melalap, rumah, penduduk, di, tujuh, RT, ., (, TNA/Noor, Ramadhan, dan, Agus, Prijatno, ), .]]</td>\n",
       "      <td>[[Lokasi, kebakaran, di, rumah, bernomor, sembilan, di, Perumahan, Patra, Kuningan, ,, Jaksel, ,, ini, hanya, berjarak, puluhan, meter, dari, kediaman, mantan, Presiden, Habibie, .], [Jumlah, kerugian, belum, diketahui, .]]</td>\n",
       "      <td>[4, 7]</td>\n",
       "    </tr>\n",
       "    <tr>\n",
       "      <th>203262.json</th>\n",
       "      <td>[[Empat, tahun, silam, ,, Ballack, terpaksa, duduk, di, bangku, cadangan, ketika, Jerman, berjuang, menahan, gempuran, Ronaldo, dkk, di, babak, final, PD, 2002, di, Jepang-Korea, .], [Akumulasi, kartu, kuning, membuat, playmaker, Jerman, itu, harus, menitikkan, air, mata, menyaksikan, Oliver, Kahn, dkk, berjuang, “, sendirian, ”, .], [Kini, ,, di, kandang, sendiri, ,, air, mata, kembali, menggenang, di, pipi, Ballack, ,, setelah, hanya, dalam, dua, menit, ,, performa, gemilang, dari, anak-anak, Italia, mengubur, mimpi, dan, ambisi, timnya, melangkah, ke, babak, pamungkas, .], [Ballack, pun, seperti, ditakdirkan, untuk, tidak, dapat, bermain, di, partai, puncak, Piala, Dunia, ., Seusai, wasit, Benito, Archundia, (, Meksiko, ), meniup, peluit, akhir, tanda, pertandingan, usai, ,, pemain, yang, begitu, dipuji, Jose, Mourinho, ,, itu, tak, kuasa, untuk, kembali, bercucur, air, mata, .], [“, Sangat, pahit, rasanya, bagi, kami, tersingkir, dengan, cara, seperti, ini, ,, satu, menit, dari, peluit, akhir, ,, ”, kata, Ballack, .], [“, Pahit, ,, pahit, ,, tapi, bukannya, kami, tidak, pantas, ,, bukan, .], [Kami, memang, tampil, terlambat, panas, di, babak, pertama, ,, tapi, kami, mampu, tampil, bagus, di, babak, kedua, ,, ”, imbuhnya, ., Menurut, mantan, kapten, Bayern, Muenchen, yang, musim, depan, akan, tampil, bersama, Frank, Lampard, di, Stamford, Bridge, ,, penampilan, Tim, Panser, tidak, kalah, jika, dibanding, performa, Azzurri, .], [“, Pertandingan, itu, berjalan, seimbang, .], [Memang, ,, Italia, mempunyai, peluang, lebih, bagus, di, babak, perpanjangan, waktu, ketika, tendangan, mereka, membentur, mistar, gawang, dua, kali, .], [Tapi, ,, saya, rasa, ,, sesudah, itu, kami, pun, punya, sejumlah, peluang, emas, ,, terutama, sundulan, Lukas, Podolski, ,, ”, tegas, Ballack, ., Hanya, dalam, hitungan, detik, memasuki, babak, kedua, perpanjangan, waktu, ,, Italia, sungguh, membuat, degup, jantung, 60, ribu, penonton, di, Westfalenstadion, ,, Dortmund, ,, berhenti, sejenak, ketika, tiba-tiba, Alberto, Gilardino, lolos, dari, pengawalan, Christoph, Metzelder, ,, dan, mampu, mengecoh, kiper, Jens, Lehmann, .], [Sayang, ,, tendangannya, hanya, membentur, tiang, gawang, .], [Semenit, kemudian, ,, giliran, mistar, atas, Lehmann, yang, tertimpa, tendangan, Gianluca, Zambrotta, ., Jerman, pun, punya, dua, peluang, lewat, Podolski, .], [Pertama, ,, ketika, sundulannya, melebar, padahal, posisi, Podolski, sendiri, sangat, bebas, .], [Kedua, ,, ketika, tendangan, kandidat, Pemain, Muda, Terbaik, itu, mampu, secara, gemilang, ditip, Gianlugi, Buffon, ,, delapan, menit, menjelang, pertandingan, usai, ., Lantas, ,, datanglah, passing, sempurna, dari, Andrea, Pirlo, ,, man, of, the, match, ,, yang, menset-up, kemenangan, Italia, .], [“, Saya, tidak, begitu, tahu, apa, yang, terjadi, ,, ”, kilah, Ballack, .], [”, Tendangan, penjuru, dari, Italia, mampu, kami, halau, .], [Tiba-tiba, Pirlo, melakukan, tindakan, gemilang, .], [Biasanya, ,, seorang, pemain, akan, melakukan, tendangan, ke, gawang, ,, tapi, apa, yang, dilakukannya, sungguh, luar, biasa, ,, berlari, masuk, ke, kotak, 16, meter, .], [Kami, punya, tiga, pemain, didekatnya, ,, tapi, tidak, dapat, menghalanginya, untuk, melakukan, passing, kepada, (, Fabio, ), Grosso, .], [Apalagi, tendangan, Grosso, benar-benar, cantik, .], [Penyelesaian, akhir, yang, luar, biasa, ,, ”, kata, Ballack, ., Dengan, kembali, hilangnya, kesempatan, bermain, di, partai, pamungkas, Piala, Dunia, membuat, Ballack, meratapi, nasibnya, sendiri, .], [“, Sepertinya, ,, saya, ditakdirkan, untuk, tidak, dapat, bermain, di, partai, puncak, .], [Pahit, rasanya, ,, ”, kata, Ballack, lirih, .]]</td>\n",
       "      <td>[[Dua, kali, Michael, Ballack, berjuang, di, PD, ,, dua, kali, pula, ia, gagal, tampil, di, babak, final, .], [Di, PD, 2002, ,, Ballack, absen, karena, akumulasi, kartu, .], [Kini, ,, di, kandang, sendiri, ,, Ballack, gagal, mengantarkan, timnya, ke, babak, pamungkas, .], [“, Pahit, ,, rasanya, ,, ”, kata, Ballack, .]]</td>\n",
       "      <td>[0, 2, 22, 7]</td>\n",
       "    </tr>\n",
       "    <tr>\n",
       "      <th>66332.json</th>\n",
       "      <td>[[Liputan6, ., com, ,, Bandung, :, Ruthini, ,, anggota, Pondok, Nabi, belum, boleh, pulang, meski, keluarga, Simamora, sudah, menjemput, ke, Gereja, Bethel, Tabernakel, ,, Lengkong, Besar, ,, Bandung, ,, Jawa, Barat, ,, Rabu, (, 12/11, ), .], [Wanita, muda, ini, rupanya, masih, harus, menjalani, serangkaian, rehabilitasi, .], [Tim, Crisis, Center, khawatir, dengan, kondisi, kestabilan, jiwa, Ruthini, setelah, mengikuti, ritual, kiamat, ala, Pondok, Nabi, .], [Piator, Simarmata, ,, ayah, Ruthini, ,, yang, semula, hendak, membawa, pulang, anaknya, cuma, bisa, pasrah, .], [Kepada, reporter, SCTV, ,, salah, seorang, kerabat, Simarmata, menuturkan, ,, Ruthini, pergi, dari, rumah, pada, 2000, .], [Ketika, itu, ,, Ruthini, tengah, menyelesaikan, skripsi, di, Universitas, Gunadharma, ,, Jakarta, .], [Piator, mengaku, tidak, mengetahui, anaknya, menjadi, pengikut, Mangapin, Sibuea, .], [Selama, Piator, bermukim, di, Tapanuli, Utara, ,, ia, pun, tak, mengetahui, bahwa, Ruthini, memutuskan, drop, out, dari, kuliah, .], [Lelaki, tua, ini, berniat, menunggui, Ruthini, yang, bersama, ratusan, jemaat, Pondok, Nabi, lainnya, telah, dipindahkan, dari, Gereja, Bethel, ke, Gedung, Sinode, Gereja, Protestan, Indonesia, Barat, ,, Jalan, Seke, Salam, ,, Sukamiskin, ,, Ujungberung, ,, Bandung, .], [Sejumlah, keluarga, anggota, sekte, lainnya, juga, melakukan, hal, serupa, .], [Mereka, sengaja, datang, untuk, menjemput, para, jemaat, .], [Tapi, batal, ,, karena, Tim, Crisis, Center, melarang, .], [Akhirnya, ,, para, kerabat, ikut, mengiringi, proses, evakuasi, ke, tempat, penampungan, baru, di, Ujungberung, [, baca, :, Jemaat, Pondok, Nabi, Dipindahkan, ke, Ujungberung, ], .], [Pemindahan, jemaat, Pondok, Nabi, sempat, menemui, kendala, .], [Tim, Crisis, Center, dan, Forum, Komunikasi, Kristen, Jabar, kesulitan, mendapatkan, bantuan, transportasi, .], [Evakuasi, baru, dilaksanakan, menjelang, tengah, hari, .], [Sekitar, 260-an, jemaat, dan, barang-barang, mereka, diangkut, menggunakan, tiga, unit, bus, dan, satu, truk, mini, .], [Gedung, baru, yang, ditempati, para, jemaat, dinilai, lebih, baik, .], [Mereka, mendapat, tempat, tidur, dengan, sarana, mandi, cuci, kakus, yang, memadai, .], [Tim, Crisis, Center, berharap, bantuan, dari, masyarakat, untuk, menyambung, hidup, para, jemaat, .], [Sebab, ,, sejak, mengikuti, aliran, Mangapin, Sibuea, ,, harta, benda, para, jemaat, sudah, ludes, .], [Mereka, percaya, ketika, kiamat, datang, pada, 10, November, 2003, ,, sehingga, harta, dan, kekayaan, sudah, tak, berarti, lagi, .], [Tadi, siang, ,, Komisi, E, DPRD, Jabar, sempat, mengunjungi, Gereja, Bethel, Tabernakel, .], [Anggota, Dewan, sempat, berbincang, dengan, sejumlah, anggota, sekte, .], [Kepada, Tim, Crisis, Center, ,, Komisi, E, meminta, agar, para, jemaat, dikembalikan, kepada, kepercayaan, semula, ., (, KEN/Aprilia, Melissa, ), .]]</td>\n",
       "      <td>[[Sekitar, 260-an, pengikut, Mangapin, Sibuea, itu, belum, dapat, dibawa, pulang, oleh, keluarganya, dengan, alasan, jiwa, mereka, masih, labil, .], [Tim, Crisis, Center, meminta, bantuan, dari, warga, untuk, membantu, menyambung, hidup, para, jemaat, .]]</td>\n",
       "      <td>[6, 19]</td>\n",
       "    </tr>\n",
       "  </tbody>\n",
       "</table>\n",
       "</div>"
      ],
      "text/plain": [
       "                                                                                                                                                                                                                                                                                                                                                                                                                                                                                                                                                                                                                                                                                                                                                                                                                                                                                                                                                                                                                                                                                                                                                                                                                                                                                                                                                                                                                                                                                                                                                                                                                                                                                                                                                                                                                                                                                                                                                                                                                                                                                                                                                                                                                                                                                                                                                                                                                                                                                                                                                                                                                                                                                                                                                                                                                                                                                                                                                                                                                                                                                                                                                                                                                                                                                                                                                                                                                                                                                                                                                                                                                                                                                                                                                                                                             clean_article  \\\n",
       "228132.json                                                                                                                                                                                                                                                                                                                                                                                                                                                                                                                                                                                                                                                                                                                                                                                                                                                                                                                                                                                                                                                                                                                                                                                                                                                                                                                                                                                                                                                                                                                                                                                                                                                                                                                            [[TIGA, kali, somasi, dilayangkan, kepada, Nuri, Shaden, .], [Namun, reaksi, yang, diharapkan, agar, meminta, maaf, hasilnya, nihil, .], [Keluarga, Janu, Utomo, melaporkan, kasus, kecelakaan, di, Jalan, Sisingamaraja, ,, Jakarta, Selatan, ,, 1, Juni, silam, itu, ke, Kepolisian, Resor, Metro, Jaksel, .], [\", Kita, melaporkan, atas, dugaan, tindak, pidana, ,, \", tutur, Taufik, Basari, ,, kuasa, hukum, keluarga, Janu, ,, belum, lama, ini, .], [Taufik, menambahkan, ,, pihaknya, ingin, Nuri, mencabut, pernyataan, di, depan, pers, ,, 2, Juni, silam, .], [Ia, juga, ingin, Nuri, meminta, maaf, di, media, atas, kejadian, itu, .], [Dan, juga, menyampaikan, belasungkawa, .], [Taufik, menilai, ,, pernyataan, Nuri, memutarbalikkan, fakta, .], [\", Yang, kita, adukan, soal, pernyataan-pernyataannya, ,, \", ujar, dia, .], [Keluarga, Janu, melaporkan, dengan, dua, tuduhan, .], [Yakni, sikap, yang, tidak, menyenangkan, dan, pencemaran, nama, baik, .], [Kala, itu, Nuri, menuding, mobil, ambulans, yang, menabrak, kendaraannya, .], [\", Intinya, mereka, menabrak, kita, ,, \", ucap, Nuri, saat, jumpa, pers, waktu, itu, .], [Pernyataan, disampaikan, bintang, film, Seventeen, didampingi, Noni, T, ,, pengacaranya, .], [Ia, menyalahkan, Januari, Purwoko, ,, sopir, ambulans, .], [Padahal, Januari, sudah, mengklakson, mobil, Honda, Jazz, yang, ditumpangi, Nuri, .], [Tabrakan, pun, terhindarkan, .], [Ambulans, rusak, di, bagian, kanan, dan, as, roda, belakang, patah, .], [Tabrakan, mobil, ambulans, dan, Honda, Jazz, yang, dikendarai, Nuri, merenggut, nyawa, Janu, Utomo, .], [Sedangkan, Januari, Purwoko, ,, sopir, ambulans, cedera, parah, .], [Tiga, lainnya, di, mobil, ambulans, luka, ringan, .], [Yakni, istri, Janu, ,, Retno, Indarti, ,, Krisanti, Indriani, ,, dan, perawat, Risa, Citra, Dewi, .], [Kala, itu, keluarga, mengantarkan, Janu, hendak, mencuci, darah, .], [Soal, ini, kubu, Nuri, membantah, .], [Noni, mengatakan, Janu, meninggal, karena, penyakit, jantung, yang, dideritanya, ., (, As, ), .]]   \n",
       "116936.json                                                                                                                                                                                                                                                                                                                                                                                                                                                                                                                                                                                                                                                                                                                                                                                                                                                                                                                                                                                                                                                                                                                                                                                                                                                                                                                                                                                                                                                                                                                                                                                                                                                                                                                                                                                                                                                                                                                                                                                                                                                                                                                                                                                                                                                                                                                                                                                                                                                                                                                                                                                                                                                                                     [[Liputan6, ., com, ,, Jakarta, :, Earth, Wind, and, Fire, Experience, Worldwide, Tour, 2006, Featuring, Al, Mckay, All, Star, sukses, memuaskan, penikmat, jazz, yang, memadati, Grand, Melia, ,, Jakarta, Selatan, ,, Rabu, (, 1/2, ), malam, .], [Pertunjukan, ini, adalah, penampilan, kedua, dari, rangkaian, tur, grup, asal, Chicago, ,, Amerika, Serikat, itu, di, enam, kota, besar, di, Indonesia, .], [Setelah, Jakarta, dan, Bandung, ,, mereka, siap, menggoyang, Semarang, ,, Yogyakarta, ,, Surabaya, ,, dan, Medan, .], [Tembang, Serpentine, Fire, menjadi, lagu, pembuka, Earth, Wind, and, Fire, .], [Dengan, energik, ,, trio, vokal, Tim, Owens, ,, Claude, Woods, ,, dan, Devere, Duckett, berhasil, memukau, penonton, .], [Diiringi, Al, Mckay, All, Star, ,, mereka, terus, mendendangkan, hits, andalan, ,, antara, lain, Pride, dan, Gotta, Get, You, Into, My, Life, .], [Meski, Earth, Wind, and, Fire, terbilang, grup, lawas, ,, tembang, mereka, tetap, digemari, .], [Buktinya, 1, ., 500, tiket, yang, disediakan, untuk, Jakarta, ludes, terjual, ., (, KEN/Teguh, Dwi, Hartono, ), .]]   \n",
       "57896.json                                                                                                                                                                                                                                                                                                                                                                                                                                                                                                                                                                                                                                                                                                                                                                                                                                                                                                                                                                                                                                                                                                                                                                                                                                                                                                                                                                                                                                                                                                                                                                                                                                                                                                                                                                                                                                                                                                                                                                                                                                                                                                                                      [[Liputan6, ., com, ,, Jakarta, :, Belasan, unit, mobil, pemadam, kebakaran, dikerahkan, untuk, menjinakkan, amukan, si, jago, merah, di, sebuah, rumah, di, kawasan, Perumahan, Patra, Kuningan, ,, Jakarta, Selatan, ,, Ahad, (, 6/7, ), sore, .], [Petugas, pemadam, juga, membuka, paksa, bagian, tengah, rumah, bernomor, sembilan, itu, untuk, menyelamatkan, isi, hunian, di, Kompleks, Perumahan, Pertamina, tersebut, .], [Puluhan, petugas, pemadam, disebar, ke, beberapa, tempat, untuk, mencegah, meluasnya, kobaran, api, yang, mulai, menyala, sekitar, pukul, 17, ., 00, WIB, .], [Beberapa, warga, sekitar, mengatakan, ,, bangunan, yang, selama, ini, berfungsi, sebagai, tempat, istirahat, petugas, kebersihan, itu, ,, pada, malam, hari, biasanya, dijadikan, tempat, mangkal, sejumlah, pemuda, .], [Api, di, lokasi, kebakaran, yang, berjarak, beberapa, puluh, meter, dari, rumah, mantan, Presiden, B, .], [J, .], [Habibie, itu, berhasil, dipadamkan, dalam, tempo, dua, jam, .], [Hingga, kini, ,, belum, diketahui, jumlah, kerugian, .], [Sehari, sebelumnya, ,, si, jago, merah, beraksi, di, Jalan, Tubagus, Angke, ,, Jakarta, Barat, .], [Sebanyak, 240, rumah, hangus, terbakar, [, baca, :, Ratusan, Rumah, di, Tubagus, Angke, Hangus, Terbakar, ], .], [Api, mulai, terlihat, dari, sebuah, rumah, penduduk, di, wilayah, RT7/RW1, sekitar, pukul, 21, ., 15, WIB, .], [Si, jago, merah, cepat, membesar, dan, menyambar, ratusan, rumah, yang, sebagian, besar, terbuat, dari, tripleks, .], [Tak, lebih, dari, dua, jam, ,, api, melalap, rumah, penduduk, di, tujuh, RT, ., (, TNA/Noor, Ramadhan, dan, Agus, Prijatno, ), .]]   \n",
       "203262.json  [[Empat, tahun, silam, ,, Ballack, terpaksa, duduk, di, bangku, cadangan, ketika, Jerman, berjuang, menahan, gempuran, Ronaldo, dkk, di, babak, final, PD, 2002, di, Jepang-Korea, .], [Akumulasi, kartu, kuning, membuat, playmaker, Jerman, itu, harus, menitikkan, air, mata, menyaksikan, Oliver, Kahn, dkk, berjuang, “, sendirian, ”, .], [Kini, ,, di, kandang, sendiri, ,, air, mata, kembali, menggenang, di, pipi, Ballack, ,, setelah, hanya, dalam, dua, menit, ,, performa, gemilang, dari, anak-anak, Italia, mengubur, mimpi, dan, ambisi, timnya, melangkah, ke, babak, pamungkas, .], [Ballack, pun, seperti, ditakdirkan, untuk, tidak, dapat, bermain, di, partai, puncak, Piala, Dunia, ., Seusai, wasit, Benito, Archundia, (, Meksiko, ), meniup, peluit, akhir, tanda, pertandingan, usai, ,, pemain, yang, begitu, dipuji, Jose, Mourinho, ,, itu, tak, kuasa, untuk, kembali, bercucur, air, mata, .], [“, Sangat, pahit, rasanya, bagi, kami, tersingkir, dengan, cara, seperti, ini, ,, satu, menit, dari, peluit, akhir, ,, ”, kata, Ballack, .], [“, Pahit, ,, pahit, ,, tapi, bukannya, kami, tidak, pantas, ,, bukan, .], [Kami, memang, tampil, terlambat, panas, di, babak, pertama, ,, tapi, kami, mampu, tampil, bagus, di, babak, kedua, ,, ”, imbuhnya, ., Menurut, mantan, kapten, Bayern, Muenchen, yang, musim, depan, akan, tampil, bersama, Frank, Lampard, di, Stamford, Bridge, ,, penampilan, Tim, Panser, tidak, kalah, jika, dibanding, performa, Azzurri, .], [“, Pertandingan, itu, berjalan, seimbang, .], [Memang, ,, Italia, mempunyai, peluang, lebih, bagus, di, babak, perpanjangan, waktu, ketika, tendangan, mereka, membentur, mistar, gawang, dua, kali, .], [Tapi, ,, saya, rasa, ,, sesudah, itu, kami, pun, punya, sejumlah, peluang, emas, ,, terutama, sundulan, Lukas, Podolski, ,, ”, tegas, Ballack, ., Hanya, dalam, hitungan, detik, memasuki, babak, kedua, perpanjangan, waktu, ,, Italia, sungguh, membuat, degup, jantung, 60, ribu, penonton, di, Westfalenstadion, ,, Dortmund, ,, berhenti, sejenak, ketika, tiba-tiba, Alberto, Gilardino, lolos, dari, pengawalan, Christoph, Metzelder, ,, dan, mampu, mengecoh, kiper, Jens, Lehmann, .], [Sayang, ,, tendangannya, hanya, membentur, tiang, gawang, .], [Semenit, kemudian, ,, giliran, mistar, atas, Lehmann, yang, tertimpa, tendangan, Gianluca, Zambrotta, ., Jerman, pun, punya, dua, peluang, lewat, Podolski, .], [Pertama, ,, ketika, sundulannya, melebar, padahal, posisi, Podolski, sendiri, sangat, bebas, .], [Kedua, ,, ketika, tendangan, kandidat, Pemain, Muda, Terbaik, itu, mampu, secara, gemilang, ditip, Gianlugi, Buffon, ,, delapan, menit, menjelang, pertandingan, usai, ., Lantas, ,, datanglah, passing, sempurna, dari, Andrea, Pirlo, ,, man, of, the, match, ,, yang, menset-up, kemenangan, Italia, .], [“, Saya, tidak, begitu, tahu, apa, yang, terjadi, ,, ”, kilah, Ballack, .], [”, Tendangan, penjuru, dari, Italia, mampu, kami, halau, .], [Tiba-tiba, Pirlo, melakukan, tindakan, gemilang, .], [Biasanya, ,, seorang, pemain, akan, melakukan, tendangan, ke, gawang, ,, tapi, apa, yang, dilakukannya, sungguh, luar, biasa, ,, berlari, masuk, ke, kotak, 16, meter, .], [Kami, punya, tiga, pemain, didekatnya, ,, tapi, tidak, dapat, menghalanginya, untuk, melakukan, passing, kepada, (, Fabio, ), Grosso, .], [Apalagi, tendangan, Grosso, benar-benar, cantik, .], [Penyelesaian, akhir, yang, luar, biasa, ,, ”, kata, Ballack, ., Dengan, kembali, hilangnya, kesempatan, bermain, di, partai, pamungkas, Piala, Dunia, membuat, Ballack, meratapi, nasibnya, sendiri, .], [“, Sepertinya, ,, saya, ditakdirkan, untuk, tidak, dapat, bermain, di, partai, puncak, .], [Pahit, rasanya, ,, ”, kata, Ballack, lirih, .]]   \n",
       "66332.json                                                                                                                                                                                                                                                                                                                                                                                                                                                                                                                                                                                                                                                                                                                                                                                                                                  [[Liputan6, ., com, ,, Bandung, :, Ruthini, ,, anggota, Pondok, Nabi, belum, boleh, pulang, meski, keluarga, Simamora, sudah, menjemput, ke, Gereja, Bethel, Tabernakel, ,, Lengkong, Besar, ,, Bandung, ,, Jawa, Barat, ,, Rabu, (, 12/11, ), .], [Wanita, muda, ini, rupanya, masih, harus, menjalani, serangkaian, rehabilitasi, .], [Tim, Crisis, Center, khawatir, dengan, kondisi, kestabilan, jiwa, Ruthini, setelah, mengikuti, ritual, kiamat, ala, Pondok, Nabi, .], [Piator, Simarmata, ,, ayah, Ruthini, ,, yang, semula, hendak, membawa, pulang, anaknya, cuma, bisa, pasrah, .], [Kepada, reporter, SCTV, ,, salah, seorang, kerabat, Simarmata, menuturkan, ,, Ruthini, pergi, dari, rumah, pada, 2000, .], [Ketika, itu, ,, Ruthini, tengah, menyelesaikan, skripsi, di, Universitas, Gunadharma, ,, Jakarta, .], [Piator, mengaku, tidak, mengetahui, anaknya, menjadi, pengikut, Mangapin, Sibuea, .], [Selama, Piator, bermukim, di, Tapanuli, Utara, ,, ia, pun, tak, mengetahui, bahwa, Ruthini, memutuskan, drop, out, dari, kuliah, .], [Lelaki, tua, ini, berniat, menunggui, Ruthini, yang, bersama, ratusan, jemaat, Pondok, Nabi, lainnya, telah, dipindahkan, dari, Gereja, Bethel, ke, Gedung, Sinode, Gereja, Protestan, Indonesia, Barat, ,, Jalan, Seke, Salam, ,, Sukamiskin, ,, Ujungberung, ,, Bandung, .], [Sejumlah, keluarga, anggota, sekte, lainnya, juga, melakukan, hal, serupa, .], [Mereka, sengaja, datang, untuk, menjemput, para, jemaat, .], [Tapi, batal, ,, karena, Tim, Crisis, Center, melarang, .], [Akhirnya, ,, para, kerabat, ikut, mengiringi, proses, evakuasi, ke, tempat, penampungan, baru, di, Ujungberung, [, baca, :, Jemaat, Pondok, Nabi, Dipindahkan, ke, Ujungberung, ], .], [Pemindahan, jemaat, Pondok, Nabi, sempat, menemui, kendala, .], [Tim, Crisis, Center, dan, Forum, Komunikasi, Kristen, Jabar, kesulitan, mendapatkan, bantuan, transportasi, .], [Evakuasi, baru, dilaksanakan, menjelang, tengah, hari, .], [Sekitar, 260-an, jemaat, dan, barang-barang, mereka, diangkut, menggunakan, tiga, unit, bus, dan, satu, truk, mini, .], [Gedung, baru, yang, ditempati, para, jemaat, dinilai, lebih, baik, .], [Mereka, mendapat, tempat, tidur, dengan, sarana, mandi, cuci, kakus, yang, memadai, .], [Tim, Crisis, Center, berharap, bantuan, dari, masyarakat, untuk, menyambung, hidup, para, jemaat, .], [Sebab, ,, sejak, mengikuti, aliran, Mangapin, Sibuea, ,, harta, benda, para, jemaat, sudah, ludes, .], [Mereka, percaya, ketika, kiamat, datang, pada, 10, November, 2003, ,, sehingga, harta, dan, kekayaan, sudah, tak, berarti, lagi, .], [Tadi, siang, ,, Komisi, E, DPRD, Jabar, sempat, mengunjungi, Gereja, Bethel, Tabernakel, .], [Anggota, Dewan, sempat, berbincang, dengan, sejumlah, anggota, sekte, .], [Kepada, Tim, Crisis, Center, ,, Komisi, E, meminta, agar, para, jemaat, dikembalikan, kepada, kepercayaan, semula, ., (, KEN/Aprilia, Melissa, ), .]]   \n",
       "\n",
       "                                                                                                                                                                                                                                                                                                                                clean_summary  \\\n",
       "228132.json                                                                                       [[TIGA, kali, somasi, dilayangkan, kepada, Nuri, Shaden, .], [Namun, reaksi, yang, diharapkan, agar, meminta, maaf, hasilnya, nihil, .], [Keluarga, Janu, Utomo, pun, melaporkan, Nuri, ke, Kepolisian, Resor, Metro, Jakarta, Selatan, .]]   \n",
       "116936.json                                                                                       [[Setelah, di, Bandung, ,, Earth, Wind, and, Fire, giliran, menghibur, penikmat, jazz, di, Jakarta, ,, tadi, malam, .], [Lagu-lagu, andalan, grup, asal, Chicago, itu, mampu, menyihir, penonton, sampai, detik, terakhir, pertunjukan, .]]   \n",
       "57896.json                                                                                                    [[Lokasi, kebakaran, di, rumah, bernomor, sembilan, di, Perumahan, Patra, Kuningan, ,, Jaksel, ,, ini, hanya, berjarak, puluhan, meter, dari, kediaman, mantan, Presiden, Habibie, .], [Jumlah, kerugian, belum, diketahui, .]]   \n",
       "203262.json  [[Dua, kali, Michael, Ballack, berjuang, di, PD, ,, dua, kali, pula, ia, gagal, tampil, di, babak, final, .], [Di, PD, 2002, ,, Ballack, absen, karena, akumulasi, kartu, .], [Kini, ,, di, kandang, sendiri, ,, Ballack, gagal, mengantarkan, timnya, ke, babak, pamungkas, .], [“, Pahit, ,, rasanya, ,, ”, kata, Ballack, .]]   \n",
       "66332.json                                                                    [[Sekitar, 260-an, pengikut, Mangapin, Sibuea, itu, belum, dapat, dibawa, pulang, oleh, keluarganya, dengan, alasan, jiwa, mereka, masih, labil, .], [Tim, Crisis, Center, meminta, bantuan, dari, warga, untuk, membantu, menyambung, hidup, para, jemaat, .]]   \n",
       "\n",
       "            extractive_summary  \n",
       "228132.json          [0, 1, 2]  \n",
       "116936.json             [1, 6]  \n",
       "57896.json              [4, 7]  \n",
       "203262.json      [0, 2, 22, 7]  \n",
       "66332.json             [6, 19]  "
      ]
     },
     "execution_count": 14,
     "metadata": {},
     "output_type": "execute_result"
    }
   ],
   "source": [
    "df_canonical_train = pd.DataFrame.from_dict(data_canonical_train, orient=\"index\")\n",
    "df_canonical_train = df_canonical_train.drop(columns=['url', 'id'])\n",
    "df_canonical_train.head()"
   ]
  },
  {
   "cell_type": "markdown",
   "id": "4d91504a",
   "metadata": {},
   "source": [
    "- Count Rows"
   ]
  },
  {
   "cell_type": "code",
   "execution_count": 15,
   "id": "ffe9516d",
   "metadata": {},
   "outputs": [
    {
     "name": "stdout",
     "output_type": "stream",
     "text": [
      "Max rows canonical dev:  10972\n",
      "Max rows canonical test:  10972\n",
      "Max rows canonical train:  193883\n"
     ]
    }
   ],
   "source": [
    "row_canonical_dev = df_canonical_dev.shape[0]\n",
    "row_canonical_test = df_canonical_test.shape[0]\n",
    "row_canonical_train = df_canonical_train.shape[0]\n",
    "\n",
    "print(\"Max rows canonical dev: \", row_canonical_dev)\n",
    "print(\"Max rows canonical test: \", row_canonical_test)\n",
    "print(\"Max rows canonical train: \", row_canonical_train)"
   ]
  },
  {
   "cell_type": "markdown",
   "id": "b870b7a8",
   "metadata": {},
   "source": [
    "## Convert to string"
   ]
  },
  {
   "cell_type": "code",
   "execution_count": 16,
   "id": "fed5d80f",
   "metadata": {
    "scrolled": true
   },
   "outputs": [
    {
     "data": {
      "text/html": [
       "<div>\n",
       "<style scoped>\n",
       "    .dataframe tbody tr th:only-of-type {\n",
       "        vertical-align: middle;\n",
       "    }\n",
       "\n",
       "    .dataframe tbody tr th {\n",
       "        vertical-align: top;\n",
       "    }\n",
       "\n",
       "    .dataframe thead th {\n",
       "        text-align: right;\n",
       "    }\n",
       "</style>\n",
       "<table border=\"1\" class=\"dataframe\">\n",
       "  <thead>\n",
       "    <tr style=\"text-align: right;\">\n",
       "      <th></th>\n",
       "      <th>clean_article</th>\n",
       "      <th>clean_summary</th>\n",
       "      <th>extractive_summary</th>\n",
       "    </tr>\n",
       "  </thead>\n",
       "  <tbody>\n",
       "    <tr>\n",
       "      <th>3721.json</th>\n",
       "      <td>Liputan6 . com , Jakarta : Keinginan untuk menindaklanjuti hasil curah pendapat yang diprakarsai Kwik Kian Gie , semakin mengental . Buktinya , beberapa anggota DPR ngebet membentuk Forum Lobi . Ketua DPR Akbar Tandjung baru-baru ini , mempersilakan para wakil rakyat yang ingin membentuk forum tersebut . Namun , Akbar menegaskan , pembentukan forum tersebut bukan bagian dari mekanisme DPR . Menurut Akbar , hasil curah pendapat 11 November silam , bisa saja dimasukkan dalam agenda dewan . Asalkan , kata Ketua Umum Golkar ini , semua proses harus berjalan sesuai prosedur yang ada . Artinya , itu harus disepakati melalui rapat fraksi dan dibawa ke Badan Musyawarah . \" Bila Bamus telah merumuskannya menjadi sebuah usulan agenda , maka dapat dibawa ke rapat paripurna yang nantinya akan menjadi agenda DPR , \" kata Akbar . ( YYT/Diah Kusuma dan Prihandoyo ) .</td>\n",
       "      <td>Sebagian anggota DPR berniat besar menindaklanjuti hasil curah pendapat menjadi agenda dewan . Akbar Tandjung setuju membentuk Forum Lobi , asal , sesuai prosedur yang ada di DPR .</td>\n",
       "      <td>[1, 4]</td>\n",
       "    </tr>\n",
       "    <tr>\n",
       "      <th>2833.json</th>\n",
       "      <td>Liputan6 . com , Jakarta : Gubernur DKI Jakarta Sutiyoso mengakui , pendapatan pajak dari kendaraan bermotor khususnya mobil mewah tidak didapat dengan optimal . Guna meningkatkan Pendapatan Asli Daerah DKI Jakarta , sutiyoso meminta Kepala Dinas Pendapatan Daerah menertibkan penerimaan pajak mobil mewah yang selama ini dinilai tak transparan . Penegasan ini disampaikannya seusai meresmikan Gedung Kantor Bersama Samsat Unit Pelayanan Pajak Kendaraan Bermotor dan Bea Balik Nama Kendaraan Bermotor di Jakarta Barat , Jumat ( 27/10 ) . Pajak mobil mewah , kata Sutiyoso , seharusnya dapat dioptimalkan seiring dengan banyaknya mobil mewah yang masuk ke Indonesia . Selama ini pemilik mobil mewah membayar pajaknya melalui oknum dengan biaya lebih murah . Karena itu , Pemerintah Daerah Jakarta akan bekerja sama dengan Kepolisian Daerah Metro Jaya untuk menangani sejumlah oknum yang membiarkan pemilik mobil mewah tidak membayar pajak . Menurut Sutiyoso , pajak kendaraan bermotor adalah andalan utama PAD DKI Jakarta . Pemilik mobil mewah sudah sepantasnya dikenakan pajak lebih mahal karena mereka tergolong orang kaya . ( ULF/Insan Kamil dan Satya Pandia ) .</td>\n",
       "      <td>Pendapatan Asli Daerah Jakarta kerap terkumpul secara tak optimal . Penyebabnya , banyak pemilik mobil mewah yang membayar pajak lewat calo .</td>\n",
       "      <td>[1, 4]</td>\n",
       "    </tr>\n",
       "    <tr>\n",
       "      <th>729.json</th>\n",
       "      <td>Liputan6 . com , Jakarta : Sejumlah mobil yang terjebak di ruang basement Gedung Bursa Efek Jakarta akibat ledakan bom di lantai parkir , Jumat ( 15/9 ) pagi , mulai diambil pemiliknya . Sebagian mobil lainnya belum bisa dikeluarkan karena masih harus diperiksa tim dari Pusat Laboratorium Forensik Kepolisian Republik Indonesia . Dari pantauan SCTV , sekitar pukul 10 . 00 WIB , jumlah mobil yang sudah dikeluarkan mencapai 45 unit . Untuk mengambil mobil tersebut , para pemilik harus menunjukkan bukti kepemilikan , seperti Surat Tanda Nomor Kendaraan Bermotor , Buku Pemilik Kendaraan Bermotor , dan karcis parkir . Mobil yang boleh diambil adalah mobil yang berada di luar garis polisi . Sedangkan mobil yang berada di dalam garis polisi belum bisa diambil seraya menunggu izin dari Tim Puslabfor Polri . Hal itu dilakukan agar penyelidikan polisi tak mengalami gangguan . Menurut petugas parkir , jumlah total mobil di lantai P2 saat terjadi ledakan mencapai 246 unit . Dari jumlah itu hanya 73 unit mobil yang dalam kondisi baik . Sementara itu , empat anggota Dewan Perwakilan Rakyat RI dari Fraksi Partai Demokrasi Indonesia-Perjuangan mengunjungi BEJ . Menurut Sukowaluyo Mintoraharjo , kasus peledakan ini harus secepatnya dituntaskan . Ini dikarenakan bursa efek merupakan institusi penting , yaitu sebagai salah satu simbol stabilitas perekonomian nasional . Hingga sekitar pukul 11 . 00 WIB puluhan karyawan yang berkantor di Gedung BEJ terlihat duduk-duduk di lobi . Mereka tampak membicarakan insiden yang telah menelan korban jiwa itu . ( ULF/Roy Akhmad dan Dwi Guntoro Wicaksono ) .</td>\n",
       "      <td>Sejumlah mobil yang terjebak di BEJ sudah mulai dikeluarkan . Dari 246 mobil hanya 73 unit yang kondisinya baik .</td>\n",
       "      <td>[4, 8]</td>\n",
       "    </tr>\n",
       "    <tr>\n",
       "      <th>6523.json</th>\n",
       "      <td>Liputan6 . com , Medan : Kepolisian Daerah Sumatera Utara meringkus tiga tersangka kasus peledakan bom pada 15 lokasi gereja di Medan . Dari tangan tersangka polisi menyita barang bukti berupa peralatan perakit bom dan sejumlah uang kontan . Demikian dijelaskan Kepala Polda Sumut Inspektur Jenderal Polisi Hotman Siagian , Selasa ( 16/1 ) . Menurut Kapolda , ketiga tersangka ditahan sejak hari Kamis silam . Mereka adalah Edi Sugiarto warga kawasan Jalan Pimpinan , Hakim alias Fadli warga Jalan Kolam , dan Insinyur Azis alias Lingga penduduk Aceh Tengah . Sejauh ini , meski diketahui Azis adalah tahanan politik kasus GAM yang dilepas beberapa tahun silam , Polda Sumut belum menemukan bukti keterkaitan para pelaku dengan Kelompok Gerakan Aceh Merdeka . Ketiganya ditangkap di rumah kontrakan mereka masing-masing . Dari hasil pemeriksaan , Kata Hotman , tersangka Edi bekerja sebagai perakit elektrik 15 bom dengan upah Rp 500 ribu per bom . Sedangkan Ir . Azis dan Hakim adalah pembuat komposisi bom . Sementara Edi adalah perancang rangkaian elektrik alat peledak itu . Hotman menambahkan , polisi juga menyita alat perakit bom seperti solder , multi tester , rangkaian bom , weaker , batu baterai , isian bom , kontainer , dan uang kontan Rp 159 juta yang akan digunakan kawanan untuk mencari senjata . Polisi juga masih mengeja 11 tersangka yang menjadi pengantar bom . Tiga orang telah diketahui identitasnya , yaitu Polim alias Kiswan , Zulkarnaen , dan Ayamuda . ( PIN/Panogari Panggabean dan Amal Rambe ) .</td>\n",
       "      <td>Polda Sumatra Utara menahan tiga tersangka perakit bom yang meledakkan sejumlah gereja di Medan , malam Natal silam . Polda juga menyita sejumlah peralatan dan uang kontan .</td>\n",
       "      <td>[0, 1]</td>\n",
       "    </tr>\n",
       "    <tr>\n",
       "      <th>6489.json</th>\n",
       "      <td>Liputan6 . com , Jakarta : Ratusan mobil selundupan yang berhasil disita Bea dan Cukai , sejak enam bulan terakhir , akan dilelang pada pekan ini . Menurut rencana , hasil lelang akan digunakan untuk menalangi impor bea masuk barang yang tak dibayarkan oleh para importir nakal tersebut . Sebagian besar mobil mewah bekas yang akan dilelang Kantor Wilayah IV Tanjungpriok , Jakarta Utara itu , berasal dari Singapura dan Jepang . Biasanya , modus operandi yang dilakukan untuk menyelundupkan mobil impor bekas itu adalah dengan penyalahgunaan dokumen impor . Mobil bekas itu dikirim dengan menggunakan kontainer yang berbeda . Padahal , berdasarkan prosedur , impor mobil bekas tak boleh dilakukan dengan menggunakan peti kemas . Merujuk data Kanwil IV Tanjungpriok , sejak enam bulan terakhir , mobil mewah bekas yang berhasil disita sekitar 130 unit . Diperkirakan , total kerugian negara akibat kegiatan tersebut sekitar Rp 56 miliar . Selain itu , pada kurun waktu yang sama , Kanwil Bea Cukai Tanjungpriok juga berhasil menyita sekitar 200 mobil mewah baru yang diimpor dengan cara ilegal . Dari jumlah tersebut , diperkirakan negara mengalami kerugian sekitar Rp 1 triliun . Bea dan Cukai juga akan melelang sekitar 15 ribu tas olah raga ilegal dari berbagai merek terkenal . ( ICH/Arfan Yap Bano ) .</td>\n",
       "      <td>Bea dan Cukai Jakarta akan melelang ratusan mobil mewah impor ilegal . Selain itu , puluhan ribu tas impor ilegal juga akan dilelang .</td>\n",
       "      <td>[2, 10]</td>\n",
       "    </tr>\n",
       "  </tbody>\n",
       "</table>\n",
       "</div>"
      ],
      "text/plain": [
       "                                                                                                                                                                                                                                                                                                                                                                                                                                                                                                                                                                                                                                                                                                                                                                                                                                                                                                                                                                                                                                                                                                                                                                                                                                                                                                                                                                                                                                                                                                                                                                                                                                                              clean_article  \\\n",
       "3721.json                                                                                                                                                                                                                                                                                                                                                                                                                                                                                                                                                                                                                                                                                                                                                                  Liputan6 . com , Jakarta : Keinginan untuk menindaklanjuti hasil curah pendapat yang diprakarsai Kwik Kian Gie , semakin mengental . Buktinya , beberapa anggota DPR ngebet membentuk Forum Lobi . Ketua DPR Akbar Tandjung baru-baru ini , mempersilakan para wakil rakyat yang ingin membentuk forum tersebut . Namun , Akbar menegaskan , pembentukan forum tersebut bukan bagian dari mekanisme DPR . Menurut Akbar , hasil curah pendapat 11 November silam , bisa saja dimasukkan dalam agenda dewan . Asalkan , kata Ketua Umum Golkar ini , semua proses harus berjalan sesuai prosedur yang ada . Artinya , itu harus disepakati melalui rapat fraksi dan dibawa ke Badan Musyawarah . \" Bila Bamus telah merumuskannya menjadi sebuah usulan agenda , maka dapat dibawa ke rapat paripurna yang nantinya akan menjadi agenda DPR , \" kata Akbar . ( YYT/Diah Kusuma dan Prihandoyo ) .   \n",
       "2833.json                                                                                                                                                                                                                                                                                                                                                                                                                                                      Liputan6 . com , Jakarta : Gubernur DKI Jakarta Sutiyoso mengakui , pendapatan pajak dari kendaraan bermotor khususnya mobil mewah tidak didapat dengan optimal . Guna meningkatkan Pendapatan Asli Daerah DKI Jakarta , sutiyoso meminta Kepala Dinas Pendapatan Daerah menertibkan penerimaan pajak mobil mewah yang selama ini dinilai tak transparan . Penegasan ini disampaikannya seusai meresmikan Gedung Kantor Bersama Samsat Unit Pelayanan Pajak Kendaraan Bermotor dan Bea Balik Nama Kendaraan Bermotor di Jakarta Barat , Jumat ( 27/10 ) . Pajak mobil mewah , kata Sutiyoso , seharusnya dapat dioptimalkan seiring dengan banyaknya mobil mewah yang masuk ke Indonesia . Selama ini pemilik mobil mewah membayar pajaknya melalui oknum dengan biaya lebih murah . Karena itu , Pemerintah Daerah Jakarta akan bekerja sama dengan Kepolisian Daerah Metro Jaya untuk menangani sejumlah oknum yang membiarkan pemilik mobil mewah tidak membayar pajak . Menurut Sutiyoso , pajak kendaraan bermotor adalah andalan utama PAD DKI Jakarta . Pemilik mobil mewah sudah sepantasnya dikenakan pajak lebih mahal karena mereka tergolong orang kaya . ( ULF/Insan Kamil dan Satya Pandia ) .   \n",
       "729.json   Liputan6 . com , Jakarta : Sejumlah mobil yang terjebak di ruang basement Gedung Bursa Efek Jakarta akibat ledakan bom di lantai parkir , Jumat ( 15/9 ) pagi , mulai diambil pemiliknya . Sebagian mobil lainnya belum bisa dikeluarkan karena masih harus diperiksa tim dari Pusat Laboratorium Forensik Kepolisian Republik Indonesia . Dari pantauan SCTV , sekitar pukul 10 . 00 WIB , jumlah mobil yang sudah dikeluarkan mencapai 45 unit . Untuk mengambil mobil tersebut , para pemilik harus menunjukkan bukti kepemilikan , seperti Surat Tanda Nomor Kendaraan Bermotor , Buku Pemilik Kendaraan Bermotor , dan karcis parkir . Mobil yang boleh diambil adalah mobil yang berada di luar garis polisi . Sedangkan mobil yang berada di dalam garis polisi belum bisa diambil seraya menunggu izin dari Tim Puslabfor Polri . Hal itu dilakukan agar penyelidikan polisi tak mengalami gangguan . Menurut petugas parkir , jumlah total mobil di lantai P2 saat terjadi ledakan mencapai 246 unit . Dari jumlah itu hanya 73 unit mobil yang dalam kondisi baik . Sementara itu , empat anggota Dewan Perwakilan Rakyat RI dari Fraksi Partai Demokrasi Indonesia-Perjuangan mengunjungi BEJ . Menurut Sukowaluyo Mintoraharjo , kasus peledakan ini harus secepatnya dituntaskan . Ini dikarenakan bursa efek merupakan institusi penting , yaitu sebagai salah satu simbol stabilitas perekonomian nasional . Hingga sekitar pukul 11 . 00 WIB puluhan karyawan yang berkantor di Gedung BEJ terlihat duduk-duduk di lobi . Mereka tampak membicarakan insiden yang telah menelan korban jiwa itu . ( ULF/Roy Akhmad dan Dwi Guntoro Wicaksono ) .   \n",
       "6523.json                                                                                 Liputan6 . com , Medan : Kepolisian Daerah Sumatera Utara meringkus tiga tersangka kasus peledakan bom pada 15 lokasi gereja di Medan . Dari tangan tersangka polisi menyita barang bukti berupa peralatan perakit bom dan sejumlah uang kontan . Demikian dijelaskan Kepala Polda Sumut Inspektur Jenderal Polisi Hotman Siagian , Selasa ( 16/1 ) . Menurut Kapolda , ketiga tersangka ditahan sejak hari Kamis silam . Mereka adalah Edi Sugiarto warga kawasan Jalan Pimpinan , Hakim alias Fadli warga Jalan Kolam , dan Insinyur Azis alias Lingga penduduk Aceh Tengah . Sejauh ini , meski diketahui Azis adalah tahanan politik kasus GAM yang dilepas beberapa tahun silam , Polda Sumut belum menemukan bukti keterkaitan para pelaku dengan Kelompok Gerakan Aceh Merdeka . Ketiganya ditangkap di rumah kontrakan mereka masing-masing . Dari hasil pemeriksaan , Kata Hotman , tersangka Edi bekerja sebagai perakit elektrik 15 bom dengan upah Rp 500 ribu per bom . Sedangkan Ir . Azis dan Hakim adalah pembuat komposisi bom . Sementara Edi adalah perancang rangkaian elektrik alat peledak itu . Hotman menambahkan , polisi juga menyita alat perakit bom seperti solder , multi tester , rangkaian bom , weaker , batu baterai , isian bom , kontainer , dan uang kontan Rp 159 juta yang akan digunakan kawanan untuk mencari senjata . Polisi juga masih mengeja 11 tersangka yang menjadi pengantar bom . Tiga orang telah diketahui identitasnya , yaitu Polim alias Kiswan , Zulkarnaen , dan Ayamuda . ( PIN/Panogari Panggabean dan Amal Rambe ) .   \n",
       "6489.json                                                                                                                                                                                                                                                                                                        Liputan6 . com , Jakarta : Ratusan mobil selundupan yang berhasil disita Bea dan Cukai , sejak enam bulan terakhir , akan dilelang pada pekan ini . Menurut rencana , hasil lelang akan digunakan untuk menalangi impor bea masuk barang yang tak dibayarkan oleh para importir nakal tersebut . Sebagian besar mobil mewah bekas yang akan dilelang Kantor Wilayah IV Tanjungpriok , Jakarta Utara itu , berasal dari Singapura dan Jepang . Biasanya , modus operandi yang dilakukan untuk menyelundupkan mobil impor bekas itu adalah dengan penyalahgunaan dokumen impor . Mobil bekas itu dikirim dengan menggunakan kontainer yang berbeda . Padahal , berdasarkan prosedur , impor mobil bekas tak boleh dilakukan dengan menggunakan peti kemas . Merujuk data Kanwil IV Tanjungpriok , sejak enam bulan terakhir , mobil mewah bekas yang berhasil disita sekitar 130 unit . Diperkirakan , total kerugian negara akibat kegiatan tersebut sekitar Rp 56 miliar . Selain itu , pada kurun waktu yang sama , Kanwil Bea Cukai Tanjungpriok juga berhasil menyita sekitar 200 mobil mewah baru yang diimpor dengan cara ilegal . Dari jumlah tersebut , diperkirakan negara mengalami kerugian sekitar Rp 1 triliun . Bea dan Cukai juga akan melelang sekitar 15 ribu tas olah raga ilegal dari berbagai merek terkenal . ( ICH/Arfan Yap Bano ) .   \n",
       "\n",
       "                                                                                                                                                                                  clean_summary  \\\n",
       "3721.json  Sebagian anggota DPR berniat besar menindaklanjuti hasil curah pendapat menjadi agenda dewan . Akbar Tandjung setuju membentuk Forum Lobi , asal , sesuai prosedur yang ada di DPR .   \n",
       "2833.json                                         Pendapatan Asli Daerah Jakarta kerap terkumpul secara tak optimal . Penyebabnya , banyak pemilik mobil mewah yang membayar pajak lewat calo .   \n",
       "729.json                                                                      Sejumlah mobil yang terjebak di BEJ sudah mulai dikeluarkan . Dari 246 mobil hanya 73 unit yang kondisinya baik .   \n",
       "6523.json         Polda Sumatra Utara menahan tiga tersangka perakit bom yang meledakkan sejumlah gereja di Medan , malam Natal silam . Polda juga menyita sejumlah peralatan dan uang kontan .   \n",
       "6489.json                                                Bea dan Cukai Jakarta akan melelang ratusan mobil mewah impor ilegal . Selain itu , puluhan ribu tas impor ilegal juga akan dilelang .   \n",
       "\n",
       "          extractive_summary  \n",
       "3721.json             [1, 4]  \n",
       "2833.json             [1, 4]  \n",
       "729.json              [4, 8]  \n",
       "6523.json             [0, 1]  \n",
       "6489.json            [2, 10]  "
      ]
     },
     "execution_count": 16,
     "metadata": {},
     "output_type": "execute_result"
    }
   ],
   "source": [
    "df_canonical_dev['clean_article'] = df_canonical_dev['clean_article'].apply(lambda x: ' '.join(' '.join(word) for word in x))\n",
    "df_canonical_dev['clean_summary'] = df_canonical_dev['clean_summary'].apply(lambda x: ' '.join(' '.join(word) for word in x))\n",
    "df_canonical_dev.head()"
   ]
  },
  {
   "cell_type": "code",
   "execution_count": 17,
   "id": "f33e50df",
   "metadata": {
    "scrolled": true
   },
   "outputs": [
    {
     "data": {
      "text/html": [
       "<div>\n",
       "<style scoped>\n",
       "    .dataframe tbody tr th:only-of-type {\n",
       "        vertical-align: middle;\n",
       "    }\n",
       "\n",
       "    .dataframe tbody tr th {\n",
       "        vertical-align: top;\n",
       "    }\n",
       "\n",
       "    .dataframe thead th {\n",
       "        text-align: right;\n",
       "    }\n",
       "</style>\n",
       "<table border=\"1\" class=\"dataframe\">\n",
       "  <thead>\n",
       "    <tr style=\"text-align: right;\">\n",
       "      <th></th>\n",
       "      <th>clean_article</th>\n",
       "      <th>clean_summary</th>\n",
       "      <th>extractive_summary</th>\n",
       "    </tr>\n",
       "  </thead>\n",
       "  <tbody>\n",
       "    <tr>\n",
       "      <th>23684.json</th>\n",
       "      <td>Liputan6 . com , Bangka : Kapal patroli Angkatan Laut Republik Indonesia , Belinyu , baru-baru ini , menangkap tiga kapal nelayan berbendera Thailand , yakni KM Binatama , KM Sumber Jaya II , dan KM Mataram di Perairan Belitung Utara . Ketiga kapal itu ditangkap karena melanggar zona ekonomi ekslusif Indonesia . Saat ini , kapal-kapal itu diamankan di Pos Lanal Pelabuhan Pangkalan Balam , Bangka-Belitung . Menurut Komandan Pangkalan TNI AL Bangka Letnan Kolonel Laut Fredy Egam , selain menangkap tiga kapal , ALRI juga memeriksa 43 anak buah kapal . Mereka disergap saat sedang mengangkat jaring pukat harimau di Perairan Belitung Utara . Dari jumlah itu , hanya enam orang yang dijadikan tersangka , yakni tiga nahkoda dan tiga kepala kamar mesin kapal . Sedangkan ABK yang lain akan dideportasi ke negara asalnya . Meski berhasil menahan enam tersangka , TNI AL gagal mengamankan ikan tangkapan nelayan Thailand tersebut . Sebab , sebelum patroli datang , mereka telah memindahkan puluhan ton ikan hasil jaringan ke kapal induk . ( ULF/Ajmal Rokian dan Yanuar Ichrom ) .</td>\n",
       "      <td>Meski memiliki izin resmi , TNI AL tetap menangkap tiga kapan nelayan berbendera Thailand . Pasalnya , ketiga kapal itu melanggar zona ekonomi ekslusif dan menjaring ikan dengan pukat harimau .</td>\n",
       "      <td>[1, 7]</td>\n",
       "    </tr>\n",
       "    <tr>\n",
       "      <th>24141.json</th>\n",
       "      <td>Liputan6 . com , Bandar Lampung : Sebanyak 51 anak di bawah umur lima tahun terserang busung lapar atau marasmus karena kekurangan gizi di Kota Madya Bandar Lampung . Lima di antaranya tewas . Data tersebut diungkapkan Kepala Dinas Kesehatan Kota Bandar Lampung M . Sudarman , baru-baru ini . Menurut Sudarman , Dinas Kesehatan Bandar Lampung mencatat sekitar 51 anak terserang busung lapar yang tersebar di beberapa kecamatan , selama periode 1999 sampai 2001 . Kebanyakan anak penderita busung tersebut berasal dari keluarga yang hidup di bawah garis kemiskinan . Selain kekurangan gizi , komplikasi radang paru-paru juga menjadi satu faktor penyebab kematian anak penderita busung lapar tersebut . Data Dinas Kesehatan menunjukkan pada 1999 , ditemukan 41 anak terserang penyakit busung lapar . Sebagian besar penderita berdomisili di kampung miskin Umbul Kunci . Jumlah penderita busung lapar menurun pada 2000 , yakni hanya sembilan anak . Sedangkan September 2001 , seorang anak meninggal karena marasmus . Sudarman menegaskan , untuk menekan jumlah korban marasmus , anak-anak dan balita diberi makanan tambahan ke sentra-sentra rawan busung lapar seperti di Desa Umbul Unci . Tetapi , berdasarkan keterangan masyarakat Umbul Kunci , program makanan tambahan ini hanya berjalan setahun yakni pada 1999 . Warga setempat mengaku tak pernah lagi menerima makanan tambahan bagi anak-anak kurang gizi sejak dua tahun terakhir . ( TNA/Bisri Merduani ) .</td>\n",
       "      <td>Sebanyak 51 anak di bawah usia lima tahun di Kota Madya Bandar Lampung , menderita busung lapar karena kekurangan gizi . Lima di antaranya meninggal dunia .</td>\n",
       "      <td>[0, 1]</td>\n",
       "    </tr>\n",
       "    <tr>\n",
       "      <th>16030.json</th>\n",
       "      <td>Liputan6 . com , Jakarta : Polemik seputar pelaksanaan Sidang Istimewa MPR , 1 Agustus mendatang , terus bergulir . Setelah sekian kali , Presiden Abdurrahman Wahid kembali mengeluarkan ancaman akan memberlakukan status keadaan bahaya dan darurat sipil . Langkah itu bakal dilakukan jika SI MPR tetap meminta pertanggungjawaban dirinya . Penegasan tersebut diungkapkan Presiden Wahid dalam dialog usai salat Jumat di Mesjid Al Munawarah , Ciganjur , Jakarta Selatan , Jumat ( 06/7 ) . Bagi Gus Dur , pada dasarnya dia tidak mempermasalahkan pelaksanaan SI MPR . Asalkan , agenda yang dibahas tidak menyangkut pertanggungjawaban dan kinerja pemerintahannya . \" Sebab , masih ada agenda lain yang bisa dibahas , demi kemajuan negara ini , \" kata Gus Dur , serius . Pernyataan Gus Dur kontan ditanggap Wakil Rakyat . Menurut anggota Fraksi Partai Bulan Bintang DPR Hamdan Zoelva , pemberlakuan keadaan darurat sipil justru akan mempermudah aparat keamanan untuk mengantisipasi . Jadi , siapa pun yang berniat mengganggu jalannya SI MPR , bisa diantisipasi sejak awal . Meski begitu , bagi Hamdan , saat ditemui usai dialog soal voting dan money politics Jumat siang tadi , keadaan darurat sipil tadi tak boleh salah arah . Misalnya , bila diberlakukan untuk melarang anggota dewan bersidang . \" Itu menorehkan sejarah hitam sistem ketatanegaraan kita , \" kata Hamdan . Hamdan juga menambahkan , bila darurat sipil hanya semata-mata untuk menghambat jalannya SI MPR , nilai tambah buat Gus Dur . Bahkan , tidak menutup kemungkinan malah memicu kebulatan tekad keputusan sidang Wakil Rakyat untuk menolak pertanggungjawaban Presiden Wahid . ( BMI/Tim Liputan 6 SCTV ) .</td>\n",
       "      <td>Presiden Abdurrahman Wahid kembali mengeluarkan ancaman akan memberlakukan status keadaan darurat sipil . Terutama , jika Sidang Istimewa MPR 1 Agustus mendatang tetap meminta pertanggungjawaban dirinya .</td>\n",
       "      <td>[1, 2]</td>\n",
       "    </tr>\n",
       "    <tr>\n",
       "      <th>21343.json</th>\n",
       "      <td>Liputan6 . com , Ambon : Bahan bakar minyak jenis solar dan premium , selama sepekan terakhir , mulai langka di Kota Ambon . Akibatnya , sebagian besar kendaraan umum di Ambon memilih berhenti beroperasi karena sulit mendapatkan bahan bakar . Selain itu , kelangkaan tersebut juga memicu kenaikan harga premium di tingkat pengecer : mencapai Rp 2 ribu per liter . Padahal , biasanya harga premium hanya Rp 1 . 700 per liter . Demikian hasil pantauan SCTV di Ambon , baru-baru ini . Beberapa pedagang minyak eceran mengaku , kelangkaan terjadi karena pasokan dari Depot Pertamina Wayame berkurang . Selain itu , mereka juga menduga kelangkaan terjadi lantaran adanya ulah oknum yang menyuplai minyak ke sejumlah kapal di Pelabuhan Maluku . Menanggapi itu , Kapala Cabang Pertamina Unit Pemasaran dan Perbekalan Dalam Negeri VIII Ambon Subaedi memastikan , kelangkaan terjadi karena adanya kebijakan Pertamina Pusat yang mengurangi jatah pasokan . Subaedi memperkirakan , kelangkaan BBM di Ambon akan terus berlangsung hingga bulan depan . Tapi , ia menolak jika kelangkaan terjadi akibat adanya kerja sama kotor antara Pertamina dan para spekulan . ( ICH/Sahlan Heluth ) .</td>\n",
       "      <td>Sepekan terakhir , bahan bakar minyak jenis solar dan premium di Kota Ambon , mulai langka . Kelangkaan terjadi karena pasokan BBM dari Depot Pertamina Wayame berkurang .</td>\n",
       "      <td>[0, 5]</td>\n",
       "    </tr>\n",
       "    <tr>\n",
       "      <th>13662.json</th>\n",
       "      <td>Liputan6 . com , Jakarta : Seluruh perubahan pasal Undang-Undang Nomor 23 tahun 1999 tentang Bank Indonesia telah disetujui oleh pemerintah dan DPR . Namun masih ada satu polemik soal pasal 75 . Inti pasal itu adalah soal memberhentikan seluruh anggota Dewan Gubernur BI , setelah UU Amendemen BI berlaku efektif . Bagi BI sendiri , posisinya harus tetap independen . Pernyataan itu ditegaskan Gubernur BI Sjahril Sabirin , baru-baru ini , di Jakarta . Menurut Sjahril , persoalan amendemen sudah menjadi kewenangan pemerintah dan DPR . Sebab kedua lembaga tersebut telah mendapat masukan dari tim panel Dana Moneter Internasional ( IMF ) . \" IMF sudah menganjurkan pembentukan tim panel , \" kata Sjahril . Lantas , tambah dia , tim panel itu juga sudah mengeluarkan hasil keputusan . \" Sekarang , tergantung pemerintah dan DPR untuk menerapkannya , \" kata Sjahril , serius . Pembahasan pasal 75 sendiri masih berlangsung di Panitia Kerja DPR . Panja ini mengusulkan pilihan supaya pemerintah mempercepat pembentukan Dewan Supervisi BI . Lantas , panja juga menawarkan kepada pemerintah untuk membuat laporan mengenai penyimpangan di tubuh BI . Berdasarkan laporan ini , DPR mesti menggelar paripurna untuk menentukan perlu tidaknya mengganti Gubernur BI . ( COK/Olivia Rosalia dan Bambang Triono ) .</td>\n",
       "      <td>Bank Indonesia menyerahkan sepenuhnya amendemen UU BI tentang pergantian dewan gubernur kepada pemerintah dan DPR . Diperkirakan , polemik soal pasal 75 sulit untuk bisa mencapai kata sepakat .</td>\n",
       "      <td>[2, 9]</td>\n",
       "    </tr>\n",
       "  </tbody>\n",
       "</table>\n",
       "</div>"
      ],
      "text/plain": [
       "                                                                                                                                                                                                                                                                                                                                                                                                                                                                                                                                                                                                                                                                                                                                                                                                                                                                                                                                                                                                                                                                                                                                                                                                                                                                                                                                                                                                                                                                                                                                                                                                                                                                                                                               clean_article  \\\n",
       "23684.json                                                                                                                                                                                                                                                                                                                                                                                                                                                                                                                                                                                                             Liputan6 . com , Bangka : Kapal patroli Angkatan Laut Republik Indonesia , Belinyu , baru-baru ini , menangkap tiga kapal nelayan berbendera Thailand , yakni KM Binatama , KM Sumber Jaya II , dan KM Mataram di Perairan Belitung Utara . Ketiga kapal itu ditangkap karena melanggar zona ekonomi ekslusif Indonesia . Saat ini , kapal-kapal itu diamankan di Pos Lanal Pelabuhan Pangkalan Balam , Bangka-Belitung . Menurut Komandan Pangkalan TNI AL Bangka Letnan Kolonel Laut Fredy Egam , selain menangkap tiga kapal , ALRI juga memeriksa 43 anak buah kapal . Mereka disergap saat sedang mengangkat jaring pukat harimau di Perairan Belitung Utara . Dari jumlah itu , hanya enam orang yang dijadikan tersangka , yakni tiga nahkoda dan tiga kepala kamar mesin kapal . Sedangkan ABK yang lain akan dideportasi ke negara asalnya . Meski berhasil menahan enam tersangka , TNI AL gagal mengamankan ikan tangkapan nelayan Thailand tersebut . Sebab , sebelum patroli datang , mereka telah memindahkan puluhan ton ikan hasil jaringan ke kapal induk . ( ULF/Ajmal Rokian dan Yanuar Ichrom ) .   \n",
       "24141.json                                                                                                                                                                                                                    Liputan6 . com , Bandar Lampung : Sebanyak 51 anak di bawah umur lima tahun terserang busung lapar atau marasmus karena kekurangan gizi di Kota Madya Bandar Lampung . Lima di antaranya tewas . Data tersebut diungkapkan Kepala Dinas Kesehatan Kota Bandar Lampung M . Sudarman , baru-baru ini . Menurut Sudarman , Dinas Kesehatan Bandar Lampung mencatat sekitar 51 anak terserang busung lapar yang tersebar di beberapa kecamatan , selama periode 1999 sampai 2001 . Kebanyakan anak penderita busung tersebut berasal dari keluarga yang hidup di bawah garis kemiskinan . Selain kekurangan gizi , komplikasi radang paru-paru juga menjadi satu faktor penyebab kematian anak penderita busung lapar tersebut . Data Dinas Kesehatan menunjukkan pada 1999 , ditemukan 41 anak terserang penyakit busung lapar . Sebagian besar penderita berdomisili di kampung miskin Umbul Kunci . Jumlah penderita busung lapar menurun pada 2000 , yakni hanya sembilan anak . Sedangkan September 2001 , seorang anak meninggal karena marasmus . Sudarman menegaskan , untuk menekan jumlah korban marasmus , anak-anak dan balita diberi makanan tambahan ke sentra-sentra rawan busung lapar seperti di Desa Umbul Unci . Tetapi , berdasarkan keterangan masyarakat Umbul Kunci , program makanan tambahan ini hanya berjalan setahun yakni pada 1999 . Warga setempat mengaku tak pernah lagi menerima makanan tambahan bagi anak-anak kurang gizi sejak dua tahun terakhir . ( TNA/Bisri Merduani ) .   \n",
       "16030.json  Liputan6 . com , Jakarta : Polemik seputar pelaksanaan Sidang Istimewa MPR , 1 Agustus mendatang , terus bergulir . Setelah sekian kali , Presiden Abdurrahman Wahid kembali mengeluarkan ancaman akan memberlakukan status keadaan bahaya dan darurat sipil . Langkah itu bakal dilakukan jika SI MPR tetap meminta pertanggungjawaban dirinya . Penegasan tersebut diungkapkan Presiden Wahid dalam dialog usai salat Jumat di Mesjid Al Munawarah , Ciganjur , Jakarta Selatan , Jumat ( 06/7 ) . Bagi Gus Dur , pada dasarnya dia tidak mempermasalahkan pelaksanaan SI MPR . Asalkan , agenda yang dibahas tidak menyangkut pertanggungjawaban dan kinerja pemerintahannya . \" Sebab , masih ada agenda lain yang bisa dibahas , demi kemajuan negara ini , \" kata Gus Dur , serius . Pernyataan Gus Dur kontan ditanggap Wakil Rakyat . Menurut anggota Fraksi Partai Bulan Bintang DPR Hamdan Zoelva , pemberlakuan keadaan darurat sipil justru akan mempermudah aparat keamanan untuk mengantisipasi . Jadi , siapa pun yang berniat mengganggu jalannya SI MPR , bisa diantisipasi sejak awal . Meski begitu , bagi Hamdan , saat ditemui usai dialog soal voting dan money politics Jumat siang tadi , keadaan darurat sipil tadi tak boleh salah arah . Misalnya , bila diberlakukan untuk melarang anggota dewan bersidang . \" Itu menorehkan sejarah hitam sistem ketatanegaraan kita , \" kata Hamdan . Hamdan juga menambahkan , bila darurat sipil hanya semata-mata untuk menghambat jalannya SI MPR , nilai tambah buat Gus Dur . Bahkan , tidak menutup kemungkinan malah memicu kebulatan tekad keputusan sidang Wakil Rakyat untuk menolak pertanggungjawaban Presiden Wahid . ( BMI/Tim Liputan 6 SCTV ) .   \n",
       "21343.json                                                                                                                                                                                                                                                                                                                                                                                                                                                                                                               Liputan6 . com , Ambon : Bahan bakar minyak jenis solar dan premium , selama sepekan terakhir , mulai langka di Kota Ambon . Akibatnya , sebagian besar kendaraan umum di Ambon memilih berhenti beroperasi karena sulit mendapatkan bahan bakar . Selain itu , kelangkaan tersebut juga memicu kenaikan harga premium di tingkat pengecer : mencapai Rp 2 ribu per liter . Padahal , biasanya harga premium hanya Rp 1 . 700 per liter . Demikian hasil pantauan SCTV di Ambon , baru-baru ini . Beberapa pedagang minyak eceran mengaku , kelangkaan terjadi karena pasokan dari Depot Pertamina Wayame berkurang . Selain itu , mereka juga menduga kelangkaan terjadi lantaran adanya ulah oknum yang menyuplai minyak ke sejumlah kapal di Pelabuhan Maluku . Menanggapi itu , Kapala Cabang Pertamina Unit Pemasaran dan Perbekalan Dalam Negeri VIII Ambon Subaedi memastikan , kelangkaan terjadi karena adanya kebijakan Pertamina Pusat yang mengurangi jatah pasokan . Subaedi memperkirakan , kelangkaan BBM di Ambon akan terus berlangsung hingga bulan depan . Tapi , ia menolak jika kelangkaan terjadi akibat adanya kerja sama kotor antara Pertamina dan para spekulan . ( ICH/Sahlan Heluth ) .   \n",
       "13662.json                                                                                                                                                                                                                                                                                                                                                                              Liputan6 . com , Jakarta : Seluruh perubahan pasal Undang-Undang Nomor 23 tahun 1999 tentang Bank Indonesia telah disetujui oleh pemerintah dan DPR . Namun masih ada satu polemik soal pasal 75 . Inti pasal itu adalah soal memberhentikan seluruh anggota Dewan Gubernur BI , setelah UU Amendemen BI berlaku efektif . Bagi BI sendiri , posisinya harus tetap independen . Pernyataan itu ditegaskan Gubernur BI Sjahril Sabirin , baru-baru ini , di Jakarta . Menurut Sjahril , persoalan amendemen sudah menjadi kewenangan pemerintah dan DPR . Sebab kedua lembaga tersebut telah mendapat masukan dari tim panel Dana Moneter Internasional ( IMF ) . \" IMF sudah menganjurkan pembentukan tim panel , \" kata Sjahril . Lantas , tambah dia , tim panel itu juga sudah mengeluarkan hasil keputusan . \" Sekarang , tergantung pemerintah dan DPR untuk menerapkannya , \" kata Sjahril , serius . Pembahasan pasal 75 sendiri masih berlangsung di Panitia Kerja DPR . Panja ini mengusulkan pilihan supaya pemerintah mempercepat pembentukan Dewan Supervisi BI . Lantas , panja juga menawarkan kepada pemerintah untuk membuat laporan mengenai penyimpangan di tubuh BI . Berdasarkan laporan ini , DPR mesti menggelar paripurna untuk menentukan perlu tidaknya mengganti Gubernur BI . ( COK/Olivia Rosalia dan Bambang Triono ) .   \n",
       "\n",
       "                                                                                                                                                                                                           clean_summary  \\\n",
       "23684.json             Meski memiliki izin resmi , TNI AL tetap menangkap tiga kapan nelayan berbendera Thailand . Pasalnya , ketiga kapal itu melanggar zona ekonomi ekslusif dan menjaring ikan dengan pukat harimau .   \n",
       "24141.json                                                  Sebanyak 51 anak di bawah usia lima tahun di Kota Madya Bandar Lampung , menderita busung lapar karena kekurangan gizi . Lima di antaranya meninggal dunia .   \n",
       "16030.json  Presiden Abdurrahman Wahid kembali mengeluarkan ancaman akan memberlakukan status keadaan darurat sipil . Terutama , jika Sidang Istimewa MPR 1 Agustus mendatang tetap meminta pertanggungjawaban dirinya .   \n",
       "21343.json                                    Sepekan terakhir , bahan bakar minyak jenis solar dan premium di Kota Ambon , mulai langka . Kelangkaan terjadi karena pasokan BBM dari Depot Pertamina Wayame berkurang .   \n",
       "13662.json             Bank Indonesia menyerahkan sepenuhnya amendemen UU BI tentang pergantian dewan gubernur kepada pemerintah dan DPR . Diperkirakan , polemik soal pasal 75 sulit untuk bisa mencapai kata sepakat .   \n",
       "\n",
       "           extractive_summary  \n",
       "23684.json             [1, 7]  \n",
       "24141.json             [0, 1]  \n",
       "16030.json             [1, 2]  \n",
       "21343.json             [0, 5]  \n",
       "13662.json             [2, 9]  "
      ]
     },
     "execution_count": 17,
     "metadata": {},
     "output_type": "execute_result"
    }
   ],
   "source": [
    "df_canonical_test['clean_article'] = df_canonical_test['clean_article'].apply(lambda x: ' '.join(' '.join(word) for word in x))\n",
    "df_canonical_test['clean_summary'] = df_canonical_test['clean_summary'].apply(lambda x: ' '.join(' '.join(word) for word in x))\n",
    "df_canonical_test.head()"
   ]
  },
  {
   "cell_type": "code",
   "execution_count": 18,
   "id": "a8725d2e",
   "metadata": {
    "scrolled": true
   },
   "outputs": [
    {
     "data": {
      "text/html": [
       "<div>\n",
       "<style scoped>\n",
       "    .dataframe tbody tr th:only-of-type {\n",
       "        vertical-align: middle;\n",
       "    }\n",
       "\n",
       "    .dataframe tbody tr th {\n",
       "        vertical-align: top;\n",
       "    }\n",
       "\n",
       "    .dataframe thead th {\n",
       "        text-align: right;\n",
       "    }\n",
       "</style>\n",
       "<table border=\"1\" class=\"dataframe\">\n",
       "  <thead>\n",
       "    <tr style=\"text-align: right;\">\n",
       "      <th></th>\n",
       "      <th>clean_article</th>\n",
       "      <th>clean_summary</th>\n",
       "      <th>extractive_summary</th>\n",
       "    </tr>\n",
       "  </thead>\n",
       "  <tbody>\n",
       "    <tr>\n",
       "      <th>228132.json</th>\n",
       "      <td>TIGA kali somasi dilayangkan kepada Nuri Shaden . Namun reaksi yang diharapkan agar meminta maaf hasilnya nihil . Keluarga Janu Utomo melaporkan kasus kecelakaan di Jalan Sisingamaraja , Jakarta Selatan , 1 Juni silam itu ke Kepolisian Resor Metro Jaksel . \" Kita melaporkan atas dugaan tindak pidana , \" tutur Taufik Basari , kuasa hukum keluarga Janu , belum lama ini . Taufik menambahkan , pihaknya ingin Nuri mencabut pernyataan di depan pers , 2 Juni silam . Ia juga ingin Nuri meminta maaf di media atas kejadian itu . Dan juga menyampaikan belasungkawa . Taufik menilai , pernyataan Nuri memutarbalikkan fakta . \" Yang kita adukan soal pernyataan-pernyataannya , \" ujar dia . Keluarga Janu melaporkan dengan dua tuduhan . Yakni sikap yang tidak menyenangkan dan pencemaran nama baik . Kala itu Nuri menuding mobil ambulans yang menabrak kendaraannya . \" Intinya mereka menabrak kita , \" ucap Nuri saat jumpa pers waktu itu . Pernyataan disampaikan bintang film Seventeen didampingi Noni T , pengacaranya . Ia menyalahkan Januari Purwoko , sopir ambulans . Padahal Januari sudah mengklakson mobil Honda Jazz yang ditumpangi Nuri . Tabrakan pun terhindarkan . Ambulans rusak di bagian kanan dan as roda belakang patah . Tabrakan mobil ambulans dan Honda Jazz yang dikendarai Nuri merenggut nyawa Janu Utomo . Sedangkan Januari Purwoko , sopir ambulans cedera parah . Tiga lainnya di mobil ambulans luka ringan . Yakni istri Janu , Retno Indarti , Krisanti Indriani , dan perawat Risa Citra Dewi . Kala itu keluarga mengantarkan Janu hendak mencuci darah . Soal ini kubu Nuri membantah . Noni mengatakan Janu meninggal karena penyakit jantung yang dideritanya . ( As ) .</td>\n",
       "      <td>TIGA kali somasi dilayangkan kepada Nuri Shaden . Namun reaksi yang diharapkan agar meminta maaf hasilnya nihil . Keluarga Janu Utomo pun melaporkan Nuri ke Kepolisian Resor Metro Jakarta Selatan .</td>\n",
       "      <td>[0, 1, 2]</td>\n",
       "    </tr>\n",
       "    <tr>\n",
       "      <th>116936.json</th>\n",
       "      <td>Liputan6 . com , Jakarta : Earth Wind and Fire Experience Worldwide Tour 2006 Featuring Al Mckay All Star sukses memuaskan penikmat jazz yang memadati Grand Melia , Jakarta Selatan , Rabu ( 1/2 ) malam . Pertunjukan ini adalah penampilan kedua dari rangkaian tur grup asal Chicago , Amerika Serikat itu di enam kota besar di Indonesia . Setelah Jakarta dan Bandung , mereka siap menggoyang Semarang , Yogyakarta , Surabaya , dan Medan . Tembang Serpentine Fire menjadi lagu pembuka Earth Wind and Fire . Dengan energik , trio vokal Tim Owens , Claude Woods , dan Devere Duckett berhasil memukau penonton . Diiringi Al Mckay All Star , mereka terus mendendangkan hits andalan , antara lain Pride dan Gotta Get You Into My Life . Meski Earth Wind and Fire terbilang grup lawas , tembang mereka tetap digemari . Buktinya 1 . 500 tiket yang disediakan untuk Jakarta ludes terjual . ( KEN/Teguh Dwi Hartono ) .</td>\n",
       "      <td>Setelah di Bandung , Earth Wind and Fire giliran menghibur penikmat jazz di Jakarta , tadi malam . Lagu-lagu andalan grup asal Chicago itu mampu menyihir penonton sampai detik terakhir pertunjukan .</td>\n",
       "      <td>[1, 6]</td>\n",
       "    </tr>\n",
       "    <tr>\n",
       "      <th>57896.json</th>\n",
       "      <td>Liputan6 . com , Jakarta : Belasan unit mobil pemadam kebakaran dikerahkan untuk menjinakkan amukan si jago merah di sebuah rumah di kawasan Perumahan Patra Kuningan , Jakarta Selatan , Ahad ( 6/7 ) sore . Petugas pemadam juga membuka paksa bagian tengah rumah bernomor sembilan itu untuk menyelamatkan isi hunian di Kompleks Perumahan Pertamina tersebut . Puluhan petugas pemadam disebar ke beberapa tempat untuk mencegah meluasnya kobaran api yang mulai menyala sekitar pukul 17 . 00 WIB . Beberapa warga sekitar mengatakan , bangunan yang selama ini berfungsi sebagai tempat istirahat petugas kebersihan itu , pada malam hari biasanya dijadikan tempat mangkal sejumlah pemuda . Api di lokasi kebakaran yang berjarak beberapa puluh meter dari rumah mantan Presiden B . J . Habibie itu berhasil dipadamkan dalam tempo dua jam . Hingga kini , belum diketahui jumlah kerugian . Sehari sebelumnya , si jago merah beraksi di Jalan Tubagus Angke , Jakarta Barat . Sebanyak 240 rumah hangus terbakar [ baca : Ratusan Rumah di Tubagus Angke Hangus Terbakar ] . Api mulai terlihat dari sebuah rumah penduduk di wilayah RT7/RW1 sekitar pukul 21 . 15 WIB . Si jago merah cepat membesar dan menyambar ratusan rumah yang sebagian besar terbuat dari tripleks . Tak lebih dari dua jam , api melalap rumah penduduk di tujuh RT . ( TNA/Noor Ramadhan dan Agus Prijatno ) .</td>\n",
       "      <td>Lokasi kebakaran di rumah bernomor sembilan di Perumahan Patra Kuningan , Jaksel , ini hanya berjarak puluhan meter dari kediaman mantan Presiden Habibie . Jumlah kerugian belum diketahui .</td>\n",
       "      <td>[4, 7]</td>\n",
       "    </tr>\n",
       "    <tr>\n",
       "      <th>203262.json</th>\n",
       "      <td>Empat tahun silam , Ballack terpaksa duduk di bangku cadangan ketika Jerman berjuang menahan gempuran Ronaldo dkk di babak final PD 2002 di Jepang-Korea . Akumulasi kartu kuning membuat playmaker Jerman itu harus menitikkan air mata menyaksikan Oliver Kahn dkk berjuang “ sendirian ” . Kini , di kandang sendiri , air mata kembali menggenang di pipi Ballack , setelah hanya dalam dua menit , performa gemilang dari anak-anak Italia mengubur mimpi dan ambisi timnya melangkah ke babak pamungkas . Ballack pun seperti ditakdirkan untuk tidak dapat bermain di partai puncak Piala Dunia . Seusai wasit Benito Archundia ( Meksiko ) meniup peluit akhir tanda pertandingan usai , pemain yang begitu dipuji Jose Mourinho , itu tak kuasa untuk kembali bercucur air mata . “ Sangat pahit rasanya bagi kami tersingkir dengan cara seperti ini , satu menit dari peluit akhir , ” kata Ballack . “ Pahit , pahit , tapi bukannya kami tidak pantas , bukan . Kami memang tampil terlambat panas di babak pertama , tapi kami mampu tampil bagus di babak kedua , ” imbuhnya . Menurut mantan kapten Bayern Muenchen yang musim depan akan tampil bersama Frank Lampard di Stamford Bridge , penampilan Tim Panser tidak kalah jika dibanding performa Azzurri . “ Pertandingan itu berjalan seimbang . Memang , Italia mempunyai peluang lebih bagus di babak perpanjangan waktu ketika tendangan mereka membentur mistar gawang dua kali . Tapi , saya rasa , sesudah itu kami pun punya sejumlah peluang emas , terutama sundulan Lukas Podolski , ” tegas Ballack . Hanya dalam hitungan detik memasuki babak kedua perpanjangan waktu , Italia sungguh membuat degup jantung 60 ribu penonton di Westfalenstadion , Dortmund , berhenti sejenak ketika tiba-tiba Alberto Gilardino lolos dari pengawalan Christoph Metzelder , dan mampu mengecoh kiper Jens Lehmann . Sayang , tendangannya hanya membentur tiang gawang . Semenit kemudian , giliran mistar atas Lehmann yang tertimpa tendangan Gianluca Zambrotta . Jerman pun punya dua peluang lewat Podolski . Pertama , ketika sundulannya melebar padahal posisi Podolski sendiri sangat bebas . Kedua , ketika tendangan kandidat Pemain Muda Terbaik itu mampu secara gemilang ditip Gianlugi Buffon , delapan menit menjelang pertandingan usai . Lantas , datanglah passing sempurna dari Andrea Pirlo , man of the match , yang menset-up kemenangan Italia . “ Saya tidak begitu tahu apa yang terjadi , ” kilah Ballack . ” Tendangan penjuru dari Italia mampu kami halau . Tiba-tiba Pirlo melakukan tindakan gemilang . Biasanya , seorang pemain akan melakukan tendangan ke gawang , tapi apa yang dilakukannya sungguh luar biasa , berlari masuk ke kotak 16 meter . Kami punya tiga pemain didekatnya , tapi tidak dapat menghalanginya untuk melakukan passing kepada ( Fabio ) Grosso . Apalagi tendangan Grosso benar-benar cantik . Penyelesaian akhir yang luar biasa , ” kata Ballack . Dengan kembali hilangnya kesempatan bermain di partai pamungkas Piala Dunia membuat Ballack meratapi nasibnya sendiri . “ Sepertinya , saya ditakdirkan untuk tidak dapat bermain di partai puncak . Pahit rasanya , ” kata Ballack lirih .</td>\n",
       "      <td>Dua kali Michael Ballack berjuang di PD , dua kali pula ia gagal tampil di babak final . Di PD 2002 , Ballack absen karena akumulasi kartu . Kini , di kandang sendiri , Ballack gagal mengantarkan timnya ke babak pamungkas . “ Pahit , rasanya , ” kata Ballack .</td>\n",
       "      <td>[0, 2, 22, 7]</td>\n",
       "    </tr>\n",
       "    <tr>\n",
       "      <th>66332.json</th>\n",
       "      <td>Liputan6 . com , Bandung : Ruthini , anggota Pondok Nabi belum boleh pulang meski keluarga Simamora sudah menjemput ke Gereja Bethel Tabernakel , Lengkong Besar , Bandung , Jawa Barat , Rabu ( 12/11 ) . Wanita muda ini rupanya masih harus menjalani serangkaian rehabilitasi . Tim Crisis Center khawatir dengan kondisi kestabilan jiwa Ruthini setelah mengikuti ritual kiamat ala Pondok Nabi . Piator Simarmata , ayah Ruthini , yang semula hendak membawa pulang anaknya cuma bisa pasrah . Kepada reporter SCTV , salah seorang kerabat Simarmata menuturkan , Ruthini pergi dari rumah pada 2000 . Ketika itu , Ruthini tengah menyelesaikan skripsi di Universitas Gunadharma , Jakarta . Piator mengaku tidak mengetahui anaknya menjadi pengikut Mangapin Sibuea . Selama Piator bermukim di Tapanuli Utara , ia pun tak mengetahui bahwa Ruthini memutuskan drop out dari kuliah . Lelaki tua ini berniat menunggui Ruthini yang bersama ratusan jemaat Pondok Nabi lainnya telah dipindahkan dari Gereja Bethel ke Gedung Sinode Gereja Protestan Indonesia Barat , Jalan Seke Salam , Sukamiskin , Ujungberung , Bandung . Sejumlah keluarga anggota sekte lainnya juga melakukan hal serupa . Mereka sengaja datang untuk menjemput para jemaat . Tapi batal , karena Tim Crisis Center melarang . Akhirnya , para kerabat ikut mengiringi proses evakuasi ke tempat penampungan baru di Ujungberung [ baca : Jemaat Pondok Nabi Dipindahkan ke Ujungberung ] . Pemindahan jemaat Pondok Nabi sempat menemui kendala . Tim Crisis Center dan Forum Komunikasi Kristen Jabar kesulitan mendapatkan bantuan transportasi . Evakuasi baru dilaksanakan menjelang tengah hari . Sekitar 260-an jemaat dan barang-barang mereka diangkut menggunakan tiga unit bus dan satu truk mini . Gedung baru yang ditempati para jemaat dinilai lebih baik . Mereka mendapat tempat tidur dengan sarana mandi cuci kakus yang memadai . Tim Crisis Center berharap bantuan dari masyarakat untuk menyambung hidup para jemaat . Sebab , sejak mengikuti aliran Mangapin Sibuea , harta benda para jemaat sudah ludes . Mereka percaya ketika kiamat datang pada 10 November 2003 , sehingga harta dan kekayaan sudah tak berarti lagi . Tadi siang , Komisi E DPRD Jabar sempat mengunjungi Gereja Bethel Tabernakel . Anggota Dewan sempat berbincang dengan sejumlah anggota sekte . Kepada Tim Crisis Center , Komisi E meminta agar para jemaat dikembalikan kepada kepercayaan semula . ( KEN/Aprilia Melissa ) .</td>\n",
       "      <td>Sekitar 260-an pengikut Mangapin Sibuea itu belum dapat dibawa pulang oleh keluarganya dengan alasan jiwa mereka masih labil . Tim Crisis Center meminta bantuan dari warga untuk membantu menyambung hidup para jemaat .</td>\n",
       "      <td>[6, 19]</td>\n",
       "    </tr>\n",
       "  </tbody>\n",
       "</table>\n",
       "</div>"
      ],
      "text/plain": [
       "                                                                                                                                                                                                                                                                                                                                                                                                                                                                                                                                                                                                                                                                                                                                                                                                                                                                                                                                                                                                                                                                                                                                                                                                                                                                                                                                                                                                                                                                                                                                                                                                                                                                                                                                                                                                                                                                                                                                                                                                                                                                                                                                                                                                                                                                                                                                                                                                                                                                                                                                                                                                                                                                                                                                                                                                                                                                                                                                                                                                                                                                                                                                                                                                                                     clean_article  \\\n",
       "228132.json                                                                                                                                                                                                                                                                                                                                                                                                                                                                                                                                                                                                                                                                                                                                                                                                                                                                                                                                                                                                                                                                                                                                                                                                                                                                                                                                                                                                                                                                                             TIGA kali somasi dilayangkan kepada Nuri Shaden . Namun reaksi yang diharapkan agar meminta maaf hasilnya nihil . Keluarga Janu Utomo melaporkan kasus kecelakaan di Jalan Sisingamaraja , Jakarta Selatan , 1 Juni silam itu ke Kepolisian Resor Metro Jaksel . \" Kita melaporkan atas dugaan tindak pidana , \" tutur Taufik Basari , kuasa hukum keluarga Janu , belum lama ini . Taufik menambahkan , pihaknya ingin Nuri mencabut pernyataan di depan pers , 2 Juni silam . Ia juga ingin Nuri meminta maaf di media atas kejadian itu . Dan juga menyampaikan belasungkawa . Taufik menilai , pernyataan Nuri memutarbalikkan fakta . \" Yang kita adukan soal pernyataan-pernyataannya , \" ujar dia . Keluarga Janu melaporkan dengan dua tuduhan . Yakni sikap yang tidak menyenangkan dan pencemaran nama baik . Kala itu Nuri menuding mobil ambulans yang menabrak kendaraannya . \" Intinya mereka menabrak kita , \" ucap Nuri saat jumpa pers waktu itu . Pernyataan disampaikan bintang film Seventeen didampingi Noni T , pengacaranya . Ia menyalahkan Januari Purwoko , sopir ambulans . Padahal Januari sudah mengklakson mobil Honda Jazz yang ditumpangi Nuri . Tabrakan pun terhindarkan . Ambulans rusak di bagian kanan dan as roda belakang patah . Tabrakan mobil ambulans dan Honda Jazz yang dikendarai Nuri merenggut nyawa Janu Utomo . Sedangkan Januari Purwoko , sopir ambulans cedera parah . Tiga lainnya di mobil ambulans luka ringan . Yakni istri Janu , Retno Indarti , Krisanti Indriani , dan perawat Risa Citra Dewi . Kala itu keluarga mengantarkan Janu hendak mencuci darah . Soal ini kubu Nuri membantah . Noni mengatakan Janu meninggal karena penyakit jantung yang dideritanya . ( As ) .   \n",
       "116936.json                                                                                                                                                                                                                                                                                                                                                                                                                                                                                                                                                                                                                                                                                                                                                                                                                                                                                                                                                                                                                                                                                                                                                                                                                                                                                                                                                                                                                                                                                                                                                                                                                                                                                                                                                                                                                                                                                                                                                                                                                                                                                                                                                                                                                                                                                              Liputan6 . com , Jakarta : Earth Wind and Fire Experience Worldwide Tour 2006 Featuring Al Mckay All Star sukses memuaskan penikmat jazz yang memadati Grand Melia , Jakarta Selatan , Rabu ( 1/2 ) malam . Pertunjukan ini adalah penampilan kedua dari rangkaian tur grup asal Chicago , Amerika Serikat itu di enam kota besar di Indonesia . Setelah Jakarta dan Bandung , mereka siap menggoyang Semarang , Yogyakarta , Surabaya , dan Medan . Tembang Serpentine Fire menjadi lagu pembuka Earth Wind and Fire . Dengan energik , trio vokal Tim Owens , Claude Woods , dan Devere Duckett berhasil memukau penonton . Diiringi Al Mckay All Star , mereka terus mendendangkan hits andalan , antara lain Pride dan Gotta Get You Into My Life . Meski Earth Wind and Fire terbilang grup lawas , tembang mereka tetap digemari . Buktinya 1 . 500 tiket yang disediakan untuk Jakarta ludes terjual . ( KEN/Teguh Dwi Hartono ) .   \n",
       "57896.json                                                                                                                                                                                                                                                                                                                                                                                                                                                                                                                                                                                                                                                                                                                                                                                                                                                                                                                                                                                                                                                                                                                                                                                                                                                                                                                                                                                                                                                                                                                                                                                                                                                                                                                                                                                                                            Liputan6 . com , Jakarta : Belasan unit mobil pemadam kebakaran dikerahkan untuk menjinakkan amukan si jago merah di sebuah rumah di kawasan Perumahan Patra Kuningan , Jakarta Selatan , Ahad ( 6/7 ) sore . Petugas pemadam juga membuka paksa bagian tengah rumah bernomor sembilan itu untuk menyelamatkan isi hunian di Kompleks Perumahan Pertamina tersebut . Puluhan petugas pemadam disebar ke beberapa tempat untuk mencegah meluasnya kobaran api yang mulai menyala sekitar pukul 17 . 00 WIB . Beberapa warga sekitar mengatakan , bangunan yang selama ini berfungsi sebagai tempat istirahat petugas kebersihan itu , pada malam hari biasanya dijadikan tempat mangkal sejumlah pemuda . Api di lokasi kebakaran yang berjarak beberapa puluh meter dari rumah mantan Presiden B . J . Habibie itu berhasil dipadamkan dalam tempo dua jam . Hingga kini , belum diketahui jumlah kerugian . Sehari sebelumnya , si jago merah beraksi di Jalan Tubagus Angke , Jakarta Barat . Sebanyak 240 rumah hangus terbakar [ baca : Ratusan Rumah di Tubagus Angke Hangus Terbakar ] . Api mulai terlihat dari sebuah rumah penduduk di wilayah RT7/RW1 sekitar pukul 21 . 15 WIB . Si jago merah cepat membesar dan menyambar ratusan rumah yang sebagian besar terbuat dari tripleks . Tak lebih dari dua jam , api melalap rumah penduduk di tujuh RT . ( TNA/Noor Ramadhan dan Agus Prijatno ) .   \n",
       "203262.json  Empat tahun silam , Ballack terpaksa duduk di bangku cadangan ketika Jerman berjuang menahan gempuran Ronaldo dkk di babak final PD 2002 di Jepang-Korea . Akumulasi kartu kuning membuat playmaker Jerman itu harus menitikkan air mata menyaksikan Oliver Kahn dkk berjuang “ sendirian ” . Kini , di kandang sendiri , air mata kembali menggenang di pipi Ballack , setelah hanya dalam dua menit , performa gemilang dari anak-anak Italia mengubur mimpi dan ambisi timnya melangkah ke babak pamungkas . Ballack pun seperti ditakdirkan untuk tidak dapat bermain di partai puncak Piala Dunia . Seusai wasit Benito Archundia ( Meksiko ) meniup peluit akhir tanda pertandingan usai , pemain yang begitu dipuji Jose Mourinho , itu tak kuasa untuk kembali bercucur air mata . “ Sangat pahit rasanya bagi kami tersingkir dengan cara seperti ini , satu menit dari peluit akhir , ” kata Ballack . “ Pahit , pahit , tapi bukannya kami tidak pantas , bukan . Kami memang tampil terlambat panas di babak pertama , tapi kami mampu tampil bagus di babak kedua , ” imbuhnya . Menurut mantan kapten Bayern Muenchen yang musim depan akan tampil bersama Frank Lampard di Stamford Bridge , penampilan Tim Panser tidak kalah jika dibanding performa Azzurri . “ Pertandingan itu berjalan seimbang . Memang , Italia mempunyai peluang lebih bagus di babak perpanjangan waktu ketika tendangan mereka membentur mistar gawang dua kali . Tapi , saya rasa , sesudah itu kami pun punya sejumlah peluang emas , terutama sundulan Lukas Podolski , ” tegas Ballack . Hanya dalam hitungan detik memasuki babak kedua perpanjangan waktu , Italia sungguh membuat degup jantung 60 ribu penonton di Westfalenstadion , Dortmund , berhenti sejenak ketika tiba-tiba Alberto Gilardino lolos dari pengawalan Christoph Metzelder , dan mampu mengecoh kiper Jens Lehmann . Sayang , tendangannya hanya membentur tiang gawang . Semenit kemudian , giliran mistar atas Lehmann yang tertimpa tendangan Gianluca Zambrotta . Jerman pun punya dua peluang lewat Podolski . Pertama , ketika sundulannya melebar padahal posisi Podolski sendiri sangat bebas . Kedua , ketika tendangan kandidat Pemain Muda Terbaik itu mampu secara gemilang ditip Gianlugi Buffon , delapan menit menjelang pertandingan usai . Lantas , datanglah passing sempurna dari Andrea Pirlo , man of the match , yang menset-up kemenangan Italia . “ Saya tidak begitu tahu apa yang terjadi , ” kilah Ballack . ” Tendangan penjuru dari Italia mampu kami halau . Tiba-tiba Pirlo melakukan tindakan gemilang . Biasanya , seorang pemain akan melakukan tendangan ke gawang , tapi apa yang dilakukannya sungguh luar biasa , berlari masuk ke kotak 16 meter . Kami punya tiga pemain didekatnya , tapi tidak dapat menghalanginya untuk melakukan passing kepada ( Fabio ) Grosso . Apalagi tendangan Grosso benar-benar cantik . Penyelesaian akhir yang luar biasa , ” kata Ballack . Dengan kembali hilangnya kesempatan bermain di partai pamungkas Piala Dunia membuat Ballack meratapi nasibnya sendiri . “ Sepertinya , saya ditakdirkan untuk tidak dapat bermain di partai puncak . Pahit rasanya , ” kata Ballack lirih .   \n",
       "66332.json                                                                                                                                                                                                                                                                                                                                                                                                                                                                                                                                                                                                                                                                                                            Liputan6 . com , Bandung : Ruthini , anggota Pondok Nabi belum boleh pulang meski keluarga Simamora sudah menjemput ke Gereja Bethel Tabernakel , Lengkong Besar , Bandung , Jawa Barat , Rabu ( 12/11 ) . Wanita muda ini rupanya masih harus menjalani serangkaian rehabilitasi . Tim Crisis Center khawatir dengan kondisi kestabilan jiwa Ruthini setelah mengikuti ritual kiamat ala Pondok Nabi . Piator Simarmata , ayah Ruthini , yang semula hendak membawa pulang anaknya cuma bisa pasrah . Kepada reporter SCTV , salah seorang kerabat Simarmata menuturkan , Ruthini pergi dari rumah pada 2000 . Ketika itu , Ruthini tengah menyelesaikan skripsi di Universitas Gunadharma , Jakarta . Piator mengaku tidak mengetahui anaknya menjadi pengikut Mangapin Sibuea . Selama Piator bermukim di Tapanuli Utara , ia pun tak mengetahui bahwa Ruthini memutuskan drop out dari kuliah . Lelaki tua ini berniat menunggui Ruthini yang bersama ratusan jemaat Pondok Nabi lainnya telah dipindahkan dari Gereja Bethel ke Gedung Sinode Gereja Protestan Indonesia Barat , Jalan Seke Salam , Sukamiskin , Ujungberung , Bandung . Sejumlah keluarga anggota sekte lainnya juga melakukan hal serupa . Mereka sengaja datang untuk menjemput para jemaat . Tapi batal , karena Tim Crisis Center melarang . Akhirnya , para kerabat ikut mengiringi proses evakuasi ke tempat penampungan baru di Ujungberung [ baca : Jemaat Pondok Nabi Dipindahkan ke Ujungberung ] . Pemindahan jemaat Pondok Nabi sempat menemui kendala . Tim Crisis Center dan Forum Komunikasi Kristen Jabar kesulitan mendapatkan bantuan transportasi . Evakuasi baru dilaksanakan menjelang tengah hari . Sekitar 260-an jemaat dan barang-barang mereka diangkut menggunakan tiga unit bus dan satu truk mini . Gedung baru yang ditempati para jemaat dinilai lebih baik . Mereka mendapat tempat tidur dengan sarana mandi cuci kakus yang memadai . Tim Crisis Center berharap bantuan dari masyarakat untuk menyambung hidup para jemaat . Sebab , sejak mengikuti aliran Mangapin Sibuea , harta benda para jemaat sudah ludes . Mereka percaya ketika kiamat datang pada 10 November 2003 , sehingga harta dan kekayaan sudah tak berarti lagi . Tadi siang , Komisi E DPRD Jabar sempat mengunjungi Gereja Bethel Tabernakel . Anggota Dewan sempat berbincang dengan sejumlah anggota sekte . Kepada Tim Crisis Center , Komisi E meminta agar para jemaat dikembalikan kepada kepercayaan semula . ( KEN/Aprilia Melissa ) .   \n",
       "\n",
       "                                                                                                                                                                                                                                                                    clean_summary  \\\n",
       "228132.json                                                                 TIGA kali somasi dilayangkan kepada Nuri Shaden . Namun reaksi yang diharapkan agar meminta maaf hasilnya nihil . Keluarga Janu Utomo pun melaporkan Nuri ke Kepolisian Resor Metro Jakarta Selatan .   \n",
       "116936.json                                                                Setelah di Bandung , Earth Wind and Fire giliran menghibur penikmat jazz di Jakarta , tadi malam . Lagu-lagu andalan grup asal Chicago itu mampu menyihir penonton sampai detik terakhir pertunjukan .   \n",
       "57896.json                                                                          Lokasi kebakaran di rumah bernomor sembilan di Perumahan Patra Kuningan , Jaksel , ini hanya berjarak puluhan meter dari kediaman mantan Presiden Habibie . Jumlah kerugian belum diketahui .   \n",
       "203262.json  Dua kali Michael Ballack berjuang di PD , dua kali pula ia gagal tampil di babak final . Di PD 2002 , Ballack absen karena akumulasi kartu . Kini , di kandang sendiri , Ballack gagal mengantarkan timnya ke babak pamungkas . “ Pahit , rasanya , ” kata Ballack .   \n",
       "66332.json                                              Sekitar 260-an pengikut Mangapin Sibuea itu belum dapat dibawa pulang oleh keluarganya dengan alasan jiwa mereka masih labil . Tim Crisis Center meminta bantuan dari warga untuk membantu menyambung hidup para jemaat .   \n",
       "\n",
       "            extractive_summary  \n",
       "228132.json          [0, 1, 2]  \n",
       "116936.json             [1, 6]  \n",
       "57896.json              [4, 7]  \n",
       "203262.json      [0, 2, 22, 7]  \n",
       "66332.json             [6, 19]  "
      ]
     },
     "execution_count": 18,
     "metadata": {},
     "output_type": "execute_result"
    }
   ],
   "source": [
    "df_canonical_train['clean_article'] = df_canonical_train['clean_article'].apply(lambda x: ' '.join(' '.join(word) for word in x))\n",
    "df_canonical_train['clean_summary'] = df_canonical_train['clean_summary'].apply(lambda x: ' '.join(' '.join(word) for word in x))\n",
    "df_canonical_train.head()"
   ]
  },
  {
   "cell_type": "markdown",
   "id": "56183cdf",
   "metadata": {},
   "source": [
    "## Save to CSV"
   ]
  },
  {
   "cell_type": "code",
   "execution_count": 84,
   "id": "0ab06c29",
   "metadata": {},
   "outputs": [],
   "source": [
    "df_canonical_dev.to_csv('canonical_dev.csv', index=False)\n",
    "df_canonical_test.to_csv('canonical_test.csv', index=False)\n",
    "df_canonical_train.to_csv('canonical_train.csv', index=False)"
   ]
  },
  {
   "cell_type": "markdown",
   "id": "1710bb14",
   "metadata": {},
   "source": [
    "## Tokenize and Preprocess"
   ]
  },
  {
   "cell_type": "code",
   "execution_count": 39,
   "id": "8234c816",
   "metadata": {
    "scrolled": true
   },
   "outputs": [],
   "source": [
    "val_data = Dataset.from_dict(df_canonical_dev)"
   ]
  },
  {
   "cell_type": "markdown",
   "id": "35d1d675",
   "metadata": {},
   "source": [
    "- Di sini saya hanya menggunakan 10% data test karena keterbatasan hardware dan waktu"
   ]
  },
  {
   "cell_type": "code",
   "execution_count": 74,
   "id": "16a6966c",
   "metadata": {},
   "outputs": [
    {
     "name": "stdout",
     "output_type": "stream",
     "text": [
      "Jumlah data untuk training: 1097\n"
     ]
    }
   ],
   "source": [
    "partial_test_data = df_canonical_test.sample(frac=0.1, random_state=42)\n",
    "print(\"Jumlah data untuk training:\", len(partial_test_data))"
   ]
  },
  {
   "cell_type": "code",
   "execution_count": 75,
   "id": "9baaf9fb",
   "metadata": {},
   "outputs": [],
   "source": [
    "test_data = Dataset.from_dict(partial_test_data)"
   ]
  },
  {
   "cell_type": "code",
   "execution_count": 76,
   "id": "7c873892",
   "metadata": {},
   "outputs": [
    {
     "name": "stdout",
     "output_type": "stream",
     "text": [
      "Jumlah data untuk training: 1097\n"
     ]
    }
   ],
   "source": [
    "print(\"Jumlah data untuk training:\", len(test_data))"
   ]
  },
  {
   "cell_type": "markdown",
   "id": "6a072def",
   "metadata": {},
   "source": [
    "- Di sini saya hanya menggunakan 10% data training karena keterbatasan hardware dan waktu"
   ]
  },
  {
   "cell_type": "code",
   "execution_count": 43,
   "id": "ceebb424",
   "metadata": {},
   "outputs": [
    {
     "name": "stdout",
     "output_type": "stream",
     "text": [
      "Jumlah data untuk training: 19388\n"
     ]
    }
   ],
   "source": [
    "partial_train_data = df_canonical_train.sample(frac=0.1, random_state=42)\n",
    "print(\"Jumlah data untuk training:\", len(partial_train_data))"
   ]
  },
  {
   "cell_type": "code",
   "execution_count": 44,
   "id": "09abd794",
   "metadata": {},
   "outputs": [],
   "source": [
    "train_data = Dataset.from_dict(partial_train_data)"
   ]
  },
  {
   "cell_type": "code",
   "execution_count": 45,
   "id": "514dbbc5",
   "metadata": {},
   "outputs": [
    {
     "name": "stdout",
     "output_type": "stream",
     "text": [
      "Jumlah data untuk training: 19388\n"
     ]
    }
   ],
   "source": [
    "print(\"Jumlah data untuk training:\", len(train_data))"
   ]
  },
  {
   "cell_type": "code",
   "execution_count": 46,
   "id": "d57552ba",
   "metadata": {},
   "outputs": [],
   "source": [
    "# Tokenizer\n",
    "from transformers import EncoderDecoderModel, BertTokenizer\n",
    "\n",
    "tokenizer = BertTokenizer.from_pretrained(\"cahya/bert2bert-indonesian-summarization\")\n",
    "tokenizer.bos_token = tokenizer.cls_token\n",
    "tokenizer.eos_token = tokenizer.sep_token"
   ]
  },
  {
   "cell_type": "code",
   "execution_count": 47,
   "id": "c3499116",
   "metadata": {},
   "outputs": [
    {
     "data": {
      "text/plain": [
       "('[CLS]', '[SEP]', 3, 1)"
      ]
     },
     "execution_count": 47,
     "metadata": {},
     "output_type": "execute_result"
    }
   ],
   "source": [
    "tokenizer.bos_token, tokenizer.eos_token, tokenizer.get_vocab()[tokenizer.bos_token], tokenizer.get_vocab()[tokenizer.eos_token]"
   ]
  },
  {
   "cell_type": "code",
   "execution_count": 48,
   "id": "6098ab1f",
   "metadata": {},
   "outputs": [],
   "source": [
    "#Define function to preprocess\n",
    "\n",
    "prefix = tokenizer.bos_token + \" \"\n",
    "posfix = \" \" + tokenizer.eos_token\n",
    "\n",
    "def preprocess_function(examples):\n",
    "    inputs = [prefix + str(doc) + posfix for doc in examples[\"clean_article\"]]\n",
    "    model_inputs = tokenizer(inputs, max_length=512, truncation=True)\n",
    "    labels = tokenizer(text=examples[\"clean_summary\"], max_length=128, truncation=True)\n",
    "    model_inputs[\"labels\"] = labels[\"input_ids\"]\n",
    "    return model_inputs"
   ]
  },
  {
   "cell_type": "code",
   "execution_count": 49,
   "id": "13d99720",
   "metadata": {},
   "outputs": [
    {
     "data": {
      "application/vnd.jupyter.widget-view+json": {
       "model_id": "344bc19c5d2d42268169d6d94cc0d4c8",
       "version_major": 2,
       "version_minor": 0
      },
      "text/plain": [
       "Map:   0%|          | 0/10972 [00:00<?, ? examples/s]"
      ]
     },
     "metadata": {},
     "output_type": "display_data"
    }
   ],
   "source": [
    "tokenized_canonical_dev = val_data.map(preprocess_function, batched=True)"
   ]
  },
  {
   "cell_type": "code",
   "execution_count": 77,
   "id": "22e2c26c",
   "metadata": {},
   "outputs": [
    {
     "data": {
      "application/vnd.jupyter.widget-view+json": {
       "model_id": "f14d8ab585764fb0bfe12cef1df8866c",
       "version_major": 2,
       "version_minor": 0
      },
      "text/plain": [
       "Map:   0%|          | 0/1097 [00:00<?, ? examples/s]"
      ]
     },
     "metadata": {},
     "output_type": "display_data"
    }
   ],
   "source": [
    "tokenized_canonical_test = test_data.map(preprocess_function, batched=True)"
   ]
  },
  {
   "cell_type": "code",
   "execution_count": 51,
   "id": "d4705dd3",
   "metadata": {
    "scrolled": true
   },
   "outputs": [
    {
     "data": {
      "application/vnd.jupyter.widget-view+json": {
       "model_id": "554f16597c9a46599f5ad378fa0e616f",
       "version_major": 2,
       "version_minor": 0
      },
      "text/plain": [
       "Map:   0%|          | 0/19388 [00:00<?, ? examples/s]"
      ]
     },
     "metadata": {},
     "output_type": "display_data"
    }
   ],
   "source": [
    "tokenized_canonical_train = train_data.map(preprocess_function, batched=True)"
   ]
  },
  {
   "cell_type": "code",
   "execution_count": 52,
   "id": "0afe72d7",
   "metadata": {},
   "outputs": [],
   "source": [
    "#Set Bertconfig and EncoderDecoder Model\n",
    "\n",
    "from transformers import BertConfig, EncoderDecoderConfig, EncoderDecoderModel\n",
    "\n",
    "config_encoder = BertConfig(\n",
    "    vocab_size = len(tokenizer.get_vocab()),\n",
    "    hidden_size = 16,\n",
    "    num_hidden_layers = 1,\n",
    "    num_attention_heads = 2,\n",
    "    intermediate_size = 32,\n",
    ")\n",
    "config_decoder = BertConfig(\n",
    "    vocab_size = len(tokenizer.get_vocab()),\n",
    "    hidden_size = 16,\n",
    "    num_hidden_layers = 1,\n",
    "    num_attention_heads = 2,\n",
    "    intermediate_size = 32,\n",
    ")\n",
    "\n",
    "config = EncoderDecoderConfig.from_encoder_decoder_configs(config_encoder, config_decoder)\n",
    "model = EncoderDecoderModel(config=config)\n",
    "model.config.decoder_start_token_id = tokenizer.cls_token_id\n",
    "model.config.pad_token_id = tokenizer.pad_token_id"
   ]
  },
  {
   "cell_type": "code",
   "execution_count": 53,
   "id": "b7b8ffe8",
   "metadata": {},
   "outputs": [],
   "source": [
    "# Set data collator\n",
    "data_collator = DataCollatorForSeq2Seq(tokenizer=tokenizer, model='cahya/t5-base-indonesian-summarization-cased') #t5-small"
   ]
  },
  {
   "cell_type": "code",
   "execution_count": 54,
   "id": "f75ae868",
   "metadata": {},
   "outputs": [],
   "source": [
    "training_args = Seq2SeqTrainingArguments(\n",
    "    output_dir=\"./results\",\n",
    "    evaluation_strategy=\"epoch\",\n",
    "    learning_rate=1e-4, #2e-5\n",
    "    per_device_train_batch_size=16,\n",
    "    per_device_eval_batch_size=16,\n",
    "    weight_decay=0.01,\n",
    "    save_total_limit=3,\n",
    "    num_train_epochs=1,\n",
    "    fp16=False,\n",
    "    \n",
    ")"
   ]
  },
  {
   "cell_type": "code",
   "execution_count": 55,
   "id": "260a8f1e",
   "metadata": {},
   "outputs": [],
   "source": [
    "trainer = Seq2SeqTrainer(\n",
    "    model=model,\n",
    "    args=training_args,\n",
    "    train_dataset=tokenized_canonical_train,\n",
    "    eval_dataset=tokenized_canonical_test,\n",
    "    tokenizer=tokenizer,\n",
    "    data_collator=data_collator,\n",
    ")"
   ]
  },
  {
   "cell_type": "code",
   "execution_count": 56,
   "id": "22232c8e",
   "metadata": {
    "scrolled": true
   },
   "outputs": [
    {
     "data": {
      "text/html": [
       "\n",
       "    <div>\n",
       "      \n",
       "      <progress value='1212' max='1212' style='width:300px; height:20px; vertical-align: middle;'></progress>\n",
       "      [1212/1212 38:23, Epoch 1/1]\n",
       "    </div>\n",
       "    <table border=\"1\" class=\"dataframe\">\n",
       "  <thead>\n",
       " <tr style=\"text-align: left;\">\n",
       "      <th>Epoch</th>\n",
       "      <th>Training Loss</th>\n",
       "      <th>Validation Loss</th>\n",
       "    </tr>\n",
       "  </thead>\n",
       "  <tbody>\n",
       "    <tr>\n",
       "      <td>1</td>\n",
       "      <td>9.427400</td>\n",
       "      <td>9.258271</td>\n",
       "    </tr>\n",
       "  </tbody>\n",
       "</table><p>"
      ],
      "text/plain": [
       "<IPython.core.display.HTML object>"
      ]
     },
     "metadata": {},
     "output_type": "display_data"
    },
    {
     "name": "stderr",
     "output_type": "stream",
     "text": [
      "Removed shared tensor {'decoder.cls.predictions.decoder.weight', 'decoder.cls.predictions.decoder.bias'} while saving. This should be OK, but check by verifying that you don't receive any warning while reloading\n",
      "/Users/tatauntoro/anaconda3/lib/python3.11/site-packages/transformers/models/encoder_decoder/modeling_encoder_decoder.py:619: UserWarning: To copy construct from a tensor, it is recommended to use sourceTensor.clone().detach() or sourceTensor.clone().detach().requires_grad_(True), rather than tensor.new_tensor(sourceTensor).\n",
      "  decoder_attention_mask = decoder_input_ids.new_tensor(decoder_input_ids != self.config.pad_token_id)\n",
      "/Users/tatauntoro/anaconda3/lib/python3.11/site-packages/transformers/models/encoder_decoder/modeling_encoder_decoder.py:639: FutureWarning: Version v4.12.0 introduces a better way to train encoder-decoder models by computing the loss inside the encoder-decoder framework rather than in the decoder itself. You may observe training discrepancies if fine-tuning a model trained with versions anterior to 4.12.0. The decoder_input_ids are now created based on the labels, no need to pass them yourself anymore.\n",
      "  warnings.warn(DEPRECATION_WARNING, FutureWarning)\n",
      "/Users/tatauntoro/anaconda3/lib/python3.11/site-packages/transformers/models/encoder_decoder/modeling_encoder_decoder.py:619: UserWarning: To copy construct from a tensor, it is recommended to use sourceTensor.clone().detach() or sourceTensor.clone().detach().requires_grad_(True), rather than tensor.new_tensor(sourceTensor).\n",
      "  decoder_attention_mask = decoder_input_ids.new_tensor(decoder_input_ids != self.config.pad_token_id)\n",
      "/Users/tatauntoro/anaconda3/lib/python3.11/site-packages/transformers/models/encoder_decoder/modeling_encoder_decoder.py:639: FutureWarning: Version v4.12.0 introduces a better way to train encoder-decoder models by computing the loss inside the encoder-decoder framework rather than in the decoder itself. You may observe training discrepancies if fine-tuning a model trained with versions anterior to 4.12.0. The decoder_input_ids are now created based on the labels, no need to pass them yourself anymore.\n",
      "  warnings.warn(DEPRECATION_WARNING, FutureWarning)\n"
     ]
    },
    {
     "data": {
      "text/plain": [
       "TrainOutput(global_step=1212, training_loss=9.620941867135933, metrics={'train_runtime': 2308.4668, 'train_samples_per_second': 8.399, 'train_steps_per_second': 0.525, 'total_flos': 2167087762944.0, 'train_loss': 9.620941867135933, 'epoch': 1.0})"
      ]
     },
     "execution_count": 56,
     "metadata": {},
     "output_type": "execute_result"
    }
   ],
   "source": [
    "trainer.train()"
   ]
  },
  {
   "cell_type": "markdown",
   "id": "ecff6a3d",
   "metadata": {},
   "source": [
    "### Result"
   ]
  },
  {
   "cell_type": "markdown",
   "id": "4dda75ea",
   "metadata": {},
   "source": [
    "Training Loss:\n",
    "- 9.427400\n",
    "\n",
    "Validation Loss:\n",
    "- 9.258271\n",
    "\n",
    "Notes:\n",
    "- Training was done by 10% training and test data. It's because hardware issue "
   ]
  },
  {
   "cell_type": "markdown",
   "id": "459f0a5d",
   "metadata": {},
   "source": [
    "## Summarization"
   ]
  },
  {
   "cell_type": "code",
   "execution_count": 63,
   "id": "cae313e0",
   "metadata": {},
   "outputs": [
    {
     "data": {
      "application/vnd.jupyter.widget-view+json": {
       "model_id": "a08a75cdc460453c8301c40289d3a2dc",
       "version_major": 2,
       "version_minor": 0
      },
      "text/plain": [
       "tokenizer_config.json:   0%|          | 0.00/62.0 [00:00<?, ?B/s]"
      ]
     },
     "metadata": {},
     "output_type": "display_data"
    },
    {
     "data": {
      "application/vnd.jupyter.widget-view+json": {
       "model_id": "9b20b356569741f49c897eadbde46b0b",
       "version_major": 2,
       "version_minor": 0
      },
      "text/plain": [
       "vocab.txt:   0%|          | 0.00/230k [00:00<?, ?B/s]"
      ]
     },
     "metadata": {},
     "output_type": "display_data"
    },
    {
     "data": {
      "application/vnd.jupyter.widget-view+json": {
       "model_id": "37f1d56ff1694f829cd5d9fdc6d7578c",
       "version_major": 2,
       "version_minor": 0
      },
      "text/plain": [
       "special_tokens_map.json:   0%|          | 0.00/112 [00:00<?, ?B/s]"
      ]
     },
     "metadata": {},
     "output_type": "display_data"
    },
    {
     "data": {
      "application/vnd.jupyter.widget-view+json": {
       "model_id": "6f14d2b7fb8644b69c543b573f05c214",
       "version_major": 2,
       "version_minor": 0
      },
      "text/plain": [
       "config.json:   0%|          | 0.00/4.26k [00:00<?, ?B/s]"
      ]
     },
     "metadata": {},
     "output_type": "display_data"
    },
    {
     "data": {
      "application/vnd.jupyter.widget-view+json": {
       "model_id": "5e67ef89a930423282384d8b898505d9",
       "version_major": 2,
       "version_minor": 0
      },
      "text/plain": [
       "pytorch_model.bin:   0%|          | 0.00/1.08G [00:00<?, ?B/s]"
      ]
     },
     "metadata": {},
     "output_type": "display_data"
    },
    {
     "name": "stderr",
     "output_type": "stream",
     "text": [
      "/Users/tatauntoro/anaconda3/lib/python3.11/site-packages/transformers/utils/generic.py:309: UserWarning: torch.utils._pytree._register_pytree_node is deprecated. Please use torch.utils._pytree.register_pytree_node instead.\n",
      "  _torch_pytree._register_pytree_node(\n"
     ]
    },
    {
     "name": "stdout",
     "output_type": "stream",
     "text": [
      "gubernur dki jakarta sutiyoso mengakui pendapatan pajak dari kendaraan bermotor khususnya mobil mewah tidak didapat dengan optimal. pemda jakarta akan bekerja sama dengan polda metro jaya untuk menangani sejumlah oknum yang membiarkan pemilik mobil\n"
     ]
    }
   ],
   "source": [
    "from transformers import BertTokenizer, EncoderDecoderModel\n",
    "\n",
    "tokenizer = BertTokenizer.from_pretrained(\"cahya/bert2gpt-indonesian-summarization\")\n",
    "tokenizer.bos_token = tokenizer.cls_token\n",
    "tokenizer.eos_token = tokenizer.sep_token\n",
    "model = EncoderDecoderModel.from_pretrained(\"cahya/bert2gpt-indonesian-summarization\")\n",
    "\n",
    "# \n",
    "ARTICLE_TO_SUMMARIZE = \"Liputan6 . com , Jakarta : Gubernur DKI Jakarta Sutiyoso mengakui , pendapatan pajak dari kendaraan bermotor khususnya mobil mewah tidak didapat dengan optimal . Guna meningkatkan Pendapatan Asli Daerah DKI Jakarta , sutiyoso meminta Kepala Dinas Pendapatan Daerah menertibkan penerimaan pajak mobil mewah yang selama ini dinilai tak transparan . Penegasan ini disampaikannya seusai meresmikan Gedung Kantor Bersama Samsat Unit Pelayanan Pajak Kendaraan Bermotor dan Bea Balik Nama Kendaraan Bermotor di Jakarta Barat , Jumat ( 27/10 ) . Pajak mobil mewah , kata Sutiyoso , seharusnya dapat dioptimalkan seiring dengan banyaknya mobil mewah yang masuk ke Indonesia . Selama ini pemilik mobil mewah membayar pajaknya melalui oknum dengan biaya lebih murah . Karena itu , Pemerintah Daerah Jakarta akan bekerja sama dengan Kepolisian Daerah Metro Jaya untuk menangani sejumlah oknum yang membiarkan pemilik mobil mewah tidak membayar pajak . Menurut Sutiyoso , pajak kendaraan bermotor adalah andalan utama PAD DKI Jakarta . Pemilik mobil mewah sudah sepantasnya dikenakan pajak lebih mahal karena mereka tergolong orang kaya . ( ULF/Insan Kamil dan Satya Pandia ) .\"\n",
    "\n",
    "# generate summary\n",
    "input_ids = tokenizer.encode(ARTICLE_TO_SUMMARIZE, return_tensors='pt')\n",
    "summary_ids = model.generate(input_ids,\n",
    "            min_length=20,\n",
    "            max_length=80, \n",
    "            num_beams=10,\n",
    "            repetition_penalty=2.5, \n",
    "            length_penalty=1.0, \n",
    "            early_stopping=True,\n",
    "            no_repeat_ngram_size=2,\n",
    "            use_cache=True,\n",
    "            do_sample = True,\n",
    "            temperature = 0.8,\n",
    "            top_k = 50,\n",
    "            top_p = 0.95)\n",
    "\n",
    "summary_text = tokenizer.decode(summary_ids[0], skip_special_tokens=True)\n",
    "print(summary_text)"
   ]
  },
  {
   "cell_type": "code",
   "execution_count": 65,
   "id": "2654f93c",
   "metadata": {},
   "outputs": [],
   "source": [
    "article = \"\"\"\n",
    "    Liputan6 . com , Jakarta : Keinginan untuk menindaklanjuti hasil curah pendapat yang diprakarsai Kwik Kian Gie , semakin mengental . Buktinya , beberapa anggota DPR ngebet membentuk Forum Lobi . Ketua DPR Akbar Tandjung baru-baru ini , mempersilakan para wakil rakyat yang ingin membentuk forum tersebut . Namun , Akbar menegaskan , pembentukan forum tersebut bukan bagian dari mekanisme DPR . Menurut Akbar , hasil curah pendapat 11 November silam , bisa saja dimasukkan dalam agenda dewan . Asalkan , kata Ketua Umum Golkar ini , semua proses harus berjalan sesuai prosedur yang ada . Artinya , itu harus disepakati melalui rapat fraksi dan dibawa ke Badan Musyawarah . \" Bila Bamus telah merumuskannya menjadi sebuah usulan agenda , maka dapat dibawa ke rapat paripurna yang nantinya akan menjadi agenda DPR , \" kata Akbar . ( YYT/Diah Kusuma dan Prihandoyo ) .\n",
    "\"\"\"\n",
    "summary = \"\"\"\n",
    "    Sebagian anggota DPR berniat besar menindaklanjuti hasil curah pendapat menjadi agenda dewan . Akbar Tandjung setuju membentuk Forum Lobi , asal , sesuai prosedur yang ada di DPR\n",
    "\"\"\""
   ]
  },
  {
   "cell_type": "code",
   "execution_count": 66,
   "id": "143e0c56",
   "metadata": {},
   "outputs": [],
   "source": [
    "def predict_summary(document):\n",
    "  device = model.device\n",
    "  tokenized = tokenizer([document], max_length=512, truncation =True, padding ='longest',return_tensors='pt')\n",
    "  tokenized = {k: v.to(device) for k, v in tokenized.items()}\n",
    "  tokenized_result = model.generate(**tokenized, max_length=128)\n",
    "  tokenized_result = tokenized_result.to('cpu')\n",
    "  predicted_summary = tokenizer.decode(tokenized_result[0])\n",
    "  return predicted_summary"
   ]
  },
  {
   "cell_type": "code",
   "execution_count": 67,
   "id": "0fb2349c",
   "metadata": {},
   "outputs": [],
   "source": [
    "predicted_summary = predict_summary(article)"
   ]
  },
  {
   "cell_type": "code",
   "execution_count": 68,
   "id": "dba0c1ea",
   "metadata": {},
   "outputs": [
    {
     "data": {
      "text/plain": [
       "'[CLS] keinginan untuk menindaklanjuti hasil curah pendapat yang diprakarsai kwik kian gie, semakin mengental. ketua dpr akbar tandjung mempersilakan para wakil rakyat yang ingin membentuk forum lobi [SEP]'"
      ]
     },
     "execution_count": 68,
     "metadata": {},
     "output_type": "execute_result"
    }
   ],
   "source": [
    "predicted_summary"
   ]
  },
  {
   "cell_type": "code",
   "execution_count": 69,
   "id": "104a8e72",
   "metadata": {},
   "outputs": [
    {
     "data": {
      "text/plain": [
       "'\\n    Sebagian anggota DPR berniat besar menindaklanjuti hasil curah pendapat menjadi agenda dewan . Akbar Tandjung setuju membentuk Forum Lobi , asal , sesuai prosedur yang ada di DPR\\n'"
      ]
     },
     "execution_count": 69,
     "metadata": {},
     "output_type": "execute_result"
    }
   ],
   "source": [
    "summary"
   ]
  },
  {
   "cell_type": "markdown",
   "id": "d4e7f09b",
   "metadata": {},
   "source": [
    "## Evaluation"
   ]
  },
  {
   "cell_type": "code",
   "execution_count": 78,
   "id": "bcf396de",
   "metadata": {},
   "outputs": [],
   "source": [
    "from rouge import Rouge\n",
    "\n",
    "def get_rouge_scores(actual_summary, predicted_summary):\n",
    "    rouge = Rouge()\n",
    "    scores = rouge.get_scores(predicted_summary, actual_summary)\n",
    "    return [scores[0]['rouge-1']['f'], scores[0]['rouge-2']['f'], scores[0]['rouge-l']['f']]"
   ]
  },
  {
   "cell_type": "code",
   "execution_count": 79,
   "id": "2db3f309",
   "metadata": {},
   "outputs": [
    {
     "name": "stderr",
     "output_type": "stream",
     "text": [
      "100%|█████████████████████████████████████████████████████████████████████| 1097/1097 [1:50:46<00:00,  6.06s/it]\n"
     ]
    }
   ],
   "source": [
    "# rouge score of validation data\n",
    "\n",
    "from tqdm import tqdm\n",
    "import pandas as pd\n",
    "\n",
    "rouge1_scores = []\n",
    "rouge2_scores = []\n",
    "rougel_scores = []\n",
    "\n",
    "pred_summary_list = []\n",
    "\n",
    "for i in tqdm(range(len(tokenized_canonical_test['clean_summary']))):\n",
    "\n",
    "  doc = tokenized_canonical_test['clean_article'][i]\n",
    "  pred_summary = predict_summary(doc)\n",
    "  human_summary = tokenized_canonical_test['clean_summary'][i]\n",
    "\n",
    "  score = get_rouge_scores(human_summary, pred_summary)\n",
    "\n",
    "  rouge1_scores.append(score[0])\n",
    "  rouge2_scores.append(score[1])\n",
    "  rougel_scores.append(score[2])\n",
    "\n",
    "  pred_summary_list.append(pred_summary)\n",
    "\n",
    "eval = pd.DataFrame({\n",
    "    \"pred_summary\" : pred_summary_list,\n",
    "    \"rouge1\" : rouge1_scores,\n",
    "    \"rouge2\" : rouge2_scores,\n",
    "    \"rougel\" : rougel_scores,\n",
    "})\n"
   ]
  },
  {
   "cell_type": "code",
   "execution_count": 80,
   "id": "36r56j50NK1C",
   "metadata": {
    "colab": {
     "base_uri": "https://localhost:8080/"
    },
    "id": "36r56j50NK1C",
    "outputId": "6df232c8-43ae-4b49-cc55-234f8c7a6d73"
   },
   "outputs": [
    {
     "data": {
      "text/plain": [
       "0.24273178594926"
      ]
     },
     "execution_count": 80,
     "metadata": {},
     "output_type": "execute_result"
    }
   ],
   "source": [
    "# average rouge 1\n",
    "eval['rouge1'].mean()"
   ]
  },
  {
   "cell_type": "code",
   "execution_count": 81,
   "id": "b8aHM_9WNgrr",
   "metadata": {
    "colab": {
     "base_uri": "https://localhost:8080/"
    },
    "id": "b8aHM_9WNgrr",
    "outputId": "4d18c6c0-a70e-4181-c85d-02f979b75dc3"
   },
   "outputs": [
    {
     "data": {
      "text/plain": [
       "0.10311634728285245"
      ]
     },
     "execution_count": 81,
     "metadata": {},
     "output_type": "execute_result"
    }
   ],
   "source": [
    "# average rouge 2\n",
    "eval['rouge2'].mean()"
   ]
  },
  {
   "cell_type": "code",
   "execution_count": 82,
   "id": "JgNtP8sTNdct",
   "metadata": {
    "colab": {
     "base_uri": "https://localhost:8080/"
    },
    "id": "JgNtP8sTNdct",
    "outputId": "90a5e216-c4f2-468f-b77d-300ce6b5eab8"
   },
   "outputs": [
    {
     "data": {
      "text/plain": [
       "0.2275334810607534"
      ]
     },
     "execution_count": 82,
     "metadata": {},
     "output_type": "execute_result"
    }
   ],
   "source": [
    "# average rouge l\n",
    "eval['rougel'].mean()"
   ]
  },
  {
   "cell_type": "code",
   "execution_count": 83,
   "id": "sqW3xp0GNQa0",
   "metadata": {
    "colab": {
     "base_uri": "https://localhost:8080/",
     "height": 424
    },
    "id": "sqW3xp0GNQa0",
    "outputId": "3f2824d0-ea9b-4616-e4d4-fa6ecbc3825d"
   },
   "outputs": [
    {
     "data": {
      "text/html": [
       "<div>\n",
       "<style scoped>\n",
       "    .dataframe tbody tr th:only-of-type {\n",
       "        vertical-align: middle;\n",
       "    }\n",
       "\n",
       "    .dataframe tbody tr th {\n",
       "        vertical-align: top;\n",
       "    }\n",
       "\n",
       "    .dataframe thead th {\n",
       "        text-align: right;\n",
       "    }\n",
       "</style>\n",
       "<table border=\"1\" class=\"dataframe\">\n",
       "  <thead>\n",
       "    <tr style=\"text-align: right;\">\n",
       "      <th></th>\n",
       "      <th>pred_summary</th>\n",
       "      <th>rouge1</th>\n",
       "      <th>rouge2</th>\n",
       "      <th>rougel</th>\n",
       "    </tr>\n",
       "  </thead>\n",
       "  <tbody>\n",
       "    <tr>\n",
       "      <th>0</th>\n",
       "      <td>[CLS] pengamat politik dewi fortuna anwar mengatakan, ada empat faktor penyebab jatuhnya gus dur. ia juga tak mendapat dukungan dari militer. gus dur juga dianggap kalah dalam pertarungan antarelite politik. [SEP]</td>\n",
       "      <td>0.120000</td>\n",
       "      <td>0.000000</td>\n",
       "      <td>0.120000</td>\n",
       "    </tr>\n",
       "    <tr>\n",
       "      <th>1</th>\n",
       "      <td>[CLS] mantan presiden abdurrahman wahid menilai kabinet gotong royong masih diisi orang - orang bermasalah yang seharusnya tidak berada di kabinet. beberapa menteri masih terlibat persoalan hukum. [SEP]</td>\n",
       "      <td>0.208333</td>\n",
       "      <td>0.080000</td>\n",
       "      <td>0.208333</td>\n",
       "    </tr>\n",
       "    <tr>\n",
       "      <th>2</th>\n",
       "      <td>[CLS] bank muamalat berencana meningkatkan kredit sebesar rp 1 triliun atau naik 63 persen dibanding tahun 1999. manajemen tak akan menurunkan jumlah kredit, hanya berupaya menambah modal sebesar rp 200 miliar. [SEP]</td>\n",
       "      <td>0.350877</td>\n",
       "      <td>0.070175</td>\n",
       "      <td>0.315789</td>\n",
       "    </tr>\n",
       "    <tr>\n",
       "      <th>3</th>\n",
       "      <td>[CLS] secara keseluruhan lawatan presiden megawati sukarnoputri ke amerika serikat dan jepang mendapat dukungan untuk menyelesaikan masalah pembangunan dan persoalan - persoalan yang terjadi di indonesia. [SEP]</td>\n",
       "      <td>0.212766</td>\n",
       "      <td>0.040000</td>\n",
       "      <td>0.170213</td>\n",
       "    </tr>\n",
       "    <tr>\n",
       "      <th>4</th>\n",
       "      <td>[CLS] presiden abdurrahman wahid akan menunjuk marsilam simanjuntak sebagai jaksa agung menggantikan lopa. sedangkan posisi mantan pejabat lbh dan hak asasi manusia akan digantikan menteri dalam negeri. [SEP]</td>\n",
       "      <td>0.000000</td>\n",
       "      <td>0.000000</td>\n",
       "      <td>0.000000</td>\n",
       "    </tr>\n",
       "    <tr>\n",
       "      <th>...</th>\n",
       "      <td>...</td>\n",
       "      <td>...</td>\n",
       "      <td>...</td>\n",
       "      <td>...</td>\n",
       "    </tr>\n",
       "    <tr>\n",
       "      <th>1092</th>\n",
       "      <td>[CLS] banyak cara mengungkapkan rasa syukur atas anugerah sang pencipta. salah satunya dengan menggelar balap burung merpati. merpati aduan juga memerlukan telur kampung dan jamu tradisional. [SEP]</td>\n",
       "      <td>0.117647</td>\n",
       "      <td>0.000000</td>\n",
       "      <td>0.117647</td>\n",
       "    </tr>\n",
       "    <tr>\n",
       "      <th>1093</th>\n",
       "      <td>[CLS] gedung land xiii, tempat mantan presiden sukarno diadili, hingga kini masih berdiri kokoh dengan konstruksi asli. semua bagian gedung tetap dipertahankan seperti ketika pertama kali dibangun. [SEP]</td>\n",
       "      <td>0.076923</td>\n",
       "      <td>0.000000</td>\n",
       "      <td>0.076923</td>\n",
       "    </tr>\n",
       "    <tr>\n",
       "      <th>1094</th>\n",
       "      <td>[CLS] setelah menyala secara normal sekitar enam bulan, pln tanjungkarang, lampung kembali melakukan pemadaman aliran listrik secara bergiliran. langkah tersebut diprotes masyarakat setempat karena tidak ada pemberitahuan jadwal. [SEP]</td>\n",
       "      <td>0.326531</td>\n",
       "      <td>0.250000</td>\n",
       "      <td>0.326531</td>\n",
       "    </tr>\n",
       "    <tr>\n",
       "      <th>1095</th>\n",
       "      <td>[CLS] setelah jajak pendapat di timtim selesai, untaet masih mempercayai pertamina untuk menyuplai bahan akar minyak ke sana. pertamina meraup keuntungan sekitar rp 4 miliar setiap bulan dengan menggunakan standar harga dolar amroz [SEP]</td>\n",
       "      <td>0.370370</td>\n",
       "      <td>0.181818</td>\n",
       "      <td>0.370370</td>\n",
       "    </tr>\n",
       "    <tr>\n",
       "      <th>1096</th>\n",
       "      <td>[CLS] polri kesulitan memberantas peredaran petasan di masyarakat. pasalnya, pembuat dan penjual petasan kerap berpindah - pindah tempat operasi. [SEP]</td>\n",
       "      <td>0.232558</td>\n",
       "      <td>0.139535</td>\n",
       "      <td>0.232558</td>\n",
       "    </tr>\n",
       "  </tbody>\n",
       "</table>\n",
       "<p>1097 rows × 4 columns</p>\n",
       "</div>"
      ],
      "text/plain": [
       "                                                                                                                                                                                                                                       pred_summary  \\\n",
       "0                             [CLS] pengamat politik dewi fortuna anwar mengatakan, ada empat faktor penyebab jatuhnya gus dur. ia juga tak mendapat dukungan dari militer. gus dur juga dianggap kalah dalam pertarungan antarelite politik. [SEP]   \n",
       "1                                        [CLS] mantan presiden abdurrahman wahid menilai kabinet gotong royong masih diisi orang - orang bermasalah yang seharusnya tidak berada di kabinet. beberapa menteri masih terlibat persoalan hukum. [SEP]   \n",
       "2                          [CLS] bank muamalat berencana meningkatkan kredit sebesar rp 1 triliun atau naik 63 persen dibanding tahun 1999. manajemen tak akan menurunkan jumlah kredit, hanya berupaya menambah modal sebesar rp 200 miliar. [SEP]   \n",
       "3                                [CLS] secara keseluruhan lawatan presiden megawati sukarnoputri ke amerika serikat dan jepang mendapat dukungan untuk menyelesaikan masalah pembangunan dan persoalan - persoalan yang terjadi di indonesia. [SEP]   \n",
       "4                                  [CLS] presiden abdurrahman wahid akan menunjuk marsilam simanjuntak sebagai jaksa agung menggantikan lopa. sedangkan posisi mantan pejabat lbh dan hak asasi manusia akan digantikan menteri dalam negeri. [SEP]   \n",
       "...                                                                                                                                                                                                                                             ...   \n",
       "1092                                          [CLS] banyak cara mengungkapkan rasa syukur atas anugerah sang pencipta. salah satunya dengan menggelar balap burung merpati. merpati aduan juga memerlukan telur kampung dan jamu tradisional. [SEP]   \n",
       "1093                                    [CLS] gedung land xiii, tempat mantan presiden sukarno diadili, hingga kini masih berdiri kokoh dengan konstruksi asli. semua bagian gedung tetap dipertahankan seperti ketika pertama kali dibangun. [SEP]   \n",
       "1094    [CLS] setelah menyala secara normal sekitar enam bulan, pln tanjungkarang, lampung kembali melakukan pemadaman aliran listrik secara bergiliran. langkah tersebut diprotes masyarakat setempat karena tidak ada pemberitahuan jadwal. [SEP]   \n",
       "1095  [CLS] setelah jajak pendapat di timtim selesai, untaet masih mempercayai pertamina untuk menyuplai bahan akar minyak ke sana. pertamina meraup keuntungan sekitar rp 4 miliar setiap bulan dengan menggunakan standar harga dolar amroz [SEP]   \n",
       "1096                                                                                        [CLS] polri kesulitan memberantas peredaran petasan di masyarakat. pasalnya, pembuat dan penjual petasan kerap berpindah - pindah tempat operasi. [SEP]   \n",
       "\n",
       "        rouge1    rouge2    rougel  \n",
       "0     0.120000  0.000000  0.120000  \n",
       "1     0.208333  0.080000  0.208333  \n",
       "2     0.350877  0.070175  0.315789  \n",
       "3     0.212766  0.040000  0.170213  \n",
       "4     0.000000  0.000000  0.000000  \n",
       "...        ...       ...       ...  \n",
       "1092  0.117647  0.000000  0.117647  \n",
       "1093  0.076923  0.000000  0.076923  \n",
       "1094  0.326531  0.250000  0.326531  \n",
       "1095  0.370370  0.181818  0.370370  \n",
       "1096  0.232558  0.139535  0.232558  \n",
       "\n",
       "[1097 rows x 4 columns]"
      ]
     },
     "execution_count": 83,
     "metadata": {},
     "output_type": "execute_result"
    }
   ],
   "source": [
    "eval"
   ]
  },
  {
   "cell_type": "code",
   "execution_count": null,
   "id": "6a255235",
   "metadata": {},
   "outputs": [],
   "source": []
  }
 ],
 "metadata": {
  "kernelspec": {
   "display_name": "Python 3 (ipykernel)",
   "language": "python",
   "name": "python3"
  },
  "language_info": {
   "codemirror_mode": {
    "name": "ipython",
    "version": 3
   },
   "file_extension": ".py",
   "mimetype": "text/x-python",
   "name": "python",
   "nbconvert_exporter": "python",
   "pygments_lexer": "ipython3",
   "version": "3.11.4"
  }
 },
 "nbformat": 4,
 "nbformat_minor": 5
}
